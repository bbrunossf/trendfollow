{
 "cells": [
  {
   "cell_type": "code",
   "execution_count": null,
   "id": "50a5352d-f736-4800-80a3-381bef73a7f8",
   "metadata": {},
   "outputs": [],
   "source": [
    "#Nota:\n",
    "#o código abaixo foi adaptado para rodar no jupyter lab.\n",
    "#as linhas referentes ao Streamlit foram comentadas"
   ]
  },
  {
   "cell_type": "markdown",
   "id": "d2c56019-1c6d-4851-9549-81c198dd4e2b",
   "metadata": {},
   "source": [
    "# Install"
   ]
  },
  {
   "cell_type": "code",
   "execution_count": null,
   "id": "08c9a14c-7bf3-47cd-8d8f-cde4bfe46548",
   "metadata": {},
   "outputs": [],
   "source": [
    "#!pip install -q yfinance\n",
    "#!pip install -q cufflinks\n",
    "#!pip install -q ta\n",
    "#!pip install -q -U kaleido #para salvar o gráfico em imagem estática"
   ]
  },
  {
   "cell_type": "markdown",
   "id": "8b055402-e1b3-4756-94a2-ff5aa6fba5f0",
   "metadata": {},
   "source": [
    "# Import"
   ]
  },
  {
   "cell_type": "code",
   "execution_count": 1,
   "id": "356e11a5-0dc3-4555-8cb3-75c9a0cacb48",
   "metadata": {},
   "outputs": [],
   "source": [
    "#import streamlit as st\n",
    "import yfinance as yf #para baixar preços dos ativos\n",
    "from datetime import datetime, timedelta\n",
    "import requests\n",
    "import pandas as pd\n",
    "import numpy as np\n",
    "import math\n",
    "\n",
    "import plotly.graph_objects as go\n",
    "from plotly.subplots import make_subplots\n",
    "import ta\n",
    "#from ta.momentum import StochasticOscillator\n",
    "\n",
    "import cufflinks as cf\n",
    "import plotly.express as px\n",
    "import plotly.io as pio \n",
    "\n",
    "\n",
    "import ipywidgets as widgets"
   ]
  },
  {
   "cell_type": "markdown",
   "id": "af0935b1-9be8-43dc-96a5-16eb1cda0816",
   "metadata": {},
   "source": [
    "# Funções"
   ]
  },
  {
   "cell_type": "code",
   "execution_count": 2,
   "id": "aafcf8a4-948b-4c8a-9991-9f26c5e4691c",
   "metadata": {},
   "outputs": [],
   "source": [
    "#calcular as 6 datas necessárias\n",
    "def list_useful_dates(reference_date):\n",
    "    useful_dates = []\n",
    "    useful_dates.append(reference_date - timedelta(days=1)) #1 dia antes\n",
    "    for i in range(1, 6): #6 = 5 datas +1, exclusive\n",
    "        # Calcula a nova data baseada na data de referência e no espaçamento de 30 dias\n",
    "        new_date = reference_date - timedelta(days=i * 30)        \n",
    "        useful_dates.append(new_date)\n",
    "    return useful_dates"
   ]
  },
  {
   "cell_type": "code",
   "execution_count": 3,
   "id": "c7ccd7ae-6e5c-4c14-901e-ab9e4b04023e",
   "metadata": {},
   "outputs": [],
   "source": [
    "#verificar se as datas calculadas são válidas\n",
    "def verifica_datas(result, lista_data):\n",
    "    print(\"calculando as datas úteis...\")\n",
    "    for entry in result:\n",
    "        z = entry\n",
    "        zz = z + timedelta(days=1)        \n",
    "    \n",
    "        while True:\n",
    "            data1 = pd.DataFrame(yf.download('VALE3.SA', start=z, end=zz, progress=False)['Adj Close'])\n",
    "            \n",
    "            if data1.shape[0] > 0:\n",
    "                lista_data = pd.concat([lista_data, data1])\n",
    "                break  # Saia do loop interno se os dados foram baixados com sucesso\n",
    "                \n",
    "            print(f'{data1.shape[1]} datas válidas')\n",
    "            new_date_z = z - timedelta(days=1)\n",
    "            new_date_zz = new_date_z + timedelta(days=1)\n",
    "            print(\"Data inválida. Obtendo novos valores...\")\n",
    "                        \n",
    "            z = new_date_z\n",
    "            zz = new_date_zz    \n",
    "    return(lista_data)\n",
    "    print(\"datas ok!\")"
   ]
  },
  {
   "cell_type": "code",
   "execution_count": 4,
   "id": "657f6f84-c537-454a-bb8a-1e18fd0e8dc2",
   "metadata": {},
   "outputs": [],
   "source": [
    "#restrições definidas para seleção dos ativos\n",
    "volume_min = 200_000\n",
    "preco_min = 3\n",
    "\n",
    "#função para baixar nomes dos ativos\n",
    "def dados_brapi():\n",
    "    r = requests.post('https://brapi.dev/api/quote/list?sortBy=name')\n",
    "    res = r.json() #transforma em dados legiveis\n",
    "    global df #pra poder usar fora da função\n",
    "    df = pd.DataFrame.from_dict(res['stocks']) #cria dataframe a partir da key do dict da lista 'res'\n",
    "    df = df[ (df['volume'] > volume_min) &  (df['close'] > preco_min) ]\n",
    "    return df"
   ]
  },
  {
   "cell_type": "code",
   "execution_count": 5,
   "id": "459489c8-66ae-4202-a4fc-67f159794984",
   "metadata": {},
   "outputs": [],
   "source": [
    "#função para criar lista de ativos para usar no yfinance\n",
    "def lista():\n",
    "    sfx = '.SA'\n",
    "    acoess = df2['stock'].apply(lambda x: f\"{x}{sfx}\").values.tolist()\n",
    "    return acoess"
   ]
  },
  {
   "cell_type": "code",
   "execution_count": 6,
   "id": "92d08d63-e73b-400b-a8b6-2515a812cbd2",
   "metadata": {},
   "outputs": [],
   "source": [
    "#função para baixar os preços dos ativos com yfinance\n",
    "def baixa():\n",
    "    data_yf = yf.download(acoess, start=inicio, end=fim, progress=False)['Adj Close'] #só a coluna que interessa\n",
    "    return data_yf"
   ]
  },
  {
   "cell_type": "code",
   "execution_count": 7,
   "id": "3d2082ae-7a2b-460f-8987-32d20b0aa53b",
   "metadata": {},
   "outputs": [],
   "source": [
    "#função para calcular o fator de ponderação\n",
    "def calcular_resultado(row):    \n",
    "    varx5 = (row.iloc[1] / row.iloc[6]) - 1 #lembrando que o mês 5 está na coluna 1\n",
    "    varx4 = (row.iloc[2] / row.iloc[6]) - 1 #lembrando que o mês 4 está na coluna 2\n",
    "    varx3 = (row.iloc[3] / row.iloc[6]) - 1 #lembrando que o mês 3 está na coluna 3\n",
    "    varx2 = (row.iloc[4] / row.iloc[6]) - 1 #lembrando que o mês 2 está na coluna 4\n",
    "    varx1 = (row.iloc[5] / row.iloc[6]) - 1 #lembrando que o mês 1 está na coluna 5\n",
    "    return (varx5*math.sqrt(5) + varx4*math.sqrt(4) + varx3*math.sqrt(3) + varx2*math.sqrt(2) + varx1*math.sqrt(1) ) / 8.382"
   ]
  },
  {
   "cell_type": "code",
   "execution_count": 8,
   "id": "27ce865a-9a57-41b7-b25e-5bbc28789a18",
   "metadata": {},
   "outputs": [],
   "source": [
    "#função para verificar o indicador MACD\n",
    "def calcula_macd():            \n",
    "    for simbolo, dadosx in todos_dados.items():\n",
    "        p = dadosx.iloc[-1]  # ultimo preço\n",
    "        macd = ta.trend.macd(dadosx)\n",
    "        # verifica se macd está ascendente ou descendente\n",
    "        if macd.iloc[-1] > 0 and macd.iloc[-1] > macd.iloc[-2]:         \n",
    "            print(f'{simbolo}: MACD positivo ascendente, R${p}') #pra mostrar o preço também"
   ]
  },
  {
   "cell_type": "code",
   "execution_count": 9,
   "id": "0eef80b5-7801-4afd-b8d8-34b4c7b9322e",
   "metadata": {},
   "outputs": [],
   "source": [
    "#função para baixar os dados da lista para criar o gráfico\n",
    "def baixa_lista():    \n",
    "    bleh = yf.download(lista, start=inicio, end=fim, progress=True)        \n",
    "    return bleh"
   ]
  },
  {
   "cell_type": "markdown",
   "id": "5550312a-9474-4952-bbe5-3dc33f54c8d5",
   "metadata": {},
   "source": [
    "## Data de Referência"
   ]
  },
  {
   "cell_type": "code",
   "execution_count": null,
   "id": "b3a245b6-5c01-4360-a6ac-ec1df45a7331",
   "metadata": {},
   "outputs": [],
   "source": [
    "# reference_date = st.date_input(\"Digite a data de referência:\")\n",
    "\n",
    "# if reference_date:    \n",
    "#     result = list_useful_dates(reference_date)    "
   ]
  },
  {
   "cell_type": "code",
   "execution_count": 10,
   "id": "400b7d46-0900-405d-8716-e4beafef0cde",
   "metadata": {},
   "outputs": [
    {
     "data": {
      "application/vnd.jupyter.widget-view+json": {
       "model_id": "dcacc2107e044bdb8f36f361f64ac3e8",
       "version_major": 2,
       "version_minor": 0
      },
      "text/plain": [
       "DatePicker(value=None, description='Selecione uma data:', step=1)"
      ]
     },
     "metadata": {},
     "output_type": "display_data"
    }
   ],
   "source": [
    "# Variável global para armazenar a data selecionada\n",
    "reference_date = None\n",
    "\n",
    "# Cria um DatePicker\n",
    "date_picker = widgets.DatePicker(\n",
    "    description='Selecione uma data:',\n",
    "    disabled=False\n",
    ")\n",
    "\n",
    "# Função para obter a data selecionada\n",
    "def get_selected_date(change):\n",
    "    global reference_date\n",
    "    reference_date = change['new']\n",
    "    \n",
    "# Conecta a função ao evento de mudança do DatePicker\n",
    "date_picker.observe(get_selected_date, names='value')\n",
    "\n",
    "# Exibe o DatePicker\n",
    "display(date_picker)"
   ]
  },
  {
   "cell_type": "code",
   "execution_count": 11,
   "id": "1c143f8f-8d47-4e34-88ff-e63589e42bb3",
   "metadata": {},
   "outputs": [
    {
     "name": "stdout",
     "output_type": "stream",
     "text": [
      "2024-06-01\n"
     ]
    }
   ],
   "source": [
    "print(reference_date)"
   ]
  },
  {
   "cell_type": "code",
   "execution_count": 12,
   "id": "e19ed349-ede1-48eb-8a49-b45c72c4684a",
   "metadata": {},
   "outputs": [],
   "source": [
    "if reference_date:    \n",
    "    result = list_useful_dates(reference_date) "
   ]
  },
  {
   "cell_type": "code",
   "execution_count": null,
   "id": "29820a89-6cf9-492b-980f-997390a1aa04",
   "metadata": {},
   "outputs": [],
   "source": [
    "#check para debug\n",
    "result"
   ]
  },
  {
   "cell_type": "markdown",
   "id": "891651e9-ee97-4361-a172-09f2bd458eda",
   "metadata": {},
   "source": [
    "# Código"
   ]
  },
  {
   "cell_type": "code",
   "execution_count": 13,
   "id": "6066bb0d-0004-4307-8c9b-8a6834f9bd2c",
   "metadata": {},
   "outputs": [
    {
     "name": "stdout",
     "output_type": "stream",
     "text": [
      "baixando dados de todos os ativos (volume mínimo de R\\$200,000.00, preço mínimo de R\\$3.00)\n",
      "Obtidos os valores, excluindo ativos com '11'\n"
     ]
    }
   ],
   "source": [
    "print(f\"baixando dados de todos os ativos (volume mínimo de R\\${volume_min:,.2f}, preço mínimo de R\\${preco_min:.2f})\")\n",
    "df2 = dados_brapi()\n",
    "df2 = df2[['stock', 'name', 'close', 'sector', 'volume']].sort_values(by='stock')\n",
    "#retirar as que tem 11 no nome\n",
    "# filter the rows that contain the substring\n",
    "substring = '11'\n",
    "filter = df2['stock'].str.contains(substring)\n",
    "filtered_df = df2[~filter]\n",
    "df2 = filtered_df\n",
    "print(\"Obtidos os valores, excluindo ativos com '11'\")"
   ]
  },
  {
   "cell_type": "code",
   "execution_count": null,
   "id": "73a86714-2dfa-4000-af5e-b3546f8712d1",
   "metadata": {},
   "outputs": [],
   "source": [
    "#check para debug\n",
    "df2.head()"
   ]
  },
  {
   "cell_type": "code",
   "execution_count": 14,
   "id": "1f145cf1-3379-4a16-be5b-2859aae4a9eb",
   "metadata": {},
   "outputs": [],
   "source": [
    "lista_data = pd.DataFrame(columns=['Adj Close'])"
   ]
  },
  {
   "cell_type": "code",
   "execution_count": 15,
   "id": "4e878938-38b6-4ff1-9e43-cc7eb37d864c",
   "metadata": {},
   "outputs": [
    {
     "name": "stdout",
     "output_type": "stream",
     "text": [
      "calculando as datas úteis...\n"
     ]
    },
    {
     "name": "stderr",
     "output_type": "stream",
     "text": [
      "C:\\Users\\bruno\\AppData\\Local\\Temp\\ipykernel_1680\\4159870649.py:12: FutureWarning:\n",
      "\n",
      "The behavior of array concatenation with empty entries is deprecated. In a future version, this will no longer exclude empty items when determining the result dtype. To retain the old behavior, exclude the empty entries before the concat operation.\n",
      "\n",
      "C:\\Users\\bruno\\AppData\\Local\\Temp\\ipykernel_1680\\4159870649.py:12: FutureWarning:\n",
      "\n",
      "The behavior of DataFrame concatenation with empty or all-NA entries is deprecated. In a future version, this will no longer exclude empty or all-NA columns when determining the result dtypes. To retain the old behavior, exclude the relevant entries before the concat operation.\n",
      "\n",
      "\n",
      "1 Failed download:\n",
      "['VALE3.SA']: YFPricesMissingError('$%ticker%: possibly delisted; No price data found  (1d 2024-03-03 -> 2024-03-04)')\n"
     ]
    },
    {
     "name": "stdout",
     "output_type": "stream",
     "text": [
      "$VALE3.SA: possibly delisted; No price data found  (1d 2024-03-03 -> 2024-03-04)\n",
      "1 datas válidas\n",
      "Data inválida. Obtendo novos valores...\n"
     ]
    },
    {
     "name": "stderr",
     "output_type": "stream",
     "text": [
      "\n",
      "1 Failed download:\n",
      "['VALE3.SA']: YFPricesMissingError('$%ticker%: possibly delisted; No price data found  (1d 2024-03-02 -> 2024-03-03)')\n"
     ]
    },
    {
     "name": "stdout",
     "output_type": "stream",
     "text": [
      "$VALE3.SA: possibly delisted; No price data found  (1d 2024-03-02 -> 2024-03-03)1 datas válidas\n",
      "Data inválida. Obtendo novos valores...\n",
      "\n",
      "1 datas válidas\n",
      "Data inválida. Obtendo novos valores...\n"
     ]
    }
   ],
   "source": [
    "lista_data = verifica_datas(result, lista_data)"
   ]
  },
  {
   "cell_type": "code",
   "execution_count": 16,
   "id": "bac819e8-7eec-48c6-8b06-7aa4662d3b31",
   "metadata": {},
   "outputs": [
    {
     "data": {
      "text/plain": [
       "(6, 1)"
      ]
     },
     "execution_count": 16,
     "metadata": {},
     "output_type": "execute_result"
    }
   ],
   "source": [
    "#check para debug\n",
    "lista_data.shape"
   ]
  },
  {
   "cell_type": "code",
   "execution_count": 17,
   "id": "a4350e54-8f2c-4263-bb0d-0c45ca20c2a9",
   "metadata": {},
   "outputs": [],
   "source": [
    "acoess = lista() #ajustados os nomes dos ativos para uso no yfinance\n",
    "        \n",
    "inicio = lista_data.index[-1] #ultimo da lista\n",
    "fim = lista_data.index[0] + timedelta(days=1) #1 dia a mais do primeiro da lista, exclusive"
   ]
  },
  {
   "cell_type": "code",
   "execution_count": null,
   "id": "be3b1fae-54f1-4b19-996e-9ababf9dd8c2",
   "metadata": {},
   "outputs": [],
   "source": [
    "#check para debug\n",
    "print(len(acoess))\n",
    "print(inicio)\n",
    "print(fim)"
   ]
  },
  {
   "cell_type": "code",
   "execution_count": 18,
   "id": "730e0967-5add-4961-ac0b-5dbc424f4973",
   "metadata": {},
   "outputs": [
    {
     "name": "stderr",
     "output_type": "stream",
     "text": [
      "\n",
      "1 Failed download:\n",
      "['BBAS3F.SA']: YFInvalidPeriodError(\"%ticker%: Period 'max' is invalid, must be one of ['1d', '5d']\")\n"
     ]
    }
   ],
   "source": [
    "data_yf = baixa() #baixa os preços de todos os ativos, no intervalo de 6 meses\n",
    "data_yf.dropna(axis=1, inplace=True) #retira os vazios\n",
    "dfxx = data_yf.loc[data_yf.index.isin(lista_data.index)]   "
   ]
  },
  {
   "cell_type": "code",
   "execution_count": null,
   "id": "bb26d740-3a6b-40b2-819c-a56cc423e6f2",
   "metadata": {},
   "outputs": [],
   "source": [
    "#check para debug\n",
    "dfxx.head()"
   ]
  },
  {
   "cell_type": "code",
   "execution_count": 19,
   "id": "0cfeb7a5-5f14-485c-b696-cff8a313f9b3",
   "metadata": {},
   "outputs": [
    {
     "name": "stdout",
     "output_type": "stream",
     "text": [
      "ajustando o dataframe...\n"
     ]
    }
   ],
   "source": [
    "print(\"ajustando o dataframe...\")\n",
    "teste2 = dfxx.copy()\n",
    "teste2.index = pd.to_datetime(teste2.index).strftime('%d-%m-%Y')\n",
    "teste2 = teste2.round(decimals = 2)\n",
    "df_pivot = teste2.T #para transpor"
   ]
  },
  {
   "cell_type": "code",
   "execution_count": null,
   "id": "a80c1e36-f8c2-4f82-a62d-d0cc12487eac",
   "metadata": {},
   "outputs": [],
   "source": [
    "#check para debug\n",
    "df_pivot.head()"
   ]
  },
  {
   "cell_type": "code",
   "execution_count": 20,
   "id": "9788c2ba-d585-4346-90de-7fa55bd2918f",
   "metadata": {},
   "outputs": [
    {
     "name": "stdout",
     "output_type": "stream",
     "text": [
      "dataframe ajustado!\n"
     ]
    }
   ],
   "source": [
    "df_pivot = df_pivot.reset_index()\n",
    "df_pivot = df_pivot.rename(columns={'Ticker': 'ação'})\n",
    "# if df_pivot.shape[1] > 7:\n",
    "#     df_pivot = df_pivot.drop(df_pivot.columns[1], axis=1)\n",
    "print(\"dataframe ajustado!\")"
   ]
  },
  {
   "cell_type": "code",
   "execution_count": null,
   "id": "d9970018-bee5-4ec6-8ff1-535124467db4",
   "metadata": {},
   "outputs": [],
   "source": [
    "#check para debug\n",
    "df_pivot.head()"
   ]
  },
  {
   "cell_type": "code",
   "execution_count": 21,
   "id": "b540f438-3d9b-417f-ae97-cce8c792f284",
   "metadata": {},
   "outputs": [
    {
     "name": "stdout",
     "output_type": "stream",
     "text": [
      "calculando o fator de ponderação...\n",
      "ponderação calculada!\n"
     ]
    }
   ],
   "source": [
    "print(\"calculando o fator de ponderação...\")\n",
    "df_pivot['Ponderado'] = df_pivot.apply(lambda row: calcular_resultado(row), axis=1)\n",
    "print(\"ponderação calculada!\")"
   ]
  },
  {
   "cell_type": "code",
   "execution_count": null,
   "id": "d69dd610-d308-438a-9f5a-9e4935b6a96e",
   "metadata": {},
   "outputs": [],
   "source": [
    "#check para debug\n",
    "df_pivot.head()"
   ]
  },
  {
   "cell_type": "code",
   "execution_count": 22,
   "id": "c337aab8-6d12-4b1d-bf7b-0ad8b91256e3",
   "metadata": {},
   "outputs": [
    {
     "name": "stdout",
     "output_type": "stream",
     "text": [
      "calculando o FR...\n",
      "FR calculado!\n"
     ]
    }
   ],
   "source": [
    "print(\"calculando o FR...\")\n",
    "df_pivot = df_pivot.sort_values(by='Ponderado', ignore_index=False) #tem que colocar em ordem crescente de ponderado primeiro\n",
    "df_pivot['C'] = np.arange(df_pivot.shape[0]) #cria uma coluna com o numero da linha\n",
    "df_pivot['FR'] = ( ( df_pivot.shape[0] - df_pivot['C']   ) /df_pivot.shape[0] ) * 100 #total de linhas - num da linha / total de linhas\n",
    "df_pivot = df_pivot.sort_values(by='FR', ascending=False, ignore_index=False) #classifica por FR em ordem decrescente, sem descartar o índice\n",
    "\n",
    "df_final = df_pivot[(df_pivot['FR'] >= 90)]\n",
    "print(\"FR calculado!\")"
   ]
  },
  {
   "cell_type": "code",
   "execution_count": null,
   "id": "fe95a98a-edb7-41f5-ade5-69c660dc1a50",
   "metadata": {},
   "outputs": [],
   "source": [
    "df_pivot"
   ]
  },
  {
   "cell_type": "code",
   "execution_count": 23,
   "id": "9f5e4316-ac2d-4eee-afce-888bf5b0b2d2",
   "metadata": {},
   "outputs": [
    {
     "name": "stdout",
     "output_type": "stream",
     "text": [
      "obtendo somente ações com FR > 90...\n"
     ]
    },
    {
     "data": {
      "text/html": [
       "<div>\n",
       "<style scoped>\n",
       "    .dataframe tbody tr th:only-of-type {\n",
       "        vertical-align: middle;\n",
       "    }\n",
       "\n",
       "    .dataframe tbody tr th {\n",
       "        vertical-align: top;\n",
       "    }\n",
       "\n",
       "    .dataframe thead th {\n",
       "        text-align: right;\n",
       "    }\n",
       "</style>\n",
       "<table border=\"1\" class=\"dataframe\">\n",
       "  <thead>\n",
       "    <tr style=\"text-align: right;\">\n",
       "      <th>Date</th>\n",
       "      <th>ação</th>\n",
       "      <th>FR</th>\n",
       "      <th>preço mais recente</th>\n",
       "    </tr>\n",
       "  </thead>\n",
       "  <tbody>\n",
       "    <tr>\n",
       "      <th>0</th>\n",
       "      <td>BIOM3.SA</td>\n",
       "      <td>100.000</td>\n",
       "      <td>17.50</td>\n",
       "    </tr>\n",
       "    <tr>\n",
       "      <th>1</th>\n",
       "      <td>CBAV3.SA</td>\n",
       "      <td>99.476</td>\n",
       "      <td>7.12</td>\n",
       "    </tr>\n",
       "    <tr>\n",
       "      <th>2</th>\n",
       "      <td>CLSA3.SA</td>\n",
       "      <td>98.953</td>\n",
       "      <td>7.37</td>\n",
       "    </tr>\n",
       "    <tr>\n",
       "      <th>3</th>\n",
       "      <td>NVDC34.SA</td>\n",
       "      <td>98.429</td>\n",
       "      <td>120.20</td>\n",
       "    </tr>\n",
       "    <tr>\n",
       "      <th>4</th>\n",
       "      <td>EMBR3.SA</td>\n",
       "      <td>97.906</td>\n",
       "      <td>36.23</td>\n",
       "    </tr>\n",
       "    <tr>\n",
       "      <th>5</th>\n",
       "      <td>SYNE3.SA</td>\n",
       "      <td>97.382</td>\n",
       "      <td>9.39</td>\n",
       "    </tr>\n",
       "    <tr>\n",
       "      <th>6</th>\n",
       "      <td>JBSS3.SA</td>\n",
       "      <td>96.859</td>\n",
       "      <td>28.84</td>\n",
       "    </tr>\n",
       "    <tr>\n",
       "      <th>7</th>\n",
       "      <td>GOGL34.SA</td>\n",
       "      <td>96.335</td>\n",
       "      <td>75.60</td>\n",
       "    </tr>\n",
       "    <tr>\n",
       "      <th>8</th>\n",
       "      <td>BRFS3.SA</td>\n",
       "      <td>95.812</td>\n",
       "      <td>18.58</td>\n",
       "    </tr>\n",
       "    <tr>\n",
       "      <th>9</th>\n",
       "      <td>GUAR3.SA</td>\n",
       "      <td>95.288</td>\n",
       "      <td>7.56</td>\n",
       "    </tr>\n",
       "    <tr>\n",
       "      <th>10</th>\n",
       "      <td>MRFG3.SA</td>\n",
       "      <td>94.764</td>\n",
       "      <td>11.28</td>\n",
       "    </tr>\n",
       "    <tr>\n",
       "      <th>11</th>\n",
       "      <td>ORVR3.SA</td>\n",
       "      <td>94.241</td>\n",
       "      <td>40.69</td>\n",
       "    </tr>\n",
       "    <tr>\n",
       "      <th>12</th>\n",
       "      <td>INBR32.SA</td>\n",
       "      <td>93.717</td>\n",
       "      <td>31.45</td>\n",
       "    </tr>\n",
       "    <tr>\n",
       "      <th>13</th>\n",
       "      <td>BRIT3.SA</td>\n",
       "      <td>93.194</td>\n",
       "      <td>4.00</td>\n",
       "    </tr>\n",
       "    <tr>\n",
       "      <th>14</th>\n",
       "      <td>CMIG4.SA</td>\n",
       "      <td>92.670</td>\n",
       "      <td>9.95</td>\n",
       "    </tr>\n",
       "    <tr>\n",
       "      <th>15</th>\n",
       "      <td>POSI3.SA</td>\n",
       "      <td>92.147</td>\n",
       "      <td>9.05</td>\n",
       "    </tr>\n",
       "    <tr>\n",
       "      <th>16</th>\n",
       "      <td>INTB3.SA</td>\n",
       "      <td>91.623</td>\n",
       "      <td>23.34</td>\n",
       "    </tr>\n",
       "    <tr>\n",
       "      <th>17</th>\n",
       "      <td>CAML3.SA</td>\n",
       "      <td>91.099</td>\n",
       "      <td>9.57</td>\n",
       "    </tr>\n",
       "    <tr>\n",
       "      <th>18</th>\n",
       "      <td>MELI34.SA</td>\n",
       "      <td>90.576</td>\n",
       "      <td>74.73</td>\n",
       "    </tr>\n",
       "    <tr>\n",
       "      <th>19</th>\n",
       "      <td>EGIE3.SA</td>\n",
       "      <td>90.052</td>\n",
       "      <td>43.34</td>\n",
       "    </tr>\n",
       "  </tbody>\n",
       "</table>\n",
       "</div>"
      ],
      "text/plain": [
       "Date       ação       FR  preço mais recente\n",
       "0      BIOM3.SA  100.000               17.50\n",
       "1      CBAV3.SA   99.476                7.12\n",
       "2      CLSA3.SA   98.953                7.37\n",
       "3     NVDC34.SA   98.429              120.20\n",
       "4      EMBR3.SA   97.906               36.23\n",
       "5      SYNE3.SA   97.382                9.39\n",
       "6      JBSS3.SA   96.859               28.84\n",
       "7     GOGL34.SA   96.335               75.60\n",
       "8      BRFS3.SA   95.812               18.58\n",
       "9      GUAR3.SA   95.288                7.56\n",
       "10     MRFG3.SA   94.764               11.28\n",
       "11     ORVR3.SA   94.241               40.69\n",
       "12    INBR32.SA   93.717               31.45\n",
       "13     BRIT3.SA   93.194                4.00\n",
       "14     CMIG4.SA   92.670                9.95\n",
       "15     POSI3.SA   92.147                9.05\n",
       "16     INTB3.SA   91.623               23.34\n",
       "17     CAML3.SA   91.099                9.57\n",
       "18    MELI34.SA   90.576               74.73\n",
       "19     EGIE3.SA   90.052               43.34"
      ]
     },
     "execution_count": 23,
     "metadata": {},
     "output_type": "execute_result"
    }
   ],
   "source": [
    "print(\"obtendo somente ações com FR > 90...\")\n",
    "new_df = df_pivot[['ação','FR']]\n",
    "new_df = new_df.query('FR >= 90')\n",
    "new_df.reset_index(inplace=True, drop=True) #drop joga fora a coluna com o index anterior    \n",
    "# Adicionando uma nova coluna com o preço mais recente para cada ação em new_df\n",
    "new_df['preço mais recente'] = new_df['ação'].apply(lambda x: dfxx[x].iloc[-1])\n",
    "new_df.round(decimals = 3)"
   ]
  },
  {
   "cell_type": "code",
   "execution_count": 24,
   "id": "50715428-c16a-4746-b3b7-3ace46844845",
   "metadata": {},
   "outputs": [
    {
     "name": "stdout",
     "output_type": "stream",
     "text": [
      "data de hoje: 01-06-2024\n"
     ]
    }
   ],
   "source": [
    "print(\"data de hoje:\", reference_date.strftime(\"%d-%m-%Y\"))\n",
    "##análise do MACD das ações selecionadas\n",
    "# Lista de símbolos de ações\n",
    "lista = new_df['ação'].tolist()    \n",
    "new_df2 = new_df.set_index('ação') #depois de gerar a lista\n",
    "new_df2 = new_df2.round(decimals = 3)\n",
    "\n",
    "#filtrar o data_yf só com as ações da lista\n",
    "todos_dados = data_yf[lista]"
   ]
  },
  {
   "cell_type": "code",
   "execution_count": null,
   "id": "7c6f7e21-48e3-44aa-8563-2bd4bade9041",
   "metadata": {},
   "outputs": [],
   "source": [
    "todos_dados"
   ]
  },
  {
   "cell_type": "code",
   "execution_count": 25,
   "id": "d43ae330-d472-437e-8fd0-98f6ff338972",
   "metadata": {},
   "outputs": [
    {
     "name": "stdout",
     "output_type": "stream",
     "text": [
      "BIOM3.SA: MACD positivo ascendente, R$17.5\n",
      "CBAV3.SA: MACD positivo ascendente, R$7.119999885559082\n",
      "CLSA3.SA: MACD positivo ascendente, R$7.369999885559082\n",
      "NVDC34.SA: MACD positivo ascendente, R$120.19999694824219\n",
      "SYNE3.SA: MACD positivo ascendente, R$9.390000343322754\n",
      "GUAR3.SA: MACD positivo ascendente, R$7.559999942779541\n",
      "None\n"
     ]
    }
   ],
   "source": [
    "print(calcula_macd())"
   ]
  },
  {
   "cell_type": "markdown",
   "id": "8f4589d6-b261-4d88-b2be-94b780bf9c55",
   "metadata": {},
   "source": [
    "# Gráfico"
   ]
  },
  {
   "cell_type": "code",
   "execution_count": 26,
   "id": "b675eadf-f69f-4f2d-9f77-48bf4e0a847b",
   "metadata": {},
   "outputs": [
    {
     "data": {
      "text/html": [
       "        <script type=\"text/javascript\">\n",
       "        window.PlotlyConfig = {MathJaxConfig: 'local'};\n",
       "        if (window.MathJax && window.MathJax.Hub && window.MathJax.Hub.Config) {window.MathJax.Hub.Config({SVG: {font: \"STIX-Web\"}});}\n",
       "        if (typeof require !== 'undefined') {\n",
       "        require.undef(\"plotly\");\n",
       "        requirejs.config({\n",
       "            paths: {\n",
       "                'plotly': ['https://cdn.plot.ly/plotly-2.32.0.min']\n",
       "            }\n",
       "        });\n",
       "        require(['plotly'], function(Plotly) {\n",
       "            window._Plotly = Plotly;\n",
       "        });\n",
       "        }\n",
       "        </script>\n",
       "        "
      ]
     },
     "metadata": {},
     "output_type": "display_data"
    }
   ],
   "source": [
    "##configuração do cufflinks    \n",
    "cf.go_offline()\n",
    "cf.set_config_file(world_readable=True, theme='white') "
   ]
  },
  {
   "cell_type": "code",
   "execution_count": null,
   "id": "b26a85d6-0b12-44e9-8360-76e9aa0152c6",
   "metadata": {},
   "outputs": [],
   "source": [
    "# choice = st.selectbox(\"escolha a ação\", lista)    "
   ]
  },
  {
   "cell_type": "code",
   "execution_count": 27,
   "id": "ddcb79b3-6d40-497a-89dc-8c9d37d63e60",
   "metadata": {},
   "outputs": [
    {
     "data": {
      "application/vnd.jupyter.widget-view+json": {
       "model_id": "e2440255025a45b18db6d26d19f92b99",
       "version_major": 2,
       "version_minor": 0
      },
      "text/plain": [
       "RadioButtons(description='Selecione uma opção:', options=('BIOM3.SA', 'CBAV3.SA', 'CLSA3.SA', 'NVDC34.SA', 'EM…"
      ]
     },
     "metadata": {},
     "output_type": "display_data"
    }
   ],
   "source": [
    "# Variável global para armazenar a ação selecionada\n",
    "choice = None\n",
    "\n",
    "# Cria um grupo de radio buttons\n",
    "radio_buttons = widgets.RadioButtons(\n",
    "    options=lista,\n",
    "    value=lista[0],\n",
    "    description='Selecione uma opção:',\n",
    "    disabled=False\n",
    ")\n",
    "\n",
    "# Função para obter o valor selecionado\n",
    "def get_selected_value(change):\n",
    "    global choice\n",
    "    #print(f'Você selecionou: {change.new}')\n",
    "    choice = change['new']\n",
    "\n",
    "# Conecta a função ao evento de mudança de valor\n",
    "radio_buttons.observe(get_selected_value, names='value')\n",
    "\n",
    "# Exibe o widget\n",
    "display(radio_buttons)"
   ]
  },
  {
   "cell_type": "code",
   "execution_count": 29,
   "id": "8d8599bc-05bb-467f-b5d2-789adc1d5cd3",
   "metadata": {},
   "outputs": [
    {
     "name": "stdout",
     "output_type": "stream",
     "text": [
      "BIOM3.SA\n"
     ]
    }
   ],
   "source": [
    "print(choice)"
   ]
  },
  {
   "cell_type": "code",
   "execution_count": 30,
   "id": "081962d4-8f01-4ad5-841f-b0d9ad084bee",
   "metadata": {},
   "outputs": [
    {
     "name": "stderr",
     "output_type": "stream",
     "text": [
      "[*********************100%%**********************]  20 of 20 completed\n"
     ]
    }
   ],
   "source": [
    "bleh = baixa_lista()\n",
    "dadosx = bleh.loc[:, (['Open', 'High', 'Low', 'Close', 'Volume'], choice)]\n",
    "dadosx.columns = dadosx.columns.droplevel(1)"
   ]
  },
  {
   "cell_type": "code",
   "execution_count": 31,
   "id": "767c82d4-05ad-4340-a21f-65bd2b800963",
   "metadata": {},
   "outputs": [],
   "source": [
    "#ajustes para novas versões do pandas, cufflinks e plotly\n",
    "dadosx.index = dadosx.index.astype(str) #passar para string, pois não irá mais suportar datetime no índice"
   ]
  },
  {
   "cell_type": "code",
   "execution_count": null,
   "id": "7339c1eb-5fcf-461a-bfc8-9c03071ff957",
   "metadata": {},
   "outputs": [],
   "source": [
    "type(dadosx)"
   ]
  },
  {
   "cell_type": "code",
   "execution_count": 32,
   "id": "8c47056d-c95a-4328-82de-c81f327a1e00",
   "metadata": {},
   "outputs": [
    {
     "name": "stderr",
     "output_type": "stream",
     "text": [
      "C:\\Users\\bruno\\miniconda3\\envs\\py311\\Lib\\site-packages\\cufflinks\\quant_figure.py:1061: FutureWarning:\n",
      "\n",
      "Series.__getitem__ treating keys as positions is deprecated. In a future version, integer keys will always be treated as labels (consistent with DataFrame behavior). To access a value by position, use `ser.iloc[pos]`\n",
      "\n"
     ]
    },
    {
     "data": {
      "application/vnd.plotly.v1+json": {
       "config": {
        "plotlyServerURL": "https://plot.ly"
       },
       "data": [
        {
         "legendgroup": "BOLL(Close,20)",
         "line": {
          "color": "rgba(55, 128, 191, 1.0)",
          "dash": "solid",
          "shape": "linear",
          "width": 1.3
         },
         "mode": "lines",
         "name": "BOLL(Close,20)",
         "showlegend": true,
         "text": "",
         "type": "scatter",
         "x": [
          "2024-02-02",
          "2024-02-05",
          "2024-02-06",
          "2024-02-07",
          "2024-02-08",
          "2024-02-09",
          "2024-02-14",
          "2024-02-15",
          "2024-02-16",
          "2024-02-19",
          "2024-02-20",
          "2024-02-21",
          "2024-02-22",
          "2024-02-23",
          "2024-02-26",
          "2024-02-27",
          "2024-02-28",
          "2024-02-29",
          "2024-03-01",
          "2024-03-04",
          "2024-03-05",
          "2024-03-06",
          "2024-03-07",
          "2024-03-08",
          "2024-03-11",
          "2024-03-12",
          "2024-03-13",
          "2024-03-14",
          "2024-03-15",
          "2024-03-18",
          "2024-03-19",
          "2024-03-20",
          "2024-03-21",
          "2024-03-22",
          "2024-03-25",
          "2024-03-26",
          "2024-03-27",
          "2024-03-28",
          "2024-04-01",
          "2024-04-02",
          "2024-04-03",
          "2024-04-04",
          "2024-04-05",
          "2024-04-08",
          "2024-04-09",
          "2024-04-10",
          "2024-04-11",
          "2024-04-12",
          "2024-04-15",
          "2024-04-16",
          "2024-04-17",
          "2024-04-18",
          "2024-04-19",
          "2024-04-22",
          "2024-04-23",
          "2024-04-24",
          "2024-04-25",
          "2024-04-26",
          "2024-04-29",
          "2024-04-30",
          "2024-05-02",
          "2024-05-03",
          "2024-05-06",
          "2024-05-07",
          "2024-05-08",
          "2024-05-09",
          "2024-05-10",
          "2024-05-13",
          "2024-05-14",
          "2024-05-15",
          "2024-05-16",
          "2024-05-17",
          "2024-05-20",
          "2024-05-21",
          "2024-05-22",
          "2024-05-23",
          "2024-05-24",
          "2024-05-27",
          "2024-05-28",
          "2024-05-29",
          "2024-05-31"
         ],
         "y": [
          "",
          "",
          "",
          "",
          "",
          "",
          "",
          "",
          "",
          "",
          "",
          "",
          "",
          "",
          "",
          "",
          "",
          "",
          "",
          7.37449996471405,
          7.626999950408935,
          7.820999956130981,
          7.993499970436096,
          8.17399995326996,
          8.36749997138977,
          8.553499960899353,
          8.74049997329712,
          8.918999981880187,
          9.10649995803833,
          9.280499935150146,
          9.449999904632568,
          9.530999898910522,
          9.583999919891358,
          9.535499954223633,
          9.400999975204467,
          9.331999969482421,
          9.299499988555908,
          9.314999961853028,
          9.30649995803833,
          9.277499961853028,
          9.268499994277954,
          9.350999975204468,
          9.442999982833863,
          9.521000003814697,
          9.583500003814697,
          9.642500019073486,
          9.701999998092651,
          9.771000003814697,
          9.878000020980835,
          9.980000019073486,
          10.286000061035157,
          10.616000032424926,
          11.018000030517578,
          11.38100004196167,
          11.737000036239625,
          12.099000024795533,
          12.425000047683715,
          12.71550006866455,
          13.108500099182129,
          13.612000131607056,
          14.053000164031982,
          14.436500215530396,
          14.833500242233276,
          15.222500228881836,
          15.60850019454956,
          15.999500179290772,
          16.392000198364258,
          16.717500162124633,
          16.948000144958495,
          17.182000160217285,
          17.212500143051148,
          17.18650016784668,
          17.112500143051147,
          17.049000120162965,
          16.97150011062622,
          16.831000137329102,
          16.69800009727478,
          16.592000102996828,
          16.42650008201599,
          16.212500047683715,
          16.14800000190735
         ],
         "yaxis": "y2"
        },
        {
         "legendgroup": "BOLL(Close,20)",
         "line": {
          "color": "rgba(55, 128, 191, 0.8999999999999999)",
          "dash": "solid",
          "shape": "linear",
          "width": 1.3
         },
         "mode": "lines",
         "name": "UPPER(Close,20)",
         "showlegend": false,
         "text": "",
         "type": "scatter",
         "x": [
          "2024-02-02",
          "2024-02-05",
          "2024-02-06",
          "2024-02-07",
          "2024-02-08",
          "2024-02-09",
          "2024-02-14",
          "2024-02-15",
          "2024-02-16",
          "2024-02-19",
          "2024-02-20",
          "2024-02-21",
          "2024-02-22",
          "2024-02-23",
          "2024-02-26",
          "2024-02-27",
          "2024-02-28",
          "2024-02-29",
          "2024-03-01",
          "2024-03-04",
          "2024-03-05",
          "2024-03-06",
          "2024-03-07",
          "2024-03-08",
          "2024-03-11",
          "2024-03-12",
          "2024-03-13",
          "2024-03-14",
          "2024-03-15",
          "2024-03-18",
          "2024-03-19",
          "2024-03-20",
          "2024-03-21",
          "2024-03-22",
          "2024-03-25",
          "2024-03-26",
          "2024-03-27",
          "2024-03-28",
          "2024-04-01",
          "2024-04-02",
          "2024-04-03",
          "2024-04-04",
          "2024-04-05",
          "2024-04-08",
          "2024-04-09",
          "2024-04-10",
          "2024-04-11",
          "2024-04-12",
          "2024-04-15",
          "2024-04-16",
          "2024-04-17",
          "2024-04-18",
          "2024-04-19",
          "2024-04-22",
          "2024-04-23",
          "2024-04-24",
          "2024-04-25",
          "2024-04-26",
          "2024-04-29",
          "2024-04-30",
          "2024-05-02",
          "2024-05-03",
          "2024-05-06",
          "2024-05-07",
          "2024-05-08",
          "2024-05-09",
          "2024-05-10",
          "2024-05-13",
          "2024-05-14",
          "2024-05-15",
          "2024-05-16",
          "2024-05-17",
          "2024-05-20",
          "2024-05-21",
          "2024-05-22",
          "2024-05-23",
          "2024-05-24",
          "2024-05-27",
          "2024-05-28",
          "2024-05-29",
          "2024-05-31"
         ],
         "y": [
          "",
          "",
          "",
          "",
          "",
          "",
          "",
          "",
          "",
          "",
          "",
          "",
          "",
          "",
          "",
          "",
          "",
          "",
          "",
          12.228279583641829,
          12.50791901286814,
          12.598058575604998,
          12.636045741033861,
          12.65175956205878,
          12.637423354245213,
          12.573938497856542,
          12.443479924686155,
          12.280527614004841,
          12.020757080539159,
          11.680995093851491,
          11.224805900007452,
          11.169829893266797,
          11.076371934254656,
          11.024412834041959,
          10.56708008311892,
          10.392795923849496,
          10.326308399761235,
          10.387674726213291,
          10.356096660921075,
          10.187788890533108,
          10.145414947653869,
          10.428812461337994,
          10.618129997959313,
          10.750221389857128,
          10.847083475114713,
          10.901553587311296,
          10.937502890458195,
          10.99789003145311,
          11.229141477671398,
          11.381382716270222,
          13.028648862056393,
          14.408537660527546,
          15.713124459108124,
          16.55039960039116,
          17.15584097039876,
          17.733509904371893,
          18.119605163304577,
          18.52382984495169,
          19.175450472704362,
          20.27665524084985,
          20.868487793452225,
          21.32041094445161,
          21.70160937421621,
          21.92697163070455,
          22.011540182263087,
          21.945536730232895,
          21.71606934027521,
          21.230806563728223,
          20.69067956673424,
          19.805775204227054,
          19.75967131566811,
          19.7863974960196,
          19.805351689916517,
          19.873255606984117,
          19.994996408305038,
          20.2209229942208,
          20.452333303986833,
          20.542699801235404,
          20.446137871503,
          19.823447855892468,
          19.60802508958679
         ],
         "yaxis": "y2"
        },
        {
         "fill": "tonexty",
         "fillcolor": "rgba(55, 128, 191, 0.1)",
         "legendgroup": "BOLL(Close,20)",
         "line": {
          "color": "rgba(55, 128, 191, 0.7999999999999998)",
          "dash": "solid",
          "shape": "linear",
          "width": 1.3
         },
         "mode": "lines",
         "name": "LOWER(Close,20)",
         "showlegend": false,
         "text": "",
         "type": "scatter",
         "x": [
          "2024-02-02",
          "2024-02-05",
          "2024-02-06",
          "2024-02-07",
          "2024-02-08",
          "2024-02-09",
          "2024-02-14",
          "2024-02-15",
          "2024-02-16",
          "2024-02-19",
          "2024-02-20",
          "2024-02-21",
          "2024-02-22",
          "2024-02-23",
          "2024-02-26",
          "2024-02-27",
          "2024-02-28",
          "2024-02-29",
          "2024-03-01",
          "2024-03-04",
          "2024-03-05",
          "2024-03-06",
          "2024-03-07",
          "2024-03-08",
          "2024-03-11",
          "2024-03-12",
          "2024-03-13",
          "2024-03-14",
          "2024-03-15",
          "2024-03-18",
          "2024-03-19",
          "2024-03-20",
          "2024-03-21",
          "2024-03-22",
          "2024-03-25",
          "2024-03-26",
          "2024-03-27",
          "2024-03-28",
          "2024-04-01",
          "2024-04-02",
          "2024-04-03",
          "2024-04-04",
          "2024-04-05",
          "2024-04-08",
          "2024-04-09",
          "2024-04-10",
          "2024-04-11",
          "2024-04-12",
          "2024-04-15",
          "2024-04-16",
          "2024-04-17",
          "2024-04-18",
          "2024-04-19",
          "2024-04-22",
          "2024-04-23",
          "2024-04-24",
          "2024-04-25",
          "2024-04-26",
          "2024-04-29",
          "2024-04-30",
          "2024-05-02",
          "2024-05-03",
          "2024-05-06",
          "2024-05-07",
          "2024-05-08",
          "2024-05-09",
          "2024-05-10",
          "2024-05-13",
          "2024-05-14",
          "2024-05-15",
          "2024-05-16",
          "2024-05-17",
          "2024-05-20",
          "2024-05-21",
          "2024-05-22",
          "2024-05-23",
          "2024-05-24",
          "2024-05-27",
          "2024-05-28",
          "2024-05-29",
          "2024-05-31"
         ],
         "y": [
          "",
          "",
          "",
          "",
          "",
          "",
          "",
          "",
          "",
          "",
          "",
          "",
          "",
          "",
          "",
          "",
          "",
          "",
          "",
          2.5207203457862706,
          2.7460808879497307,
          3.043941336656964,
          3.3509541998383297,
          3.6962403444811383,
          4.097576588534329,
          4.533061423942164,
          5.037520021908083,
          5.557472349755534,
          6.192242835537502,
          6.880004776448802,
          7.675193909257684,
          7.8921699045542475,
          8.09162790552806,
          8.046587074405307,
          8.234919867290014,
          8.271204015115346,
          8.272691577350582,
          8.242325197492764,
          8.256903255155585,
          8.367211033172948,
          8.39158504090204,
          8.273187489070942,
          8.267869967708412,
          8.291778617772266,
          8.31991653251468,
          8.383446450835676,
          8.466497105727107,
          8.544109976176284,
          8.526858564290272,
          8.57861732187675,
          7.54335126001392,
          6.823462404322306,
          6.3228756019270325,
          6.2116004835321785,
          6.31815910208049,
          6.464490145219173,
          6.730394932062856,
          6.907170292377411,
          7.041549725659896,
          6.947345022364265,
          7.23751253461174,
          7.5525894866091825,
          7.9653911102503425,
          8.518028827059123,
          9.205460206836033,
          10.053463628348648,
          11.067931056453304,
          12.204193760521044,
          13.20532072318275,
          14.558225116207517,
          14.665328970434187,
          14.586602839673764,
          14.419648596185777,
          14.224744633341814,
          13.948003812947402,
          13.441077280437407,
          12.943666890562723,
          12.641300404758251,
          12.40686229252898,
          12.60155223947496,
          12.687974914227908
         ],
         "yaxis": "y2"
        },
        {
         "line": {
          "color": "rgba(219, 64, 82, 1.0)",
          "dash": "solid",
          "shape": "linear",
          "width": 1.3
         },
         "mode": "lines",
         "name": " SMA(20)",
         "text": "",
         "type": "scatter",
         "x": [
          "2024-02-02",
          "2024-02-05",
          "2024-02-06",
          "2024-02-07",
          "2024-02-08",
          "2024-02-09",
          "2024-02-14",
          "2024-02-15",
          "2024-02-16",
          "2024-02-19",
          "2024-02-20",
          "2024-02-21",
          "2024-02-22",
          "2024-02-23",
          "2024-02-26",
          "2024-02-27",
          "2024-02-28",
          "2024-02-29",
          "2024-03-01",
          "2024-03-04",
          "2024-03-05",
          "2024-03-06",
          "2024-03-07",
          "2024-03-08",
          "2024-03-11",
          "2024-03-12",
          "2024-03-13",
          "2024-03-14",
          "2024-03-15",
          "2024-03-18",
          "2024-03-19",
          "2024-03-20",
          "2024-03-21",
          "2024-03-22",
          "2024-03-25",
          "2024-03-26",
          "2024-03-27",
          "2024-03-28",
          "2024-04-01",
          "2024-04-02",
          "2024-04-03",
          "2024-04-04",
          "2024-04-05",
          "2024-04-08",
          "2024-04-09",
          "2024-04-10",
          "2024-04-11",
          "2024-04-12",
          "2024-04-15",
          "2024-04-16",
          "2024-04-17",
          "2024-04-18",
          "2024-04-19",
          "2024-04-22",
          "2024-04-23",
          "2024-04-24",
          "2024-04-25",
          "2024-04-26",
          "2024-04-29",
          "2024-04-30",
          "2024-05-02",
          "2024-05-03",
          "2024-05-06",
          "2024-05-07",
          "2024-05-08",
          "2024-05-09",
          "2024-05-10",
          "2024-05-13",
          "2024-05-14",
          "2024-05-15",
          "2024-05-16",
          "2024-05-17",
          "2024-05-20",
          "2024-05-21",
          "2024-05-22",
          "2024-05-23",
          "2024-05-24",
          "2024-05-27",
          "2024-05-28",
          "2024-05-29",
          "2024-05-31"
         ],
         "y": [
          "",
          "",
          "",
          "",
          "",
          "",
          "",
          "",
          "",
          "",
          "",
          "",
          "",
          "",
          "",
          "",
          "",
          "",
          "",
          7.37449996471405,
          7.626999950408935,
          7.820999956130981,
          7.993499970436096,
          8.17399995326996,
          8.36749997138977,
          8.553499960899353,
          8.74049997329712,
          8.918999981880187,
          9.10649995803833,
          9.280499935150146,
          9.449999904632568,
          9.530999898910522,
          9.583999919891358,
          9.535499954223633,
          9.400999975204467,
          9.331999969482421,
          9.299499988555908,
          9.314999961853028,
          9.30649995803833,
          9.277499961853028,
          9.268499994277954,
          9.350999975204468,
          9.442999982833863,
          9.521000003814697,
          9.583500003814697,
          9.642500019073486,
          9.701999998092651,
          9.771000003814697,
          9.878000020980835,
          9.980000019073486,
          10.286000061035157,
          10.616000032424926,
          11.018000030517578,
          11.38100004196167,
          11.737000036239625,
          12.099000024795533,
          12.425000047683715,
          12.71550006866455,
          13.108500099182129,
          13.612000131607056,
          14.053000164031982,
          14.436500215530396,
          14.833500242233276,
          15.222500228881836,
          15.60850019454956,
          15.999500179290772,
          16.392000198364258,
          16.717500162124633,
          16.948000144958495,
          17.182000160217285,
          17.212500143051148,
          17.18650016784668,
          17.112500143051147,
          17.049000120162965,
          16.97150011062622,
          16.831000137329102,
          16.69800009727478,
          16.592000102996828,
          16.42650008201599,
          16.212500047683715,
          16.14800000190735
         ],
         "yaxis": "y2"
        },
        {
         "marker": {
          "color": [
           "#db4052",
           "#008000",
           "#008000",
           "#db4052",
           "#db4052",
           "#008000",
           "#db4052",
           "#008000",
           "#db4052",
           "#008000",
           "#008000",
           "#008000",
           "#db4052",
           "#008000",
           "#008000",
           "#db4052",
           "#db4052",
           "#db4052",
           "#008000",
           "#008000",
           "#db4052",
           "#db4052",
           "#db4052",
           "#008000",
           "#008000",
           "#db4052",
           "#db4052",
           "#008000",
           "#008000",
           "#db4052",
           "#008000",
           "#008000",
           "#db4052",
           "#008000",
           "#db4052",
           "#008000",
           "#008000",
           "#008000",
           "#db4052",
           "#008000",
           "#db4052",
           "#008000",
           "#db4052",
           "#db4052",
           "#db4052",
           "#db4052",
           "#db4052",
           "#008000",
           "#008000",
           "#db4052",
           "#008000",
           "#008000",
           "#008000",
           "#db4052",
           "#db4052",
           "#008000",
           "#db4052",
           "#008000",
           "#008000",
           "#008000",
           "#db4052",
           "#db4052",
           "#008000",
           "#db4052",
           "#db4052",
           "#db4052",
           "#db4052",
           "#db4052",
           "#db4052",
           "#db4052",
           "#008000",
           "#db4052",
           "#db4052",
           "#db4052",
           "#db4052",
           "#db4052",
           "#db4052",
           "#008000",
           "#008000",
           "#008000",
           "#008000"
          ],
          "line": {
           "color": [
            "#db4052",
            "#008000",
            "#008000",
            "#db4052",
            "#db4052",
            "#008000",
            "#db4052",
            "#008000",
            "#db4052",
            "#008000",
            "#008000",
            "#008000",
            "#db4052",
            "#008000",
            "#008000",
            "#db4052",
            "#db4052",
            "#db4052",
            "#008000",
            "#008000",
            "#db4052",
            "#db4052",
            "#db4052",
            "#008000",
            "#008000",
            "#db4052",
            "#db4052",
            "#008000",
            "#008000",
            "#db4052",
            "#008000",
            "#008000",
            "#db4052",
            "#008000",
            "#db4052",
            "#008000",
            "#008000",
            "#008000",
            "#db4052",
            "#008000",
            "#db4052",
            "#008000",
            "#db4052",
            "#db4052",
            "#db4052",
            "#db4052",
            "#db4052",
            "#008000",
            "#008000",
            "#db4052",
            "#008000",
            "#008000",
            "#008000",
            "#db4052",
            "#db4052",
            "#008000",
            "#db4052",
            "#008000",
            "#008000",
            "#008000",
            "#db4052",
            "#db4052",
            "#008000",
            "#db4052",
            "#db4052",
            "#db4052",
            "#db4052",
            "#db4052",
            "#db4052",
            "#db4052",
            "#008000",
            "#db4052",
            "#db4052",
            "#db4052",
            "#db4052",
            "#db4052",
            "#db4052",
            "#008000",
            "#008000",
            "#008000",
            "#008000"
           ],
           "width": 1
          }
         },
         "name": "Volume",
         "opacity": 0.8,
         "orientation": "v",
         "text": "",
         "type": "bar",
         "x": [
          "2024-02-02",
          "2024-02-05",
          "2024-02-06",
          "2024-02-07",
          "2024-02-08",
          "2024-02-09",
          "2024-02-14",
          "2024-02-15",
          "2024-02-16",
          "2024-02-19",
          "2024-02-20",
          "2024-02-21",
          "2024-02-22",
          "2024-02-23",
          "2024-02-26",
          "2024-02-27",
          "2024-02-28",
          "2024-02-29",
          "2024-03-01",
          "2024-03-04",
          "2024-03-05",
          "2024-03-06",
          "2024-03-07",
          "2024-03-08",
          "2024-03-11",
          "2024-03-12",
          "2024-03-13",
          "2024-03-14",
          "2024-03-15",
          "2024-03-18",
          "2024-03-19",
          "2024-03-20",
          "2024-03-21",
          "2024-03-22",
          "2024-03-25",
          "2024-03-26",
          "2024-03-27",
          "2024-03-28",
          "2024-04-01",
          "2024-04-02",
          "2024-04-03",
          "2024-04-04",
          "2024-04-05",
          "2024-04-08",
          "2024-04-09",
          "2024-04-10",
          "2024-04-11",
          "2024-04-12",
          "2024-04-15",
          "2024-04-16",
          "2024-04-17",
          "2024-04-18",
          "2024-04-19",
          "2024-04-22",
          "2024-04-23",
          "2024-04-24",
          "2024-04-25",
          "2024-04-26",
          "2024-04-29",
          "2024-04-30",
          "2024-05-02",
          "2024-05-03",
          "2024-05-06",
          "2024-05-07",
          "2024-05-08",
          "2024-05-09",
          "2024-05-10",
          "2024-05-13",
          "2024-05-14",
          "2024-05-15",
          "2024-05-16",
          "2024-05-17",
          "2024-05-20",
          "2024-05-21",
          "2024-05-22",
          "2024-05-23",
          "2024-05-24",
          "2024-05-27",
          "2024-05-28",
          "2024-05-29",
          "2024-05-31"
         ],
         "y": [
          19500,
          36200,
          107400,
          38800,
          58000,
          1400,
          4500,
          16300,
          35400,
          20500,
          20900,
          86800,
          138100,
          173600,
          311200,
          103700,
          64000,
          42300,
          22400,
          26900,
          88900,
          51200,
          35500,
          10400,
          12200,
          12000,
          4100,
          12000,
          10700,
          21000,
          24700,
          8600,
          22400,
          26900,
          21900,
          7700,
          13400,
          63700,
          1959700,
          79000,
          56100,
          111200,
          40400,
          13100,
          31200,
          21900,
          98900,
          89500,
          227100,
          20400,
          369800,
          410800,
          473300,
          91500,
          200000,
          233500,
          132900,
          124800,
          311600,
          617500,
          282200,
          203700,
          89200,
          93100,
          33100,
          26500,
          218100,
          112100,
          214800,
          137800,
          161100,
          28800,
          92500,
          241800,
          143000,
          51900,
          52900,
          71800,
          205600,
          224700,
          643700
         ],
         "yaxis": "y3"
        },
        {
         "close": [
          5.099999904632568,
          5.170000076293945,
          5.309999942779541,
          5.289999961853027,
          5.21999979019165,
          5.28000020980835,
          5.21999979019165,
          5.440000057220459,
          5.360000133514404,
          5.590000152587891,
          5.840000152587891,
          8,
          8,
          10.069999694824219,
          11.569999694824219,
          10.460000038146973,
          9.899999618530273,
          9.890000343322754,
          10.079999923706055,
          10.699999809265137,
          10.149999618530273,
          9.050000190734863,
          8.760000228881836,
          8.899999618530273,
          9.09000015258789,
          9,
          8.960000038146973,
          9.010000228881836,
          9.109999656677246,
          9.069999694824219,
          9.229999542236328,
          9.619999885559082,
          9.0600004196167,
          9.100000381469727,
          8.880000114440918,
          9.079999923706055,
          9.25,
          10.199999809265137,
          9.90999984741211,
          10.119999885559082,
          9.970000267028809,
          10.699999809265137,
          10.600000381469727,
          10.460000038146973,
          10.34000015258789,
          10.180000305175781,
          10.149999618530273,
          10.390000343322754,
          11.25,
          11.109999656677246,
          15.350000381469727,
          16.219999313354492,
          17.100000381469727,
          16.360000610351562,
          16,
          16.31999969482422,
          15.770000457763672,
          16.010000228881836,
          17.770000457763672,
          20.190000534057617,
          18.790000915527344,
          18.3700008392334,
          18.540000915527344,
          18.239999771118164,
          18.059999465942383,
          18,
          18,
          16.899999618530273,
          15.859999656677246,
          15.789999961853027,
          15.960000038146973,
          15.699999809265137,
          15.619999885559082,
          15.09000015258789,
          14.449999809265137,
          13.510000228881836,
          13.109999656677246,
          13.890000343322754,
          14.460000038146973,
          15.90999984741211,
          17.5
         ],
         "decreasing": {
          "line": {
           "color": "#db4052"
          }
         },
         "high": [
          5.260000228881836,
          5.489999771118164,
          5.389999866485596,
          5.480000019073486,
          5.909999847412109,
          5.389999866485596,
          5.400000095367432,
          5.440000057220459,
          5.440000057220459,
          5.789999961853027,
          5.889999866485596,
          8,
          8.899999618530273,
          10.199999809265137,
          12.220000267028809,
          12.220000267028809,
          10.699999809265137,
          10.40999984741211,
          10.119999885559082,
          10.9399995803833,
          10.800000190734863,
          10.640000343322754,
          9.329999923706055,
          8.949999809265137,
          9.09000015258789,
          9.350000381469727,
          9.140000343322754,
          9.170000076293945,
          9.239999771118164,
          9.399999618530273,
          9.710000038146973,
          9.699999809265137,
          9.699999809265137,
          9.25,
          9.470000267028809,
          9.079999923706055,
          9.550000190734863,
          10.199999809265137,
          10.449999809265137,
          11.5,
          10.4399995803833,
          11,
          11.34000015258789,
          10.90999984741211,
          10.979999542236328,
          10.4399995803833,
          10.40999984741211,
          10.4399995803833,
          11.300000190734863,
          11.239999771118164,
          16.290000915527344,
          18.399999618530273,
          17.850000381469727,
          17.760000228881836,
          17.329999923706055,
          17.100000381469727,
          16.6299991607666,
          16.350000381469727,
          17.829999923706055,
          20.190000534057617,
          21.200000762939453,
          19.309999465942383,
          18.889999389648438,
          18.739999771118164,
          18.25,
          18.729999542236328,
          18.149999618530273,
          18.200000762939453,
          17.290000915527344,
          16.790000915527344,
          17.6200008392334,
          16.170000076293945,
          16.43000030517578,
          15.539999961853027,
          15.180000305175781,
          14.710000038146973,
          13.859999656677246,
          13.890000343322754,
          14.869999885559082,
          15.90999984741211,
          17.520000457763672
         ],
         "increasing": {
          "line": {
           "color": "#008000"
          }
         },
         "low": [
          5,
          5,
          5.099999904632568,
          5.190000057220459,
          5.190000057220459,
          5.25,
          5.199999809265137,
          5.239999771118164,
          5.340000152587891,
          5.269999980926514,
          5.480000019073486,
          5.860000133514404,
          7.639999866485596,
          8.1899995803833,
          9.609999656677246,
          10.399999618530273,
          9.899999618530273,
          9.600000381469727,
          9.579999923706055,
          9.9399995803833,
          9.619999885559082,
          8.800000190734863,
          8,
          8.380000114440918,
          8.699999809265137,
          8.899999618530273,
          8.949999809265137,
          9,
          8.729999542236328,
          8.8100004196167,
          9.0600004196167,
          9.149999618530273,
          8.920000076293945,
          9.0600004196167,
          8.579999923706055,
          8.770000457763672,
          9.020000457763672,
          8.630000114440918,
          9.420000076293945,
          10.069999694824219,
          9.529999732971191,
          9.850000381469727,
          10.550000190734863,
          10.220000267028809,
          10.149999618530273,
          10.0600004196167,
          10.039999961853027,
          9.819999694824219,
          10,
          10.989999771118164,
          11,
          15.890000343322754,
          16.290000915527344,
          16.350000381469727,
          14.720000267028809,
          15.6899995803833,
          15.5,
          15.800000190734863,
          15.720000267028809,
          17.149999618530273,
          17.899999618530273,
          18.219999313354492,
          18.290000915527344,
          18.040000915527344,
          18.059999465942383,
          18,
          16.3700008392334,
          16.899999618530273,
          15.800000190734863,
          15.710000038146973,
          15.699999809265137,
          15.699999809265137,
          15.140000343322754,
          14.319999694824219,
          14.380000114440918,
          13.510000228881836,
          13.109999656677246,
          12.670000076293945,
          13.4399995803833,
          13.529999732971191,
          15.010000228881836
         ],
         "name": "BIOM3.SA",
         "open": [
          5.210000038146973,
          5.139999866485596,
          5.110000133514404,
          5.360000133514404,
          5.230000019073486,
          5.269999980926514,
          5.28000020980835,
          5.349999904632568,
          5.440000057220459,
          5.389999866485596,
          5.650000095367432,
          5.889999866485596,
          8.210000038146973,
          8.1899995803833,
          9.9399995803833,
          11.829999923706055,
          10.600000381469727,
          10,
          9.720000267028809,
          9.949999809265137,
          10.600000381469727,
          10.350000381469727,
          9.069999694824219,
          8.869999885559082,
          8.960000038146973,
          9.09000015258789,
          9.140000343322754,
          9.020000457763672,
          9.239999771118164,
          8.859999656677246,
          9.199999809265137,
          9.550000190734863,
          9.699999809265137,
          9.109999656677246,
          9.470000267028809,
          9,
          9.020000457763672,
          9.119999885559082,
          10.449999809265137,
          10.100000381469727,
          10.119999885559082,
          9.850000381469727,
          10.59000015258789,
          10.899999618530273,
          10.890000343322754,
          10.350000381469727,
          10.170000076293945,
          10.25,
          10.220000267028809,
          11.140000343322754,
          11,
          15.899999618530273,
          16.600000381469727,
          17.110000610351562,
          16.329999923706055,
          16,
          16.389999389648438,
          16,
          16.239999771118164,
          17.770000457763672,
          20.09000015258789,
          18.790000915527344,
          18.5,
          18.639999389648438,
          18.25,
          18.040000915527344,
          18.139999389648438,
          17.81999969482422,
          17.020000457763672,
          16.15999984741211,
          17.18000030517578,
          16,
          15.779999732971191,
          15.510000228881836,
          15.15999984741211,
          14.710000038146973,
          13.850000381469727,
          13.5,
          13.930000305175781,
          14.289999961853027,
          15.960000038146973
         ],
         "showlegend": true,
         "type": "candlestick",
         "x": [
          "2024-02-02",
          "2024-02-05",
          "2024-02-06",
          "2024-02-07",
          "2024-02-08",
          "2024-02-09",
          "2024-02-14",
          "2024-02-15",
          "2024-02-16",
          "2024-02-19",
          "2024-02-20",
          "2024-02-21",
          "2024-02-22",
          "2024-02-23",
          "2024-02-26",
          "2024-02-27",
          "2024-02-28",
          "2024-02-29",
          "2024-03-01",
          "2024-03-04",
          "2024-03-05",
          "2024-03-06",
          "2024-03-07",
          "2024-03-08",
          "2024-03-11",
          "2024-03-12",
          "2024-03-13",
          "2024-03-14",
          "2024-03-15",
          "2024-03-18",
          "2024-03-19",
          "2024-03-20",
          "2024-03-21",
          "2024-03-22",
          "2024-03-25",
          "2024-03-26",
          "2024-03-27",
          "2024-03-28",
          "2024-04-01",
          "2024-04-02",
          "2024-04-03",
          "2024-04-04",
          "2024-04-05",
          "2024-04-08",
          "2024-04-09",
          "2024-04-10",
          "2024-04-11",
          "2024-04-12",
          "2024-04-15",
          "2024-04-16",
          "2024-04-17",
          "2024-04-18",
          "2024-04-19",
          "2024-04-22",
          "2024-04-23",
          "2024-04-24",
          "2024-04-25",
          "2024-04-26",
          "2024-04-29",
          "2024-04-30",
          "2024-05-02",
          "2024-05-03",
          "2024-05-06",
          "2024-05-07",
          "2024-05-08",
          "2024-05-09",
          "2024-05-10",
          "2024-05-13",
          "2024-05-14",
          "2024-05-15",
          "2024-05-16",
          "2024-05-17",
          "2024-05-20",
          "2024-05-21",
          "2024-05-22",
          "2024-05-23",
          "2024-05-24",
          "2024-05-27",
          "2024-05-28",
          "2024-05-29",
          "2024-05-31"
         ],
         "yaxis": "y2"
        }
       ],
       "layout": {
        "height": 400,
        "legend": {
         "bgcolor": "#FFFFFF",
         "font": {
          "color": "#4D5663"
         }
        },
        "margin": {
         "b": 30,
         "l": 30,
         "r": 30,
         "t": 30
        },
        "paper_bgcolor": "#FFFFFF",
        "plot_bgcolor": "#FFFFFF",
        "showlegend": true,
        "template": {
         "data": {
          "bar": [
           {
            "error_x": {
             "color": "#2a3f5f"
            },
            "error_y": {
             "color": "#2a3f5f"
            },
            "marker": {
             "line": {
              "color": "#E5ECF6",
              "width": 0.5
             },
             "pattern": {
              "fillmode": "overlay",
              "size": 10,
              "solidity": 0.2
             }
            },
            "type": "bar"
           }
          ],
          "barpolar": [
           {
            "marker": {
             "line": {
              "color": "#E5ECF6",
              "width": 0.5
             },
             "pattern": {
              "fillmode": "overlay",
              "size": 10,
              "solidity": 0.2
             }
            },
            "type": "barpolar"
           }
          ],
          "carpet": [
           {
            "aaxis": {
             "endlinecolor": "#2a3f5f",
             "gridcolor": "white",
             "linecolor": "white",
             "minorgridcolor": "white",
             "startlinecolor": "#2a3f5f"
            },
            "baxis": {
             "endlinecolor": "#2a3f5f",
             "gridcolor": "white",
             "linecolor": "white",
             "minorgridcolor": "white",
             "startlinecolor": "#2a3f5f"
            },
            "type": "carpet"
           }
          ],
          "choropleth": [
           {
            "colorbar": {
             "outlinewidth": 0,
             "ticks": ""
            },
            "type": "choropleth"
           }
          ],
          "contour": [
           {
            "colorbar": {
             "outlinewidth": 0,
             "ticks": ""
            },
            "colorscale": [
             [
              0,
              "#0d0887"
             ],
             [
              0.1111111111111111,
              "#46039f"
             ],
             [
              0.2222222222222222,
              "#7201a8"
             ],
             [
              0.3333333333333333,
              "#9c179e"
             ],
             [
              0.4444444444444444,
              "#bd3786"
             ],
             [
              0.5555555555555556,
              "#d8576b"
             ],
             [
              0.6666666666666666,
              "#ed7953"
             ],
             [
              0.7777777777777778,
              "#fb9f3a"
             ],
             [
              0.8888888888888888,
              "#fdca26"
             ],
             [
              1,
              "#f0f921"
             ]
            ],
            "type": "contour"
           }
          ],
          "contourcarpet": [
           {
            "colorbar": {
             "outlinewidth": 0,
             "ticks": ""
            },
            "type": "contourcarpet"
           }
          ],
          "heatmap": [
           {
            "colorbar": {
             "outlinewidth": 0,
             "ticks": ""
            },
            "colorscale": [
             [
              0,
              "#0d0887"
             ],
             [
              0.1111111111111111,
              "#46039f"
             ],
             [
              0.2222222222222222,
              "#7201a8"
             ],
             [
              0.3333333333333333,
              "#9c179e"
             ],
             [
              0.4444444444444444,
              "#bd3786"
             ],
             [
              0.5555555555555556,
              "#d8576b"
             ],
             [
              0.6666666666666666,
              "#ed7953"
             ],
             [
              0.7777777777777778,
              "#fb9f3a"
             ],
             [
              0.8888888888888888,
              "#fdca26"
             ],
             [
              1,
              "#f0f921"
             ]
            ],
            "type": "heatmap"
           }
          ],
          "heatmapgl": [
           {
            "colorbar": {
             "outlinewidth": 0,
             "ticks": ""
            },
            "colorscale": [
             [
              0,
              "#0d0887"
             ],
             [
              0.1111111111111111,
              "#46039f"
             ],
             [
              0.2222222222222222,
              "#7201a8"
             ],
             [
              0.3333333333333333,
              "#9c179e"
             ],
             [
              0.4444444444444444,
              "#bd3786"
             ],
             [
              0.5555555555555556,
              "#d8576b"
             ],
             [
              0.6666666666666666,
              "#ed7953"
             ],
             [
              0.7777777777777778,
              "#fb9f3a"
             ],
             [
              0.8888888888888888,
              "#fdca26"
             ],
             [
              1,
              "#f0f921"
             ]
            ],
            "type": "heatmapgl"
           }
          ],
          "histogram": [
           {
            "marker": {
             "pattern": {
              "fillmode": "overlay",
              "size": 10,
              "solidity": 0.2
             }
            },
            "type": "histogram"
           }
          ],
          "histogram2d": [
           {
            "colorbar": {
             "outlinewidth": 0,
             "ticks": ""
            },
            "colorscale": [
             [
              0,
              "#0d0887"
             ],
             [
              0.1111111111111111,
              "#46039f"
             ],
             [
              0.2222222222222222,
              "#7201a8"
             ],
             [
              0.3333333333333333,
              "#9c179e"
             ],
             [
              0.4444444444444444,
              "#bd3786"
             ],
             [
              0.5555555555555556,
              "#d8576b"
             ],
             [
              0.6666666666666666,
              "#ed7953"
             ],
             [
              0.7777777777777778,
              "#fb9f3a"
             ],
             [
              0.8888888888888888,
              "#fdca26"
             ],
             [
              1,
              "#f0f921"
             ]
            ],
            "type": "histogram2d"
           }
          ],
          "histogram2dcontour": [
           {
            "colorbar": {
             "outlinewidth": 0,
             "ticks": ""
            },
            "colorscale": [
             [
              0,
              "#0d0887"
             ],
             [
              0.1111111111111111,
              "#46039f"
             ],
             [
              0.2222222222222222,
              "#7201a8"
             ],
             [
              0.3333333333333333,
              "#9c179e"
             ],
             [
              0.4444444444444444,
              "#bd3786"
             ],
             [
              0.5555555555555556,
              "#d8576b"
             ],
             [
              0.6666666666666666,
              "#ed7953"
             ],
             [
              0.7777777777777778,
              "#fb9f3a"
             ],
             [
              0.8888888888888888,
              "#fdca26"
             ],
             [
              1,
              "#f0f921"
             ]
            ],
            "type": "histogram2dcontour"
           }
          ],
          "mesh3d": [
           {
            "colorbar": {
             "outlinewidth": 0,
             "ticks": ""
            },
            "type": "mesh3d"
           }
          ],
          "parcoords": [
           {
            "line": {
             "colorbar": {
              "outlinewidth": 0,
              "ticks": ""
             }
            },
            "type": "parcoords"
           }
          ],
          "pie": [
           {
            "automargin": true,
            "type": "pie"
           }
          ],
          "scatter": [
           {
            "fillpattern": {
             "fillmode": "overlay",
             "size": 10,
             "solidity": 0.2
            },
            "type": "scatter"
           }
          ],
          "scatter3d": [
           {
            "line": {
             "colorbar": {
              "outlinewidth": 0,
              "ticks": ""
             }
            },
            "marker": {
             "colorbar": {
              "outlinewidth": 0,
              "ticks": ""
             }
            },
            "type": "scatter3d"
           }
          ],
          "scattercarpet": [
           {
            "marker": {
             "colorbar": {
              "outlinewidth": 0,
              "ticks": ""
             }
            },
            "type": "scattercarpet"
           }
          ],
          "scattergeo": [
           {
            "marker": {
             "colorbar": {
              "outlinewidth": 0,
              "ticks": ""
             }
            },
            "type": "scattergeo"
           }
          ],
          "scattergl": [
           {
            "marker": {
             "colorbar": {
              "outlinewidth": 0,
              "ticks": ""
             }
            },
            "type": "scattergl"
           }
          ],
          "scattermapbox": [
           {
            "marker": {
             "colorbar": {
              "outlinewidth": 0,
              "ticks": ""
             }
            },
            "type": "scattermapbox"
           }
          ],
          "scatterpolar": [
           {
            "marker": {
             "colorbar": {
              "outlinewidth": 0,
              "ticks": ""
             }
            },
            "type": "scatterpolar"
           }
          ],
          "scatterpolargl": [
           {
            "marker": {
             "colorbar": {
              "outlinewidth": 0,
              "ticks": ""
             }
            },
            "type": "scatterpolargl"
           }
          ],
          "scatterternary": [
           {
            "marker": {
             "colorbar": {
              "outlinewidth": 0,
              "ticks": ""
             }
            },
            "type": "scatterternary"
           }
          ],
          "surface": [
           {
            "colorbar": {
             "outlinewidth": 0,
             "ticks": ""
            },
            "colorscale": [
             [
              0,
              "#0d0887"
             ],
             [
              0.1111111111111111,
              "#46039f"
             ],
             [
              0.2222222222222222,
              "#7201a8"
             ],
             [
              0.3333333333333333,
              "#9c179e"
             ],
             [
              0.4444444444444444,
              "#bd3786"
             ],
             [
              0.5555555555555556,
              "#d8576b"
             ],
             [
              0.6666666666666666,
              "#ed7953"
             ],
             [
              0.7777777777777778,
              "#fb9f3a"
             ],
             [
              0.8888888888888888,
              "#fdca26"
             ],
             [
              1,
              "#f0f921"
             ]
            ],
            "type": "surface"
           }
          ],
          "table": [
           {
            "cells": {
             "fill": {
              "color": "#EBF0F8"
             },
             "line": {
              "color": "white"
             }
            },
            "header": {
             "fill": {
              "color": "#C8D4E3"
             },
             "line": {
              "color": "white"
             }
            },
            "type": "table"
           }
          ]
         },
         "layout": {
          "annotationdefaults": {
           "arrowcolor": "#2a3f5f",
           "arrowhead": 0,
           "arrowwidth": 1
          },
          "autotypenumbers": "strict",
          "coloraxis": {
           "colorbar": {
            "outlinewidth": 0,
            "ticks": ""
           }
          },
          "colorscale": {
           "diverging": [
            [
             0,
             "#8e0152"
            ],
            [
             0.1,
             "#c51b7d"
            ],
            [
             0.2,
             "#de77ae"
            ],
            [
             0.3,
             "#f1b6da"
            ],
            [
             0.4,
             "#fde0ef"
            ],
            [
             0.5,
             "#f7f7f7"
            ],
            [
             0.6,
             "#e6f5d0"
            ],
            [
             0.7,
             "#b8e186"
            ],
            [
             0.8,
             "#7fbc41"
            ],
            [
             0.9,
             "#4d9221"
            ],
            [
             1,
             "#276419"
            ]
           ],
           "sequential": [
            [
             0,
             "#0d0887"
            ],
            [
             0.1111111111111111,
             "#46039f"
            ],
            [
             0.2222222222222222,
             "#7201a8"
            ],
            [
             0.3333333333333333,
             "#9c179e"
            ],
            [
             0.4444444444444444,
             "#bd3786"
            ],
            [
             0.5555555555555556,
             "#d8576b"
            ],
            [
             0.6666666666666666,
             "#ed7953"
            ],
            [
             0.7777777777777778,
             "#fb9f3a"
            ],
            [
             0.8888888888888888,
             "#fdca26"
            ],
            [
             1,
             "#f0f921"
            ]
           ],
           "sequentialminus": [
            [
             0,
             "#0d0887"
            ],
            [
             0.1111111111111111,
             "#46039f"
            ],
            [
             0.2222222222222222,
             "#7201a8"
            ],
            [
             0.3333333333333333,
             "#9c179e"
            ],
            [
             0.4444444444444444,
             "#bd3786"
            ],
            [
             0.5555555555555556,
             "#d8576b"
            ],
            [
             0.6666666666666666,
             "#ed7953"
            ],
            [
             0.7777777777777778,
             "#fb9f3a"
            ],
            [
             0.8888888888888888,
             "#fdca26"
            ],
            [
             1,
             "#f0f921"
            ]
           ]
          },
          "colorway": [
           "#636efa",
           "#EF553B",
           "#00cc96",
           "#ab63fa",
           "#FFA15A",
           "#19d3f3",
           "#FF6692",
           "#B6E880",
           "#FF97FF",
           "#FECB52"
          ],
          "font": {
           "color": "#2a3f5f"
          },
          "geo": {
           "bgcolor": "white",
           "lakecolor": "white",
           "landcolor": "#E5ECF6",
           "showlakes": true,
           "showland": true,
           "subunitcolor": "white"
          },
          "hoverlabel": {
           "align": "left"
          },
          "hovermode": "closest",
          "mapbox": {
           "style": "light"
          },
          "paper_bgcolor": "white",
          "plot_bgcolor": "#E5ECF6",
          "polar": {
           "angularaxis": {
            "gridcolor": "white",
            "linecolor": "white",
            "ticks": ""
           },
           "bgcolor": "#E5ECF6",
           "radialaxis": {
            "gridcolor": "white",
            "linecolor": "white",
            "ticks": ""
           }
          },
          "scene": {
           "xaxis": {
            "backgroundcolor": "#E5ECF6",
            "gridcolor": "white",
            "gridwidth": 2,
            "linecolor": "white",
            "showbackground": true,
            "ticks": "",
            "zerolinecolor": "white"
           },
           "yaxis": {
            "backgroundcolor": "#E5ECF6",
            "gridcolor": "white",
            "gridwidth": 2,
            "linecolor": "white",
            "showbackground": true,
            "ticks": "",
            "zerolinecolor": "white"
           },
           "zaxis": {
            "backgroundcolor": "#E5ECF6",
            "gridcolor": "white",
            "gridwidth": 2,
            "linecolor": "white",
            "showbackground": true,
            "ticks": "",
            "zerolinecolor": "white"
           }
          },
          "shapedefaults": {
           "line": {
            "color": "#2a3f5f"
           }
          },
          "ternary": {
           "aaxis": {
            "gridcolor": "white",
            "linecolor": "white",
            "ticks": ""
           },
           "baxis": {
            "gridcolor": "white",
            "linecolor": "white",
            "ticks": ""
           },
           "bgcolor": "#E5ECF6",
           "caxis": {
            "gridcolor": "white",
            "linecolor": "white",
            "ticks": ""
           }
          },
          "title": {
           "x": 0.05
          },
          "xaxis": {
           "automargin": true,
           "gridcolor": "white",
           "linecolor": "white",
           "ticks": "",
           "title": {
            "standoff": 15
           },
           "zerolinecolor": "white",
           "zerolinewidth": 2
          },
          "yaxis": {
           "automargin": true,
           "gridcolor": "white",
           "linecolor": "white",
           "ticks": "",
           "title": {
            "standoff": 15
           },
           "zerolinecolor": "white",
           "zerolinewidth": 2
          }
         }
        },
        "title": {
         "font": {
          "color": "#4D5663"
         },
         "text": "BIOM3.SA"
        },
        "width": 1000,
        "xaxis": {
         "anchor": "y2",
         "autorange": true,
         "gridcolor": "#E1E5ED",
         "range": [
          "2024-02-01 12:00",
          "2024-05-31 12:00"
         ],
         "rangebreaks": [
          {
           "bounds": [
            "sat",
            "mon"
           ]
          }
         ],
         "rangeselector": {
          "bgcolor": "rgba(150, 200, 250, 1)",
          "buttons": [
           {
            "count": 1,
            "label": "1m",
            "step": "month",
            "stepmode": "backward"
           },
           {
            "count": 1,
            "label": "1y",
            "step": "year",
            "stepmode": "backward"
           }
          ],
          "font": {
           "size": 13
          },
          "visible": false,
          "x": 0,
          "y": 0.9
         },
         "rangeslider": {
          "visible": false,
          "yaxis2": {},
          "yaxis3": {}
         },
         "showgrid": true,
         "tickfont": {
          "color": "#4D5663"
         },
         "title": {
          "font": {
           "color": "#4D5663"
          },
          "text": ""
         },
         "type": "date",
         "zerolinecolor": "#E1E5ED"
        },
        "yaxis": {
         "gridcolor": "#E1E5ED",
         "showgrid": true,
         "showticklabels": false,
         "tickfont": {
          "color": "#4D5663"
         },
         "title": {
          "font": {
           "color": "#4D5663"
          },
          "text": ""
         },
         "zerolinecolor": "#E1E5ED"
        },
        "yaxis2": {
         "autorange": true,
         "domain": [
          0.23,
          0.9
         ],
         "gridcolor": "#E1E5ED",
         "range": [
          1.4378970215375586,
          23.094363506511797
         ],
         "showgrid": true,
         "tickfont": {
          "color": "#4D5663"
         },
         "title": {
          "font": {
           "color": "#4D5663"
          },
          "text": ""
         },
         "type": "linear",
         "zerolinecolor": "#E1E5ED"
        },
        "yaxis3": {
         "autorange": true,
         "domain": [
          0,
          0.15
         ],
         "gridcolor": "#E1E5ED",
         "range": [
          0,
          2062842.105263158
         ],
         "showgrid": true,
         "tickfont": {
          "color": "#4D5663"
         },
         "title": {
          "font": {
           "color": "#4D5663"
          },
          "text": ""
         },
         "type": "linear",
         "zerolinecolor": "#E1E5ED"
        }
       }
      },
      "image/png": "[encoded data removed]",
      "text/html": [
       "<div>                            <div id=\"dc16807d-b28f-471b-ad01-3e99a4046f6a\" class=\"plotly-graph-div\" style=\"height:400px; width:1000px;\"></div>            <script type=\"text/javascript\">                require([\"plotly\"], function(Plotly) {                    window.PLOTLYENV=window.PLOTLYENV || {};                                    if (document.getElementById(\"dc16807d-b28f-471b-ad01-3e99a4046f6a\")) {                    Plotly.newPlot(                        \"dc16807d-b28f-471b-ad01-3e99a4046f6a\",                        [{\"legendgroup\":\"BOLL(Close,20)\",\"line\":{\"color\":\"rgba(55, 128, 191, 1.0)\",\"dash\":\"solid\",\"shape\":\"linear\",\"width\":1.3},\"mode\":\"lines\",\"name\":\"BOLL(Close,20)\",\"showlegend\":true,\"text\":\"\",\"x\":[\"2024-02-02\",\"2024-02-05\",\"2024-02-06\",\"2024-02-07\",\"2024-02-08\",\"2024-02-09\",\"2024-02-14\",\"2024-02-15\",\"2024-02-16\",\"2024-02-19\",\"2024-02-20\",\"2024-02-21\",\"2024-02-22\",\"2024-02-23\",\"2024-02-26\",\"2024-02-27\",\"2024-02-28\",\"2024-02-29\",\"2024-03-01\",\"2024-03-04\",\"2024-03-05\",\"2024-03-06\",\"2024-03-07\",\"2024-03-08\",\"2024-03-11\",\"2024-03-12\",\"2024-03-13\",\"2024-03-14\",\"2024-03-15\",\"2024-03-18\",\"2024-03-19\",\"2024-03-20\",\"2024-03-21\",\"2024-03-22\",\"2024-03-25\",\"2024-03-26\",\"2024-03-27\",\"2024-03-28\",\"2024-04-01\",\"2024-04-02\",\"2024-04-03\",\"2024-04-04\",\"2024-04-05\",\"2024-04-08\",\"2024-04-09\",\"2024-04-10\",\"2024-04-11\",\"2024-04-12\",\"2024-04-15\",\"2024-04-16\",\"2024-04-17\",\"2024-04-18\",\"2024-04-19\",\"2024-04-22\",\"2024-04-23\",\"2024-04-24\",\"2024-04-25\",\"2024-04-26\",\"2024-04-29\",\"2024-04-30\",\"2024-05-02\",\"2024-05-03\",\"2024-05-06\",\"2024-05-07\",\"2024-05-08\",\"2024-05-09\",\"2024-05-10\",\"2024-05-13\",\"2024-05-14\",\"2024-05-15\",\"2024-05-16\",\"2024-05-17\",\"2024-05-20\",\"2024-05-21\",\"2024-05-22\",\"2024-05-23\",\"2024-05-24\",\"2024-05-27\",\"2024-05-28\",\"2024-05-29\",\"2024-05-31\"],\"y\":[\"\",\"\",\"\",\"\",\"\",\"\",\"\",\"\",\"\",\"\",\"\",\"\",\"\",\"\",\"\",\"\",\"\",\"\",\"\",7.37449996471405,7.626999950408935,7.820999956130981,7.993499970436096,8.17399995326996,8.36749997138977,8.553499960899353,8.74049997329712,8.918999981880187,9.10649995803833,9.280499935150146,9.449999904632568,9.530999898910522,9.583999919891358,9.535499954223633,9.400999975204467,9.331999969482421,9.299499988555908,9.314999961853028,9.30649995803833,9.277499961853028,9.268499994277954,9.350999975204468,9.442999982833863,9.521000003814697,9.583500003814697,9.642500019073486,9.701999998092651,9.771000003814697,9.878000020980835,9.980000019073486,10.286000061035157,10.616000032424926,11.018000030517578,11.38100004196167,11.737000036239625,12.099000024795533,12.425000047683715,12.71550006866455,13.108500099182129,13.612000131607056,14.053000164031982,14.436500215530396,14.833500242233276,15.222500228881836,15.60850019454956,15.999500179290772,16.392000198364258,16.717500162124633,16.948000144958495,17.182000160217285,17.212500143051148,17.18650016784668,17.112500143051147,17.049000120162965,16.97150011062622,16.831000137329102,16.69800009727478,16.592000102996828,16.42650008201599,16.212500047683715,16.14800000190735],\"yaxis\":\"y2\",\"type\":\"scatter\"},{\"legendgroup\":\"BOLL(Close,20)\",\"line\":{\"color\":\"rgba(55, 128, 191, 0.8999999999999999)\",\"dash\":\"solid\",\"shape\":\"linear\",\"width\":1.3},\"mode\":\"lines\",\"name\":\"UPPER(Close,20)\",\"showlegend\":false,\"text\":\"\",\"x\":[\"2024-02-02\",\"2024-02-05\",\"2024-02-06\",\"2024-02-07\",\"2024-02-08\",\"2024-02-09\",\"2024-02-14\",\"2024-02-15\",\"2024-02-16\",\"2024-02-19\",\"2024-02-20\",\"2024-02-21\",\"2024-02-22\",\"2024-02-23\",\"2024-02-26\",\"2024-02-27\",\"2024-02-28\",\"2024-02-29\",\"2024-03-01\",\"2024-03-04\",\"2024-03-05\",\"2024-03-06\",\"2024-03-07\",\"2024-03-08\",\"2024-03-11\",\"2024-03-12\",\"2024-03-13\",\"2024-03-14\",\"2024-03-15\",\"2024-03-18\",\"2024-03-19\",\"2024-03-20\",\"2024-03-21\",\"2024-03-22\",\"2024-03-25\",\"2024-03-26\",\"2024-03-27\",\"2024-03-28\",\"2024-04-01\",\"2024-04-02\",\"2024-04-03\",\"2024-04-04\",\"2024-04-05\",\"2024-04-08\",\"2024-04-09\",\"2024-04-10\",\"2024-04-11\",\"2024-04-12\",\"2024-04-15\",\"2024-04-16\",\"2024-04-17\",\"2024-04-18\",\"2024-04-19\",\"2024-04-22\",\"2024-04-23\",\"2024-04-24\",\"2024-04-25\",\"2024-04-26\",\"2024-04-29\",\"2024-04-30\",\"2024-05-02\",\"2024-05-03\",\"2024-05-06\",\"2024-05-07\",\"2024-05-08\",\"2024-05-09\",\"2024-05-10\",\"2024-05-13\",\"2024-05-14\",\"2024-05-15\",\"2024-05-16\",\"2024-05-17\",\"2024-05-20\",\"2024-05-21\",\"2024-05-22\",\"2024-05-23\",\"2024-05-24\",\"2024-05-27\",\"2024-05-28\",\"2024-05-29\",\"2024-05-31\"],\"y\":[\"\",\"\",\"\",\"\",\"\",\"\",\"\",\"\",\"\",\"\",\"\",\"\",\"\",\"\",\"\",\"\",\"\",\"\",\"\",12.228279583641829,12.50791901286814,12.598058575604998,12.636045741033861,12.65175956205878,12.637423354245213,12.573938497856542,12.443479924686155,12.280527614004841,12.020757080539159,11.680995093851491,11.224805900007452,11.169829893266797,11.076371934254656,11.024412834041959,10.56708008311892,10.392795923849496,10.326308399761235,10.387674726213291,10.356096660921075,10.187788890533108,10.145414947653869,10.428812461337994,10.618129997959313,10.750221389857128,10.847083475114713,10.901553587311296,10.937502890458195,10.99789003145311,11.229141477671398,11.381382716270222,13.028648862056393,14.408537660527546,15.713124459108124,16.55039960039116,17.15584097039876,17.733509904371893,18.119605163304577,18.52382984495169,19.175450472704362,20.27665524084985,20.868487793452225,21.32041094445161,21.70160937421621,21.92697163070455,22.011540182263087,21.945536730232895,21.71606934027521,21.230806563728223,20.69067956673424,19.805775204227054,19.75967131566811,19.7863974960196,19.805351689916517,19.873255606984117,19.994996408305038,20.2209229942208,20.452333303986833,20.542699801235404,20.446137871503,19.823447855892468,19.60802508958679],\"yaxis\":\"y2\",\"type\":\"scatter\"},{\"fill\":\"tonexty\",\"fillcolor\":\"rgba(55, 128, 191, 0.1)\",\"legendgroup\":\"BOLL(Close,20)\",\"line\":{\"color\":\"rgba(55, 128, 191, 0.7999999999999998)\",\"dash\":\"solid\",\"shape\":\"linear\",\"width\":1.3},\"mode\":\"lines\",\"name\":\"LOWER(Close,20)\",\"showlegend\":false,\"text\":\"\",\"x\":[\"2024-02-02\",\"2024-02-05\",\"2024-02-06\",\"2024-02-07\",\"2024-02-08\",\"2024-02-09\",\"2024-02-14\",\"2024-02-15\",\"2024-02-16\",\"2024-02-19\",\"2024-02-20\",\"2024-02-21\",\"2024-02-22\",\"2024-02-23\",\"2024-02-26\",\"2024-02-27\",\"2024-02-28\",\"2024-02-29\",\"2024-03-01\",\"2024-03-04\",\"2024-03-05\",\"2024-03-06\",\"2024-03-07\",\"2024-03-08\",\"2024-03-11\",\"2024-03-12\",\"2024-03-13\",\"2024-03-14\",\"2024-03-15\",\"2024-03-18\",\"2024-03-19\",\"2024-03-20\",\"2024-03-21\",\"2024-03-22\",\"2024-03-25\",\"2024-03-26\",\"2024-03-27\",\"2024-03-28\",\"2024-04-01\",\"2024-04-02\",\"2024-04-03\",\"2024-04-04\",\"2024-04-05\",\"2024-04-08\",\"2024-04-09\",\"2024-04-10\",\"2024-04-11\",\"2024-04-12\",\"2024-04-15\",\"2024-04-16\",\"2024-04-17\",\"2024-04-18\",\"2024-04-19\",\"2024-04-22\",\"2024-04-23\",\"2024-04-24\",\"2024-04-25\",\"2024-04-26\",\"2024-04-29\",\"2024-04-30\",\"2024-05-02\",\"2024-05-03\",\"2024-05-06\",\"2024-05-07\",\"2024-05-08\",\"2024-05-09\",\"2024-05-10\",\"2024-05-13\",\"2024-05-14\",\"2024-05-15\",\"2024-05-16\",\"2024-05-17\",\"2024-05-20\",\"2024-05-21\",\"2024-05-22\",\"2024-05-23\",\"2024-05-24\",\"2024-05-27\",\"2024-05-28\",\"2024-05-29\",\"2024-05-31\"],\"y\":[\"\",\"\",\"\",\"\",\"\",\"\",\"\",\"\",\"\",\"\",\"\",\"\",\"\",\"\",\"\",\"\",\"\",\"\",\"\",2.5207203457862706,2.7460808879497307,3.043941336656964,3.3509541998383297,3.6962403444811383,4.097576588534329,4.533061423942164,5.037520021908083,5.557472349755534,6.192242835537502,6.880004776448802,7.675193909257684,7.8921699045542475,8.09162790552806,8.046587074405307,8.234919867290014,8.271204015115346,8.272691577350582,8.242325197492764,8.256903255155585,8.367211033172948,8.39158504090204,8.273187489070942,8.267869967708412,8.291778617772266,8.31991653251468,8.383446450835676,8.466497105727107,8.544109976176284,8.526858564290272,8.57861732187675,7.54335126001392,6.823462404322306,6.3228756019270325,6.2116004835321785,6.31815910208049,6.464490145219173,6.730394932062856,6.907170292377411,7.041549725659896,6.947345022364265,7.23751253461174,7.5525894866091825,7.9653911102503425,8.518028827059123,9.205460206836033,10.053463628348648,11.067931056453304,12.204193760521044,13.20532072318275,14.558225116207517,14.665328970434187,14.586602839673764,14.419648596185777,14.224744633341814,13.948003812947402,13.441077280437407,12.943666890562723,12.641300404758251,12.40686229252898,12.60155223947496,12.687974914227908],\"yaxis\":\"y2\",\"type\":\"scatter\"},{\"line\":{\"color\":\"rgba(219, 64, 82, 1.0)\",\"dash\":\"solid\",\"shape\":\"linear\",\"width\":1.3},\"mode\":\"lines\",\"name\":\" SMA(20)\",\"text\":\"\",\"x\":[\"2024-02-02\",\"2024-02-05\",\"2024-02-06\",\"2024-02-07\",\"2024-02-08\",\"2024-02-09\",\"2024-02-14\",\"2024-02-15\",\"2024-02-16\",\"2024-02-19\",\"2024-02-20\",\"2024-02-21\",\"2024-02-22\",\"2024-02-23\",\"2024-02-26\",\"2024-02-27\",\"2024-02-28\",\"2024-02-29\",\"2024-03-01\",\"2024-03-04\",\"2024-03-05\",\"2024-03-06\",\"2024-03-07\",\"2024-03-08\",\"2024-03-11\",\"2024-03-12\",\"2024-03-13\",\"2024-03-14\",\"2024-03-15\",\"2024-03-18\",\"2024-03-19\",\"2024-03-20\",\"2024-03-21\",\"2024-03-22\",\"2024-03-25\",\"2024-03-26\",\"2024-03-27\",\"2024-03-28\",\"2024-04-01\",\"2024-04-02\",\"2024-04-03\",\"2024-04-04\",\"2024-04-05\",\"2024-04-08\",\"2024-04-09\",\"2024-04-10\",\"2024-04-11\",\"2024-04-12\",\"2024-04-15\",\"2024-04-16\",\"2024-04-17\",\"2024-04-18\",\"2024-04-19\",\"2024-04-22\",\"2024-04-23\",\"2024-04-24\",\"2024-04-25\",\"2024-04-26\",\"2024-04-29\",\"2024-04-30\",\"2024-05-02\",\"2024-05-03\",\"2024-05-06\",\"2024-05-07\",\"2024-05-08\",\"2024-05-09\",\"2024-05-10\",\"2024-05-13\",\"2024-05-14\",\"2024-05-15\",\"2024-05-16\",\"2024-05-17\",\"2024-05-20\",\"2024-05-21\",\"2024-05-22\",\"2024-05-23\",\"2024-05-24\",\"2024-05-27\",\"2024-05-28\",\"2024-05-29\",\"2024-05-31\"],\"y\":[\"\",\"\",\"\",\"\",\"\",\"\",\"\",\"\",\"\",\"\",\"\",\"\",\"\",\"\",\"\",\"\",\"\",\"\",\"\",7.37449996471405,7.626999950408935,7.820999956130981,7.993499970436096,8.17399995326996,8.36749997138977,8.553499960899353,8.74049997329712,8.918999981880187,9.10649995803833,9.280499935150146,9.449999904632568,9.530999898910522,9.583999919891358,9.535499954223633,9.400999975204467,9.331999969482421,9.299499988555908,9.314999961853028,9.30649995803833,9.277499961853028,9.268499994277954,9.350999975204468,9.442999982833863,9.521000003814697,9.583500003814697,9.642500019073486,9.701999998092651,9.771000003814697,9.878000020980835,9.980000019073486,10.286000061035157,10.616000032424926,11.018000030517578,11.38100004196167,11.737000036239625,12.099000024795533,12.425000047683715,12.71550006866455,13.108500099182129,13.612000131607056,14.053000164031982,14.436500215530396,14.833500242233276,15.222500228881836,15.60850019454956,15.999500179290772,16.392000198364258,16.717500162124633,16.948000144958495,17.182000160217285,17.212500143051148,17.18650016784668,17.112500143051147,17.049000120162965,16.97150011062622,16.831000137329102,16.69800009727478,16.592000102996828,16.42650008201599,16.212500047683715,16.14800000190735],\"yaxis\":\"y2\",\"type\":\"scatter\"},{\"marker\":{\"color\":[\"#db4052\",\"#008000\",\"#008000\",\"#db4052\",\"#db4052\",\"#008000\",\"#db4052\",\"#008000\",\"#db4052\",\"#008000\",\"#008000\",\"#008000\",\"#db4052\",\"#008000\",\"#008000\",\"#db4052\",\"#db4052\",\"#db4052\",\"#008000\",\"#008000\",\"#db4052\",\"#db4052\",\"#db4052\",\"#008000\",\"#008000\",\"#db4052\",\"#db4052\",\"#008000\",\"#008000\",\"#db4052\",\"#008000\",\"#008000\",\"#db4052\",\"#008000\",\"#db4052\",\"#008000\",\"#008000\",\"#008000\",\"#db4052\",\"#008000\",\"#db4052\",\"#008000\",\"#db4052\",\"#db4052\",\"#db4052\",\"#db4052\",\"#db4052\",\"#008000\",\"#008000\",\"#db4052\",\"#008000\",\"#008000\",\"#008000\",\"#db4052\",\"#db4052\",\"#008000\",\"#db4052\",\"#008000\",\"#008000\",\"#008000\",\"#db4052\",\"#db4052\",\"#008000\",\"#db4052\",\"#db4052\",\"#db4052\",\"#db4052\",\"#db4052\",\"#db4052\",\"#db4052\",\"#008000\",\"#db4052\",\"#db4052\",\"#db4052\",\"#db4052\",\"#db4052\",\"#db4052\",\"#008000\",\"#008000\",\"#008000\",\"#008000\"],\"line\":{\"color\":[\"#db4052\",\"#008000\",\"#008000\",\"#db4052\",\"#db4052\",\"#008000\",\"#db4052\",\"#008000\",\"#db4052\",\"#008000\",\"#008000\",\"#008000\",\"#db4052\",\"#008000\",\"#008000\",\"#db4052\",\"#db4052\",\"#db4052\",\"#008000\",\"#008000\",\"#db4052\",\"#db4052\",\"#db4052\",\"#008000\",\"#008000\",\"#db4052\",\"#db4052\",\"#008000\",\"#008000\",\"#db4052\",\"#008000\",\"#008000\",\"#db4052\",\"#008000\",\"#db4052\",\"#008000\",\"#008000\",\"#008000\",\"#db4052\",\"#008000\",\"#db4052\",\"#008000\",\"#db4052\",\"#db4052\",\"#db4052\",\"#db4052\",\"#db4052\",\"#008000\",\"#008000\",\"#db4052\",\"#008000\",\"#008000\",\"#008000\",\"#db4052\",\"#db4052\",\"#008000\",\"#db4052\",\"#008000\",\"#008000\",\"#008000\",\"#db4052\",\"#db4052\",\"#008000\",\"#db4052\",\"#db4052\",\"#db4052\",\"#db4052\",\"#db4052\",\"#db4052\",\"#db4052\",\"#008000\",\"#db4052\",\"#db4052\",\"#db4052\",\"#db4052\",\"#db4052\",\"#db4052\",\"#008000\",\"#008000\",\"#008000\",\"#008000\"],\"width\":1}},\"name\":\"Volume\",\"opacity\":0.8,\"orientation\":\"v\",\"text\":\"\",\"x\":[\"2024-02-02\",\"2024-02-05\",\"2024-02-06\",\"2024-02-07\",\"2024-02-08\",\"2024-02-09\",\"2024-02-14\",\"2024-02-15\",\"2024-02-16\",\"2024-02-19\",\"2024-02-20\",\"2024-02-21\",\"2024-02-22\",\"2024-02-23\",\"2024-02-26\",\"2024-02-27\",\"2024-02-28\",\"2024-02-29\",\"2024-03-01\",\"2024-03-04\",\"2024-03-05\",\"2024-03-06\",\"2024-03-07\",\"2024-03-08\",\"2024-03-11\",\"2024-03-12\",\"2024-03-13\",\"2024-03-14\",\"2024-03-15\",\"2024-03-18\",\"2024-03-19\",\"2024-03-20\",\"2024-03-21\",\"2024-03-22\",\"2024-03-25\",\"2024-03-26\",\"2024-03-27\",\"2024-03-28\",\"2024-04-01\",\"2024-04-02\",\"2024-04-03\",\"2024-04-04\",\"2024-04-05\",\"2024-04-08\",\"2024-04-09\",\"2024-04-10\",\"2024-04-11\",\"2024-04-12\",\"2024-04-15\",\"2024-04-16\",\"2024-04-17\",\"2024-04-18\",\"2024-04-19\",\"2024-04-22\",\"2024-04-23\",\"2024-04-24\",\"2024-04-25\",\"2024-04-26\",\"2024-04-29\",\"2024-04-30\",\"2024-05-02\",\"2024-05-03\",\"2024-05-06\",\"2024-05-07\",\"2024-05-08\",\"2024-05-09\",\"2024-05-10\",\"2024-05-13\",\"2024-05-14\",\"2024-05-15\",\"2024-05-16\",\"2024-05-17\",\"2024-05-20\",\"2024-05-21\",\"2024-05-22\",\"2024-05-23\",\"2024-05-24\",\"2024-05-27\",\"2024-05-28\",\"2024-05-29\",\"2024-05-31\"],\"y\":[19500,36200,107400,38800,58000,1400,4500,16300,35400,20500,20900,86800,138100,173600,311200,103700,64000,42300,22400,26900,88900,51200,35500,10400,12200,12000,4100,12000,10700,21000,24700,8600,22400,26900,21900,7700,13400,63700,1959700,79000,56100,111200,40400,13100,31200,21900,98900,89500,227100,20400,369800,410800,473300,91500,200000,233500,132900,124800,311600,617500,282200,203700,89200,93100,33100,26500,218100,112100,214800,137800,161100,28800,92500,241800,143000,51900,52900,71800,205600,224700,643700],\"yaxis\":\"y3\",\"type\":\"bar\"},{\"close\":[5.099999904632568,5.170000076293945,5.309999942779541,5.289999961853027,5.21999979019165,5.28000020980835,5.21999979019165,5.440000057220459,5.360000133514404,5.590000152587891,5.840000152587891,8.0,8.0,10.069999694824219,11.569999694824219,10.460000038146973,9.899999618530273,9.890000343322754,10.079999923706055,10.699999809265137,10.149999618530273,9.050000190734863,8.760000228881836,8.899999618530273,9.09000015258789,9.0,8.960000038146973,9.010000228881836,9.109999656677246,9.069999694824219,9.229999542236328,9.619999885559082,9.0600004196167,9.100000381469727,8.880000114440918,9.079999923706055,9.25,10.199999809265137,9.90999984741211,10.119999885559082,9.970000267028809,10.699999809265137,10.600000381469727,10.460000038146973,10.34000015258789,10.180000305175781,10.149999618530273,10.390000343322754,11.25,11.109999656677246,15.350000381469727,16.219999313354492,17.100000381469727,16.360000610351562,16.0,16.31999969482422,15.770000457763672,16.010000228881836,17.770000457763672,20.190000534057617,18.790000915527344,18.3700008392334,18.540000915527344,18.239999771118164,18.059999465942383,18.0,18.0,16.899999618530273,15.859999656677246,15.789999961853027,15.960000038146973,15.699999809265137,15.619999885559082,15.09000015258789,14.449999809265137,13.510000228881836,13.109999656677246,13.890000343322754,14.460000038146973,15.90999984741211,17.5],\"decreasing\":{\"line\":{\"color\":\"#db4052\"}},\"high\":[5.260000228881836,5.489999771118164,5.389999866485596,5.480000019073486,5.909999847412109,5.389999866485596,5.400000095367432,5.440000057220459,5.440000057220459,5.789999961853027,5.889999866485596,8.0,8.899999618530273,10.199999809265137,12.220000267028809,12.220000267028809,10.699999809265137,10.40999984741211,10.119999885559082,10.9399995803833,10.800000190734863,10.640000343322754,9.329999923706055,8.949999809265137,9.09000015258789,9.350000381469727,9.140000343322754,9.170000076293945,9.239999771118164,9.399999618530273,9.710000038146973,9.699999809265137,9.699999809265137,9.25,9.470000267028809,9.079999923706055,9.550000190734863,10.199999809265137,10.449999809265137,11.5,10.4399995803833,11.0,11.34000015258789,10.90999984741211,10.979999542236328,10.4399995803833,10.40999984741211,10.4399995803833,11.300000190734863,11.239999771118164,16.290000915527344,18.399999618530273,17.850000381469727,17.760000228881836,17.329999923706055,17.100000381469727,16.6299991607666,16.350000381469727,17.829999923706055,20.190000534057617,21.200000762939453,19.309999465942383,18.889999389648438,18.739999771118164,18.25,18.729999542236328,18.149999618530273,18.200000762939453,17.290000915527344,16.790000915527344,17.6200008392334,16.170000076293945,16.43000030517578,15.539999961853027,15.180000305175781,14.710000038146973,13.859999656677246,13.890000343322754,14.869999885559082,15.90999984741211,17.520000457763672],\"increasing\":{\"line\":{\"color\":\"#008000\"}},\"low\":[5.0,5.0,5.099999904632568,5.190000057220459,5.190000057220459,5.25,5.199999809265137,5.239999771118164,5.340000152587891,5.269999980926514,5.480000019073486,5.860000133514404,7.639999866485596,8.1899995803833,9.609999656677246,10.399999618530273,9.899999618530273,9.600000381469727,9.579999923706055,9.9399995803833,9.619999885559082,8.800000190734863,8.0,8.380000114440918,8.699999809265137,8.899999618530273,8.949999809265137,9.0,8.729999542236328,8.8100004196167,9.0600004196167,9.149999618530273,8.920000076293945,9.0600004196167,8.579999923706055,8.770000457763672,9.020000457763672,8.630000114440918,9.420000076293945,10.069999694824219,9.529999732971191,9.850000381469727,10.550000190734863,10.220000267028809,10.149999618530273,10.0600004196167,10.039999961853027,9.819999694824219,10.0,10.989999771118164,11.0,15.890000343322754,16.290000915527344,16.350000381469727,14.720000267028809,15.6899995803833,15.5,15.800000190734863,15.720000267028809,17.149999618530273,17.899999618530273,18.219999313354492,18.290000915527344,18.040000915527344,18.059999465942383,18.0,16.3700008392334,16.899999618530273,15.800000190734863,15.710000038146973,15.699999809265137,15.699999809265137,15.140000343322754,14.319999694824219,14.380000114440918,13.510000228881836,13.109999656677246,12.670000076293945,13.4399995803833,13.529999732971191,15.010000228881836],\"name\":\"BIOM3.SA\",\"open\":[5.210000038146973,5.139999866485596,5.110000133514404,5.360000133514404,5.230000019073486,5.269999980926514,5.28000020980835,5.349999904632568,5.440000057220459,5.389999866485596,5.650000095367432,5.889999866485596,8.210000038146973,8.1899995803833,9.9399995803833,11.829999923706055,10.600000381469727,10.0,9.720000267028809,9.949999809265137,10.600000381469727,10.350000381469727,9.069999694824219,8.869999885559082,8.960000038146973,9.09000015258789,9.140000343322754,9.020000457763672,9.239999771118164,8.859999656677246,9.199999809265137,9.550000190734863,9.699999809265137,9.109999656677246,9.470000267028809,9.0,9.020000457763672,9.119999885559082,10.449999809265137,10.100000381469727,10.119999885559082,9.850000381469727,10.59000015258789,10.899999618530273,10.890000343322754,10.350000381469727,10.170000076293945,10.25,10.220000267028809,11.140000343322754,11.0,15.899999618530273,16.600000381469727,17.110000610351562,16.329999923706055,16.0,16.389999389648438,16.0,16.239999771118164,17.770000457763672,20.09000015258789,18.790000915527344,18.5,18.639999389648438,18.25,18.040000915527344,18.139999389648438,17.81999969482422,17.020000457763672,16.15999984741211,17.18000030517578,16.0,15.779999732971191,15.510000228881836,15.15999984741211,14.710000038146973,13.850000381469727,13.5,13.930000305175781,14.289999961853027,15.960000038146973],\"showlegend\":true,\"x\":[\"2024-02-02\",\"2024-02-05\",\"2024-02-06\",\"2024-02-07\",\"2024-02-08\",\"2024-02-09\",\"2024-02-14\",\"2024-02-15\",\"2024-02-16\",\"2024-02-19\",\"2024-02-20\",\"2024-02-21\",\"2024-02-22\",\"2024-02-23\",\"2024-02-26\",\"2024-02-27\",\"2024-02-28\",\"2024-02-29\",\"2024-03-01\",\"2024-03-04\",\"2024-03-05\",\"2024-03-06\",\"2024-03-07\",\"2024-03-08\",\"2024-03-11\",\"2024-03-12\",\"2024-03-13\",\"2024-03-14\",\"2024-03-15\",\"2024-03-18\",\"2024-03-19\",\"2024-03-20\",\"2024-03-21\",\"2024-03-22\",\"2024-03-25\",\"2024-03-26\",\"2024-03-27\",\"2024-03-28\",\"2024-04-01\",\"2024-04-02\",\"2024-04-03\",\"2024-04-04\",\"2024-04-05\",\"2024-04-08\",\"2024-04-09\",\"2024-04-10\",\"2024-04-11\",\"2024-04-12\",\"2024-04-15\",\"2024-04-16\",\"2024-04-17\",\"2024-04-18\",\"2024-04-19\",\"2024-04-22\",\"2024-04-23\",\"2024-04-24\",\"2024-04-25\",\"2024-04-26\",\"2024-04-29\",\"2024-04-30\",\"2024-05-02\",\"2024-05-03\",\"2024-05-06\",\"2024-05-07\",\"2024-05-08\",\"2024-05-09\",\"2024-05-10\",\"2024-05-13\",\"2024-05-14\",\"2024-05-15\",\"2024-05-16\",\"2024-05-17\",\"2024-05-20\",\"2024-05-21\",\"2024-05-22\",\"2024-05-23\",\"2024-05-24\",\"2024-05-27\",\"2024-05-28\",\"2024-05-29\",\"2024-05-31\"],\"yaxis\":\"y2\",\"type\":\"candlestick\"}],                        {\"height\":400,\"legend\":{\"bgcolor\":\"#FFFFFF\",\"font\":{\"color\":\"#4D5663\"}},\"margin\":{\"b\":30,\"l\":30,\"r\":30,\"t\":30},\"paper_bgcolor\":\"#FFFFFF\",\"plot_bgcolor\":\"#FFFFFF\",\"showlegend\":true,\"template\":{\"data\":{\"barpolar\":[{\"marker\":{\"line\":{\"color\":\"#E5ECF6\",\"width\":0.5},\"pattern\":{\"fillmode\":\"overlay\",\"size\":10,\"solidity\":0.2}},\"type\":\"barpolar\"}],\"bar\":[{\"error_x\":{\"color\":\"#2a3f5f\"},\"error_y\":{\"color\":\"#2a3f5f\"},\"marker\":{\"line\":{\"color\":\"#E5ECF6\",\"width\":0.5},\"pattern\":{\"fillmode\":\"overlay\",\"size\":10,\"solidity\":0.2}},\"type\":\"bar\"}],\"carpet\":[{\"aaxis\":{\"endlinecolor\":\"#2a3f5f\",\"gridcolor\":\"white\",\"linecolor\":\"white\",\"minorgridcolor\":\"white\",\"startlinecolor\":\"#2a3f5f\"},\"baxis\":{\"endlinecolor\":\"#2a3f5f\",\"gridcolor\":\"white\",\"linecolor\":\"white\",\"minorgridcolor\":\"white\",\"startlinecolor\":\"#2a3f5f\"},\"type\":\"carpet\"}],\"choropleth\":[{\"colorbar\":{\"outlinewidth\":0,\"ticks\":\"\"},\"type\":\"choropleth\"}],\"contourcarpet\":[{\"colorbar\":{\"outlinewidth\":0,\"ticks\":\"\"},\"type\":\"contourcarpet\"}],\"contour\":[{\"colorbar\":{\"outlinewidth\":0,\"ticks\":\"\"},\"colorscale\":[[0.0,\"#0d0887\"],[0.1111111111111111,\"#46039f\"],[0.2222222222222222,\"#7201a8\"],[0.3333333333333333,\"#9c179e\"],[0.4444444444444444,\"#bd3786\"],[0.5555555555555556,\"#d8576b\"],[0.6666666666666666,\"#ed7953\"],[0.7777777777777778,\"#fb9f3a\"],[0.8888888888888888,\"#fdca26\"],[1.0,\"#f0f921\"]],\"type\":\"contour\"}],\"heatmapgl\":[{\"colorbar\":{\"outlinewidth\":0,\"ticks\":\"\"},\"colorscale\":[[0.0,\"#0d0887\"],[0.1111111111111111,\"#46039f\"],[0.2222222222222222,\"#7201a8\"],[0.3333333333333333,\"#9c179e\"],[0.4444444444444444,\"#bd3786\"],[0.5555555555555556,\"#d8576b\"],[0.6666666666666666,\"#ed7953\"],[0.7777777777777778,\"#fb9f3a\"],[0.8888888888888888,\"#fdca26\"],[1.0,\"#f0f921\"]],\"type\":\"heatmapgl\"}],\"heatmap\":[{\"colorbar\":{\"outlinewidth\":0,\"ticks\":\"\"},\"colorscale\":[[0.0,\"#0d0887\"],[0.1111111111111111,\"#46039f\"],[0.2222222222222222,\"#7201a8\"],[0.3333333333333333,\"#9c179e\"],[0.4444444444444444,\"#bd3786\"],[0.5555555555555556,\"#d8576b\"],[0.6666666666666666,\"#ed7953\"],[0.7777777777777778,\"#fb9f3a\"],[0.8888888888888888,\"#fdca26\"],[1.0,\"#f0f921\"]],\"type\":\"heatmap\"}],\"histogram2dcontour\":[{\"colorbar\":{\"outlinewidth\":0,\"ticks\":\"\"},\"colorscale\":[[0.0,\"#0d0887\"],[0.1111111111111111,\"#46039f\"],[0.2222222222222222,\"#7201a8\"],[0.3333333333333333,\"#9c179e\"],[0.4444444444444444,\"#bd3786\"],[0.5555555555555556,\"#d8576b\"],[0.6666666666666666,\"#ed7953\"],[0.7777777777777778,\"#fb9f3a\"],[0.8888888888888888,\"#fdca26\"],[1.0,\"#f0f921\"]],\"type\":\"histogram2dcontour\"}],\"histogram2d\":[{\"colorbar\":{\"outlinewidth\":0,\"ticks\":\"\"},\"colorscale\":[[0.0,\"#0d0887\"],[0.1111111111111111,\"#46039f\"],[0.2222222222222222,\"#7201a8\"],[0.3333333333333333,\"#9c179e\"],[0.4444444444444444,\"#bd3786\"],[0.5555555555555556,\"#d8576b\"],[0.6666666666666666,\"#ed7953\"],[0.7777777777777778,\"#fb9f3a\"],[0.8888888888888888,\"#fdca26\"],[1.0,\"#f0f921\"]],\"type\":\"histogram2d\"}],\"histogram\":[{\"marker\":{\"pattern\":{\"fillmode\":\"overlay\",\"size\":10,\"solidity\":0.2}},\"type\":\"histogram\"}],\"mesh3d\":[{\"colorbar\":{\"outlinewidth\":0,\"ticks\":\"\"},\"type\":\"mesh3d\"}],\"parcoords\":[{\"line\":{\"colorbar\":{\"outlinewidth\":0,\"ticks\":\"\"}},\"type\":\"parcoords\"}],\"pie\":[{\"automargin\":true,\"type\":\"pie\"}],\"scatter3d\":[{\"line\":{\"colorbar\":{\"outlinewidth\":0,\"ticks\":\"\"}},\"marker\":{\"colorbar\":{\"outlinewidth\":0,\"ticks\":\"\"}},\"type\":\"scatter3d\"}],\"scattercarpet\":[{\"marker\":{\"colorbar\":{\"outlinewidth\":0,\"ticks\":\"\"}},\"type\":\"scattercarpet\"}],\"scattergeo\":[{\"marker\":{\"colorbar\":{\"outlinewidth\":0,\"ticks\":\"\"}},\"type\":\"scattergeo\"}],\"scattergl\":[{\"marker\":{\"colorbar\":{\"outlinewidth\":0,\"ticks\":\"\"}},\"type\":\"scattergl\"}],\"scattermapbox\":[{\"marker\":{\"colorbar\":{\"outlinewidth\":0,\"ticks\":\"\"}},\"type\":\"scattermapbox\"}],\"scatterpolargl\":[{\"marker\":{\"colorbar\":{\"outlinewidth\":0,\"ticks\":\"\"}},\"type\":\"scatterpolargl\"}],\"scatterpolar\":[{\"marker\":{\"colorbar\":{\"outlinewidth\":0,\"ticks\":\"\"}},\"type\":\"scatterpolar\"}],\"scatter\":[{\"fillpattern\":{\"fillmode\":\"overlay\",\"size\":10,\"solidity\":0.2},\"type\":\"scatter\"}],\"scatterternary\":[{\"marker\":{\"colorbar\":{\"outlinewidth\":0,\"ticks\":\"\"}},\"type\":\"scatterternary\"}],\"surface\":[{\"colorbar\":{\"outlinewidth\":0,\"ticks\":\"\"},\"colorscale\":[[0.0,\"#0d0887\"],[0.1111111111111111,\"#46039f\"],[0.2222222222222222,\"#7201a8\"],[0.3333333333333333,\"#9c179e\"],[0.4444444444444444,\"#bd3786\"],[0.5555555555555556,\"#d8576b\"],[0.6666666666666666,\"#ed7953\"],[0.7777777777777778,\"#fb9f3a\"],[0.8888888888888888,\"#fdca26\"],[1.0,\"#f0f921\"]],\"type\":\"surface\"}],\"table\":[{\"cells\":{\"fill\":{\"color\":\"#EBF0F8\"},\"line\":{\"color\":\"white\"}},\"header\":{\"fill\":{\"color\":\"#C8D4E3\"},\"line\":{\"color\":\"white\"}},\"type\":\"table\"}]},\"layout\":{\"annotationdefaults\":{\"arrowcolor\":\"#2a3f5f\",\"arrowhead\":0,\"arrowwidth\":1},\"autotypenumbers\":\"strict\",\"coloraxis\":{\"colorbar\":{\"outlinewidth\":0,\"ticks\":\"\"}},\"colorscale\":{\"diverging\":[[0,\"#8e0152\"],[0.1,\"#c51b7d\"],[0.2,\"#de77ae\"],[0.3,\"#f1b6da\"],[0.4,\"#fde0ef\"],[0.5,\"#f7f7f7\"],[0.6,\"#e6f5d0\"],[0.7,\"#b8e186\"],[0.8,\"#7fbc41\"],[0.9,\"#4d9221\"],[1,\"#276419\"]],\"sequential\":[[0.0,\"#0d0887\"],[0.1111111111111111,\"#46039f\"],[0.2222222222222222,\"#7201a8\"],[0.3333333333333333,\"#9c179e\"],[0.4444444444444444,\"#bd3786\"],[0.5555555555555556,\"#d8576b\"],[0.6666666666666666,\"#ed7953\"],[0.7777777777777778,\"#fb9f3a\"],[0.8888888888888888,\"#fdca26\"],[1.0,\"#f0f921\"]],\"sequentialminus\":[[0.0,\"#0d0887\"],[0.1111111111111111,\"#46039f\"],[0.2222222222222222,\"#7201a8\"],[0.3333333333333333,\"#9c179e\"],[0.4444444444444444,\"#bd3786\"],[0.5555555555555556,\"#d8576b\"],[0.6666666666666666,\"#ed7953\"],[0.7777777777777778,\"#fb9f3a\"],[0.8888888888888888,\"#fdca26\"],[1.0,\"#f0f921\"]]},\"colorway\":[\"#636efa\",\"#EF553B\",\"#00cc96\",\"#ab63fa\",\"#FFA15A\",\"#19d3f3\",\"#FF6692\",\"#B6E880\",\"#FF97FF\",\"#FECB52\"],\"font\":{\"color\":\"#2a3f5f\"},\"geo\":{\"bgcolor\":\"white\",\"lakecolor\":\"white\",\"landcolor\":\"#E5ECF6\",\"showlakes\":true,\"showland\":true,\"subunitcolor\":\"white\"},\"hoverlabel\":{\"align\":\"left\"},\"hovermode\":\"closest\",\"mapbox\":{\"style\":\"light\"},\"paper_bgcolor\":\"white\",\"plot_bgcolor\":\"#E5ECF6\",\"polar\":{\"angularaxis\":{\"gridcolor\":\"white\",\"linecolor\":\"white\",\"ticks\":\"\"},\"bgcolor\":\"#E5ECF6\",\"radialaxis\":{\"gridcolor\":\"white\",\"linecolor\":\"white\",\"ticks\":\"\"}},\"scene\":{\"xaxis\":{\"backgroundcolor\":\"#E5ECF6\",\"gridcolor\":\"white\",\"gridwidth\":2,\"linecolor\":\"white\",\"showbackground\":true,\"ticks\":\"\",\"zerolinecolor\":\"white\"},\"yaxis\":{\"backgroundcolor\":\"#E5ECF6\",\"gridcolor\":\"white\",\"gridwidth\":2,\"linecolor\":\"white\",\"showbackground\":true,\"ticks\":\"\",\"zerolinecolor\":\"white\"},\"zaxis\":{\"backgroundcolor\":\"#E5ECF6\",\"gridcolor\":\"white\",\"gridwidth\":2,\"linecolor\":\"white\",\"showbackground\":true,\"ticks\":\"\",\"zerolinecolor\":\"white\"}},\"shapedefaults\":{\"line\":{\"color\":\"#2a3f5f\"}},\"ternary\":{\"aaxis\":{\"gridcolor\":\"white\",\"linecolor\":\"white\",\"ticks\":\"\"},\"baxis\":{\"gridcolor\":\"white\",\"linecolor\":\"white\",\"ticks\":\"\"},\"bgcolor\":\"#E5ECF6\",\"caxis\":{\"gridcolor\":\"white\",\"linecolor\":\"white\",\"ticks\":\"\"}},\"title\":{\"x\":0.05},\"xaxis\":{\"automargin\":true,\"gridcolor\":\"white\",\"linecolor\":\"white\",\"ticks\":\"\",\"title\":{\"standoff\":15},\"zerolinecolor\":\"white\",\"zerolinewidth\":2},\"yaxis\":{\"automargin\":true,\"gridcolor\":\"white\",\"linecolor\":\"white\",\"ticks\":\"\",\"title\":{\"standoff\":15},\"zerolinecolor\":\"white\",\"zerolinewidth\":2}}},\"title\":{\"font\":{\"color\":\"#4D5663\"},\"text\":\"BIOM3.SA\"},\"width\":1000,\"xaxis\":{\"anchor\":\"y2\",\"gridcolor\":\"#E1E5ED\",\"rangeselector\":{\"bgcolor\":\"rgba(150, 200, 250, 1)\",\"buttons\":[{\"count\":1,\"label\":\"1m\",\"step\":\"month\",\"stepmode\":\"backward\"},{\"count\":1,\"label\":\"1y\",\"step\":\"year\",\"stepmode\":\"backward\"}],\"font\":{\"size\":13},\"visible\":false,\"x\":0,\"y\":0.9},\"rangeslider\":{\"visible\":false},\"showgrid\":true,\"tickfont\":{\"color\":\"#4D5663\"},\"title\":{\"font\":{\"color\":\"#4D5663\"},\"text\":\"\"},\"zerolinecolor\":\"#E1E5ED\",\"rangebreaks\":[{\"bounds\":[\"sat\",\"mon\"]}]},\"yaxis\":{\"gridcolor\":\"#E1E5ED\",\"showgrid\":true,\"showticklabels\":false,\"tickfont\":{\"color\":\"#4D5663\"},\"title\":{\"font\":{\"color\":\"#4D5663\"},\"text\":\"\"},\"zerolinecolor\":\"#E1E5ED\"},\"yaxis2\":{\"domain\":[0.23,0.9],\"gridcolor\":\"#E1E5ED\",\"showgrid\":true,\"tickfont\":{\"color\":\"#4D5663\"},\"title\":{\"font\":{\"color\":\"#4D5663\"},\"text\":\"\"},\"zerolinecolor\":\"#E1E5ED\"},\"yaxis3\":{\"domain\":[0.0,0.15],\"gridcolor\":\"#E1E5ED\",\"showgrid\":true,\"tickfont\":{\"color\":\"#4D5663\"},\"title\":{\"font\":{\"color\":\"#4D5663\"},\"text\":\"\"},\"zerolinecolor\":\"#E1E5ED\"}},                        {\"responsive\": true}                    ).then(function(){\n",
       "                            \n",
       "var gd = document.getElementById('dc16807d-b28f-471b-ad01-3e99a4046f6a');\n",
       "var x = new MutationObserver(function (mutations, observer) {{\n",
       "        var display = window.getComputedStyle(gd).display;\n",
       "        if (!display || display === 'none') {{\n",
       "            console.log([gd, 'removed!']);\n",
       "            Plotly.purge(gd);\n",
       "            observer.disconnect();\n",
       "        }}\n",
       "}});\n",
       "\n",
       "// Listen for the removal of the full notebook cells\n",
       "var notebookContainer = gd.closest('#notebook-container');\n",
       "if (notebookContainer) {{\n",
       "    x.observe(notebookContainer, {childList: true});\n",
       "}}\n",
       "\n",
       "// Listen for the clearing of the current output cell\n",
       "var outputEl = gd.closest('.output');\n",
       "if (outputEl) {{\n",
       "    x.observe(outputEl, {childList: true});\n",
       "}}\n",
       "\n",
       "                        })                };                });            </script>        </div>"
      ]
     },
     "metadata": {},
     "output_type": "display_data"
    }
   ],
   "source": [
    "## grafico com o cufflinks\n",
    "qf = cf.QuantFig(dadosx, kind='candlestick', name=choice, title=choice)\n",
    "qf.add_bollinger_bands()\n",
    "qf.add_sma(name='sma20', color='red')\n",
    "qf.add_volume()    \n",
    "fig = qf.iplot(asFigure=True, dimensions=(1000, 400), up_color='green', down_color='red')\n",
    "\n",
    "##ajuste final do grafico\n",
    "#update_xaxes ou update_yaxes é do plotly, que gera a fig\n",
    "fig.update_xaxes(\n",
    "    rangebreaks=[\n",
    "        dict(bounds=[\"sat\", \"mon\"]), #hide weekends\n",
    "    ]\n",
    ")    \n",
    "#st.plotly_chart(fig)"
   ]
  },
  {
   "cell_type": "code",
   "execution_count": null,
   "id": "5fcbfef0-0ccc-4ae8-aedf-058e6be65f0a",
   "metadata": {},
   "outputs": [],
   "source": []
  }
 ],
 "metadata": {
  "kernelspec": {
   "display_name": "Python 3 (ipykernel)",
   "language": "python",
   "name": "python3"
  },
  "language_info": {
   "codemirror_mode": {
    "name": "ipython",
    "version": 3
   },
   "file_extension": ".py",
   "mimetype": "text/x-python",
   "name": "python",
   "nbconvert_exporter": "python",
   "pygments_lexer": "ipython3",
   "version": "3.11.9"
  }
 },
 "nbformat": 4,
 "nbformat_minor": 5
}
