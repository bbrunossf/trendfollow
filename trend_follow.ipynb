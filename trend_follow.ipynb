{
 "cells": [
  {
   "cell_type": "code",
   "execution_count": null,
   "id": "50a5352d-f736-4800-80a3-381bef73a7f8",
   "metadata": {},
   "outputs": [],
   "source": [
    "#Nota:\n",
    "#o código abaixo foi adaptado para rodar no jupyter lab.\n",
    "#as linhas referentes ao Streamlit foram comentadas"
   ]
  },
  {
   "cell_type": "markdown",
   "id": "d2c56019-1c6d-4851-9549-81c198dd4e2b",
   "metadata": {},
   "source": [
    "# Install"
   ]
  },
  {
   "cell_type": "code",
   "execution_count": null,
   "id": "08c9a14c-7bf3-47cd-8d8f-cde4bfe46548",
   "metadata": {},
   "outputs": [],
   "source": [
    "#!pip install -q yfinance\n",
    "#!pip install -q cufflinks\n",
    "#!pip install -q ta"
   ]
  },
  {
   "cell_type": "markdown",
   "id": "8b055402-e1b3-4756-94a2-ff5aa6fba5f0",
   "metadata": {},
   "source": [
    "# Import"
   ]
  },
  {
   "cell_type": "code",
   "execution_count": 1,
   "id": "356e11a5-0dc3-4555-8cb3-75c9a0cacb48",
   "metadata": {},
   "outputs": [],
   "source": [
    "#import streamlit as st\n",
    "import yfinance as yf #para baixar preços dos ativos\n",
    "from datetime import datetime, timedelta\n",
    "import requests\n",
    "import pandas as pd\n",
    "import numpy as np\n",
    "import math\n",
    "\n",
    "import plotly.graph_objects as go\n",
    "from plotly.subplots import make_subplots\n",
    "import ta\n",
    "#from ta.momentum import StochasticOscillator\n",
    "\n",
    "import cufflinks as cf\n",
    "import plotly.express as px\n",
    "import plotly.io as pio \n",
    "pio.renderers.default = 'iframe' #teste para funcionar no github\n",
    "\n",
    "import ipywidgets as widgets"
   ]
  },
  {
   "cell_type": "markdown",
   "id": "af0935b1-9be8-43dc-96a5-16eb1cda0816",
   "metadata": {},
   "source": [
    "# Funções"
   ]
  },
  {
   "cell_type": "code",
   "execution_count": 2,
   "id": "aafcf8a4-948b-4c8a-9991-9f26c5e4691c",
   "metadata": {},
   "outputs": [],
   "source": [
    "#calcular as 6 datas necessárias\n",
    "def list_useful_dates(reference_date):\n",
    "    useful_dates = []\n",
    "    useful_dates.append(reference_date - timedelta(days=1)) #1 dia antes\n",
    "    for i in range(1, 6): #6 = 5 datas +1, exclusive\n",
    "        # Calcula a nova data baseada na data de referência e no espaçamento de 30 dias\n",
    "        new_date = reference_date - timedelta(days=i * 30)        \n",
    "        useful_dates.append(new_date)\n",
    "    return useful_dates"
   ]
  },
  {
   "cell_type": "code",
   "execution_count": 3,
   "id": "c7ccd7ae-6e5c-4c14-901e-ab9e4b04023e",
   "metadata": {},
   "outputs": [],
   "source": [
    "#verificar se as datas calculadas são válidas\n",
    "def verifica_datas(result, lista_data):\n",
    "    print(\"calculando as datas úteis...\")\n",
    "    for entry in result:\n",
    "        z = entry\n",
    "        zz = z + timedelta(days=1)        \n",
    "    \n",
    "        while True:\n",
    "            data1 = pd.DataFrame(yf.download('VALE3.SA', start=z, end=zz, progress=False)['Adj Close'])\n",
    "            \n",
    "            if data1.shape[0] > 0:\n",
    "                lista_data = pd.concat([lista_data, data1])\n",
    "                break  # Saia do loop interno se os dados foram baixados com sucesso\n",
    "                \n",
    "            print(f'{data1.shape[1]} datas válidas')\n",
    "            new_date_z = z - timedelta(days=1)\n",
    "            new_date_zz = new_date_z + timedelta(days=1)\n",
    "            print(\"Data inválida. Obtendo novos valores...\")\n",
    "                        \n",
    "            z = new_date_z\n",
    "            zz = new_date_zz    \n",
    "    return(lista_data)\n",
    "    print(\"datas ok!\")"
   ]
  },
  {
   "cell_type": "code",
   "execution_count": 4,
   "id": "657f6f84-c537-454a-bb8a-1e18fd0e8dc2",
   "metadata": {},
   "outputs": [],
   "source": [
    "#restrições definidas para seleção dos ativos\n",
    "volume_min = 200_000\n",
    "preco_min = 3\n",
    "\n",
    "#função para baixar nomes dos ativos\n",
    "def dados_brapi():\n",
    "    r = requests.post('https://brapi.dev/api/quote/list?sortBy=name')\n",
    "    res = r.json() #transforma em dados legiveis\n",
    "    global df #pra poder usar fora da função\n",
    "    df = pd.DataFrame.from_dict(res['stocks']) #cria dataframe a partir da key do dict da lista 'res'\n",
    "    df = df[ (df['volume'] > volume_min) &  (df['close'] > preco_min) ]\n",
    "    return df"
   ]
  },
  {
   "cell_type": "code",
   "execution_count": 5,
   "id": "459489c8-66ae-4202-a4fc-67f159794984",
   "metadata": {},
   "outputs": [],
   "source": [
    "#função para criar lista de ativos para usar no yfinance\n",
    "def lista():\n",
    "    sfx = '.SA'\n",
    "    acoess = df2['stock'].apply(lambda x: f\"{x}{sfx}\").values.tolist()\n",
    "    return acoess"
   ]
  },
  {
   "cell_type": "code",
   "execution_count": 6,
   "id": "92d08d63-e73b-400b-a8b6-2515a812cbd2",
   "metadata": {},
   "outputs": [],
   "source": [
    "#função para baixar os preços dos ativos com yfinance\n",
    "def baixa():\n",
    "    data_yf = yf.download(acoess, start=inicio, end=fim, progress=False)['Adj Close'] #só a coluna que interessa\n",
    "    return data_yf"
   ]
  },
  {
   "cell_type": "code",
   "execution_count": 7,
   "id": "3d2082ae-7a2b-460f-8987-32d20b0aa53b",
   "metadata": {},
   "outputs": [],
   "source": [
    "#função para calcular o fator de ponderação\n",
    "def calcular_resultado(row):    \n",
    "    varx5 = (row.iloc[1] / row.iloc[6]) - 1 #lembrando que o mês 5 está na coluna 1\n",
    "    varx4 = (row.iloc[2] / row.iloc[6]) - 1 #lembrando que o mês 4 está na coluna 2\n",
    "    varx3 = (row.iloc[3] / row.iloc[6]) - 1 #lembrando que o mês 3 está na coluna 3\n",
    "    varx2 = (row.iloc[4] / row.iloc[6]) - 1 #lembrando que o mês 2 está na coluna 4\n",
    "    varx1 = (row.iloc[5] / row.iloc[6]) - 1 #lembrando que o mês 1 está na coluna 5\n",
    "    return (varx5*math.sqrt(5) + varx4*math.sqrt(4) + varx3*math.sqrt(3) + varx2*math.sqrt(2) + varx1*math.sqrt(1) ) / 8.382"
   ]
  },
  {
   "cell_type": "code",
   "execution_count": 8,
   "id": "27ce865a-9a57-41b7-b25e-5bbc28789a18",
   "metadata": {},
   "outputs": [],
   "source": [
    "#função para verificar o indicador MACD\n",
    "def calcula_macd():            \n",
    "    for simbolo, dadosx in todos_dados.items():\n",
    "        p = dadosx.iloc[-1]  # ultimo preço\n",
    "        macd = ta.trend.macd(dadosx)\n",
    "        # verifica se macd está ascendente ou descendente\n",
    "        if macd.iloc[-1] > 0 and macd.iloc[-1] > macd.iloc[-2]:         \n",
    "            print(f'{simbolo}: MACD positivo ascendente, R${p}') #pra mostrar o preço também"
   ]
  },
  {
   "cell_type": "code",
   "execution_count": 9,
   "id": "0eef80b5-7801-4afd-b8d8-34b4c7b9322e",
   "metadata": {},
   "outputs": [],
   "source": [
    "#função para baixar os dados da lista para criar o gráfico\n",
    "def baixa_lista():    \n",
    "    bleh = yf.download(lista, start=inicio, end=fim, progress=True)        \n",
    "    return bleh"
   ]
  },
  {
   "cell_type": "markdown",
   "id": "5550312a-9474-4952-bbe5-3dc33f54c8d5",
   "metadata": {},
   "source": [
    "## Data de Referência"
   ]
  },
  {
   "cell_type": "code",
   "execution_count": 10,
   "id": "b3a245b6-5c01-4360-a6ac-ec1df45a7331",
   "metadata": {},
   "outputs": [],
   "source": [
    "# reference_date = st.date_input(\"Digite a data de referência:\")\n",
    "\n",
    "# if reference_date:    \n",
    "#     result = list_useful_dates(reference_date)    "
   ]
  },
  {
   "cell_type": "code",
   "execution_count": 11,
   "id": "400b7d46-0900-405d-8716-e4beafef0cde",
   "metadata": {},
   "outputs": [
    {
     "data": {
      "application/vnd.jupyter.widget-view+json": {
       "model_id": "cb3b2feefa7f40fa9f77358f11b97f15",
       "version_major": 2,
       "version_minor": 0
      },
      "text/plain": [
       "DatePicker(value=None, description='Selecione uma data:', step=1)"
      ]
     },
     "metadata": {},
     "output_type": "display_data"
    }
   ],
   "source": [
    "# Variável global para armazenar a data selecionada\n",
    "reference_date = None\n",
    "\n",
    "# Cria um DatePicker\n",
    "date_picker = widgets.DatePicker(\n",
    "    description='Selecione uma data:',\n",
    "    disabled=False\n",
    ")\n",
    "\n",
    "# Função para obter a data selecionada\n",
    "def get_selected_date(change):\n",
    "    global reference_date\n",
    "    reference_date = change['new']\n",
    "    \n",
    "# Conecta a função ao evento de mudança do DatePicker\n",
    "date_picker.observe(get_selected_date, names='value')\n",
    "\n",
    "# Exibe o DatePicker\n",
    "display(date_picker)"
   ]
  },
  {
   "cell_type": "code",
   "execution_count": 12,
   "id": "1c143f8f-8d47-4e34-88ff-e63589e42bb3",
   "metadata": {},
   "outputs": [
    {
     "name": "stdout",
     "output_type": "stream",
     "text": [
      "2024-06-01\n"
     ]
    }
   ],
   "source": [
    "print(reference_date)"
   ]
  },
  {
   "cell_type": "code",
   "execution_count": 13,
   "id": "e19ed349-ede1-48eb-8a49-b45c72c4684a",
   "metadata": {},
   "outputs": [],
   "source": [
    "if reference_date:    \n",
    "    result = list_useful_dates(reference_date) "
   ]
  },
  {
   "cell_type": "code",
   "execution_count": null,
   "id": "29820a89-6cf9-492b-980f-997390a1aa04",
   "metadata": {},
   "outputs": [],
   "source": [
    "#check para debug\n",
    "result"
   ]
  },
  {
   "cell_type": "markdown",
   "id": "891651e9-ee97-4361-a172-09f2bd458eda",
   "metadata": {},
   "source": [
    "# Código"
   ]
  },
  {
   "cell_type": "code",
   "execution_count": 14,
   "id": "6066bb0d-0004-4307-8c9b-8a6834f9bd2c",
   "metadata": {},
   "outputs": [
    {
     "name": "stdout",
     "output_type": "stream",
     "text": [
      "baixando dados de todos os ativos (volume mínimo de R\\$200,000.00, preço mínimo de R\\$3.00)\n",
      "Obtidos os valores, excluindo ativos com '11'\n"
     ]
    }
   ],
   "source": [
    "print(f\"baixando dados de todos os ativos (volume mínimo de R\\${volume_min:,.2f}, preço mínimo de R\\${preco_min:.2f})\")\n",
    "df2 = dados_brapi()\n",
    "df2 = df2[['stock', 'name', 'close', 'sector', 'volume']].sort_values(by='stock')\n",
    "#retirar as que tem 11 no nome\n",
    "# filter the rows that contain the substring\n",
    "substring = '11'\n",
    "filter = df2['stock'].str.contains(substring)\n",
    "filtered_df = df2[~filter]\n",
    "df2 = filtered_df\n",
    "print(\"Obtidos os valores, excluindo ativos com '11'\")"
   ]
  },
  {
   "cell_type": "code",
   "execution_count": null,
   "id": "73a86714-2dfa-4000-af5e-b3546f8712d1",
   "metadata": {},
   "outputs": [],
   "source": [
    "#check para debug\n",
    "df2.head()"
   ]
  },
  {
   "cell_type": "code",
   "execution_count": 15,
   "id": "1f145cf1-3379-4a16-be5b-2859aae4a9eb",
   "metadata": {},
   "outputs": [],
   "source": [
    "lista_data = pd.DataFrame(columns=['Adj Close'])"
   ]
  },
  {
   "cell_type": "code",
   "execution_count": 16,
   "id": "4e878938-38b6-4ff1-9e43-cc7eb37d864c",
   "metadata": {},
   "outputs": [
    {
     "name": "stdout",
     "output_type": "stream",
     "text": [
      "calculando as datas úteis...\n"
     ]
    },
    {
     "name": "stderr",
     "output_type": "stream",
     "text": [
      "C:\\Users\\bruno\\AppData\\Local\\Temp\\ipykernel_8636\\4159870649.py:12: FutureWarning:\n",
      "\n",
      "The behavior of array concatenation with empty entries is deprecated. In a future version, this will no longer exclude empty items when determining the result dtype. To retain the old behavior, exclude the empty entries before the concat operation.\n",
      "\n",
      "C:\\Users\\bruno\\AppData\\Local\\Temp\\ipykernel_8636\\4159870649.py:12: FutureWarning:\n",
      "\n",
      "The behavior of DataFrame concatenation with empty or all-NA entries is deprecated. In a future version, this will no longer exclude empty or all-NA columns when determining the result dtypes. To retain the old behavior, exclude the relevant entries before the concat operation.\n",
      "\n",
      "\n",
      "1 Failed download:\n",
      "['VALE3.SA']: YFPricesMissingError('$%ticker%: possibly delisted; No price data found  (1d 2024-03-03 -> 2024-03-04)')\n"
     ]
    },
    {
     "name": "stdout",
     "output_type": "stream",
     "text": [
      "$VALE3.SA: possibly delisted; No price data found  (1d 2024-03-03 -> 2024-03-04)\n",
      "1 datas válidas\n",
      "Data inválida. Obtendo novos valores...\n"
     ]
    },
    {
     "name": "stderr",
     "output_type": "stream",
     "text": [
      "\n",
      "1 Failed download:\n",
      "['VALE3.SA']: YFPricesMissingError('$%ticker%: possibly delisted; No price data found  (1d 2024-03-02 -> 2024-03-03)')\n"
     ]
    },
    {
     "name": "stdout",
     "output_type": "stream",
     "text": [
      "$VALE3.SA: possibly delisted; No price data found  (1d 2024-03-02 -> 2024-03-03)\n",
      "1 datas válidas\n",
      "Data inválida. Obtendo novos valores...\n"
     ]
    }
   ],
   "source": [
    "lista_data = verifica_datas(result, lista_data)"
   ]
  },
  {
   "cell_type": "code",
   "execution_count": 17,
   "id": "bac819e8-7eec-48c6-8b06-7aa4662d3b31",
   "metadata": {},
   "outputs": [
    {
     "data": {
      "text/plain": [
       "(6, 1)"
      ]
     },
     "execution_count": 17,
     "metadata": {},
     "output_type": "execute_result"
    }
   ],
   "source": [
    "#check para debug\n",
    "lista_data.shape"
   ]
  },
  {
   "cell_type": "code",
   "execution_count": 18,
   "id": "a4350e54-8f2c-4263-bb0d-0c45ca20c2a9",
   "metadata": {},
   "outputs": [],
   "source": [
    "acoess = lista() #ajustados os nomes dos ativos para uso no yfinance\n",
    "        \n",
    "inicio = lista_data.index[-1] #ultimo da lista\n",
    "fim = lista_data.index[0] + timedelta(days=1) #1 dia a mais do primeiro da lista, exclusive"
   ]
  },
  {
   "cell_type": "code",
   "execution_count": null,
   "id": "be3b1fae-54f1-4b19-996e-9ababf9dd8c2",
   "metadata": {},
   "outputs": [],
   "source": [
    "#check para debug\n",
    "print(len(acoess))\n",
    "print(inicio)\n",
    "print(fim)"
   ]
  },
  {
   "cell_type": "code",
   "execution_count": 19,
   "id": "730e0967-5add-4961-ac0b-5dbc424f4973",
   "metadata": {},
   "outputs": [
    {
     "name": "stderr",
     "output_type": "stream",
     "text": [
      "\n",
      "1 Failed download:\n",
      "['BBAS3F.SA']: YFInvalidPeriodError(\"%ticker%: Period 'max' is invalid, must be one of ['1d', '5d']\")\n"
     ]
    }
   ],
   "source": [
    "data_yf = baixa() #baixa os preços de todos os ativos, no intervalo de 6 meses\n",
    "data_yf.dropna(axis=1, inplace=True) #retira os vazios\n",
    "dfxx = data_yf.loc[data_yf.index.isin(lista_data.index)]   "
   ]
  },
  {
   "cell_type": "code",
   "execution_count": null,
   "id": "bb26d740-3a6b-40b2-819c-a56cc423e6f2",
   "metadata": {},
   "outputs": [],
   "source": [
    "#check para debug\n",
    "dfxx.head()"
   ]
  },
  {
   "cell_type": "code",
   "execution_count": 20,
   "id": "0cfeb7a5-5f14-485c-b696-cff8a313f9b3",
   "metadata": {},
   "outputs": [
    {
     "name": "stdout",
     "output_type": "stream",
     "text": [
      "ajustando o dataframe...\n"
     ]
    }
   ],
   "source": [
    "print(\"ajustando o dataframe...\")\n",
    "teste2 = dfxx.copy()\n",
    "teste2.index = pd.to_datetime(teste2.index).strftime('%d-%m-%Y')\n",
    "teste2 = teste2.round(decimals = 2)\n",
    "df_pivot = teste2.T #para transpor"
   ]
  },
  {
   "cell_type": "code",
   "execution_count": 21,
   "id": "a80c1e36-f8c2-4f82-a62d-d0cc12487eac",
   "metadata": {},
   "outputs": [
    {
     "data": {
      "text/html": [
       "<div>\n",
       "<style scoped>\n",
       "    .dataframe tbody tr th:only-of-type {\n",
       "        vertical-align: middle;\n",
       "    }\n",
       "\n",
       "    .dataframe tbody tr th {\n",
       "        vertical-align: top;\n",
       "    }\n",
       "\n",
       "    .dataframe thead th {\n",
       "        text-align: right;\n",
       "    }\n",
       "</style>\n",
       "<table border=\"1\" class=\"dataframe\">\n",
       "  <thead>\n",
       "    <tr style=\"text-align: right;\">\n",
       "      <th>Date</th>\n",
       "      <th>03-01-2024</th>\n",
       "      <th>02-02-2024</th>\n",
       "      <th>01-03-2024</th>\n",
       "      <th>02-04-2024</th>\n",
       "      <th>02-05-2024</th>\n",
       "      <th>31-05-2024</th>\n",
       "    </tr>\n",
       "    <tr>\n",
       "      <th>Ticker</th>\n",
       "      <th></th>\n",
       "      <th></th>\n",
       "      <th></th>\n",
       "      <th></th>\n",
       "      <th></th>\n",
       "      <th></th>\n",
       "    </tr>\n",
       "  </thead>\n",
       "  <tbody>\n",
       "    <tr>\n",
       "      <th>ABCB4.SA</th>\n",
       "      <td>23.34</td>\n",
       "      <td>24.30</td>\n",
       "      <td>23.97</td>\n",
       "      <td>25.08</td>\n",
       "      <td>22.49</td>\n",
       "      <td>21.59</td>\n",
       "    </tr>\n",
       "    <tr>\n",
       "      <th>ABEV3.SA</th>\n",
       "      <td>13.60</td>\n",
       "      <td>13.07</td>\n",
       "      <td>12.44</td>\n",
       "      <td>12.27</td>\n",
       "      <td>12.33</td>\n",
       "      <td>11.56</td>\n",
       "    </tr>\n",
       "    <tr>\n",
       "      <th>AESB3.SA</th>\n",
       "      <td>12.01</td>\n",
       "      <td>10.61</td>\n",
       "      <td>10.66</td>\n",
       "      <td>9.72</td>\n",
       "      <td>9.59</td>\n",
       "      <td>11.20</td>\n",
       "    </tr>\n",
       "    <tr>\n",
       "      <th>AGRO3.SA</th>\n",
       "      <td>25.86</td>\n",
       "      <td>24.71</td>\n",
       "      <td>24.00</td>\n",
       "      <td>24.84</td>\n",
       "      <td>25.06</td>\n",
       "      <td>25.39</td>\n",
       "    </tr>\n",
       "    <tr>\n",
       "      <th>ALPA4.SA</th>\n",
       "      <td>9.59</td>\n",
       "      <td>8.29</td>\n",
       "      <td>10.28</td>\n",
       "      <td>9.35</td>\n",
       "      <td>9.76</td>\n",
       "      <td>9.67</td>\n",
       "    </tr>\n",
       "  </tbody>\n",
       "</table>\n",
       "</div>"
      ],
      "text/plain": [
       "Date      03-01-2024  02-02-2024  01-03-2024  02-04-2024  02-05-2024  \\\n",
       "Ticker                                                                 \n",
       "ABCB4.SA       23.34       24.30       23.97       25.08       22.49   \n",
       "ABEV3.SA       13.60       13.07       12.44       12.27       12.33   \n",
       "AESB3.SA       12.01       10.61       10.66        9.72        9.59   \n",
       "AGRO3.SA       25.86       24.71       24.00       24.84       25.06   \n",
       "ALPA4.SA        9.59        8.29       10.28        9.35        9.76   \n",
       "\n",
       "Date      31-05-2024  \n",
       "Ticker                \n",
       "ABCB4.SA       21.59  \n",
       "ABEV3.SA       11.56  \n",
       "AESB3.SA       11.20  \n",
       "AGRO3.SA       25.39  \n",
       "ALPA4.SA        9.67  "
      ]
     },
     "execution_count": 21,
     "metadata": {},
     "output_type": "execute_result"
    }
   ],
   "source": [
    "#check para debug\n",
    "df_pivot.head()"
   ]
  },
  {
   "cell_type": "code",
   "execution_count": 22,
   "id": "9788c2ba-d585-4346-90de-7fa55bd2918f",
   "metadata": {},
   "outputs": [
    {
     "name": "stdout",
     "output_type": "stream",
     "text": [
      "dataframe ajustado!\n"
     ]
    }
   ],
   "source": [
    "df_pivot = df_pivot.reset_index()\n",
    "df_pivot = df_pivot.rename(columns={'Ticker': 'ação'})\n",
    "# if df_pivot.shape[1] > 7:\n",
    "#     df_pivot = df_pivot.drop(df_pivot.columns[1], axis=1)\n",
    "print(\"dataframe ajustado!\")"
   ]
  },
  {
   "cell_type": "code",
   "execution_count": 23,
   "id": "d9970018-bee5-4ec6-8ff1-535124467db4",
   "metadata": {},
   "outputs": [
    {
     "data": {
      "text/html": [
       "<div>\n",
       "<style scoped>\n",
       "    .dataframe tbody tr th:only-of-type {\n",
       "        vertical-align: middle;\n",
       "    }\n",
       "\n",
       "    .dataframe tbody tr th {\n",
       "        vertical-align: top;\n",
       "    }\n",
       "\n",
       "    .dataframe thead th {\n",
       "        text-align: right;\n",
       "    }\n",
       "</style>\n",
       "<table border=\"1\" class=\"dataframe\">\n",
       "  <thead>\n",
       "    <tr style=\"text-align: right;\">\n",
       "      <th>Date</th>\n",
       "      <th>ação</th>\n",
       "      <th>03-01-2024</th>\n",
       "      <th>02-02-2024</th>\n",
       "      <th>01-03-2024</th>\n",
       "      <th>02-04-2024</th>\n",
       "      <th>02-05-2024</th>\n",
       "      <th>31-05-2024</th>\n",
       "    </tr>\n",
       "  </thead>\n",
       "  <tbody>\n",
       "    <tr>\n",
       "      <th>0</th>\n",
       "      <td>ABCB4.SA</td>\n",
       "      <td>23.34</td>\n",
       "      <td>24.30</td>\n",
       "      <td>23.97</td>\n",
       "      <td>25.08</td>\n",
       "      <td>22.49</td>\n",
       "      <td>21.59</td>\n",
       "    </tr>\n",
       "    <tr>\n",
       "      <th>1</th>\n",
       "      <td>ABEV3.SA</td>\n",
       "      <td>13.60</td>\n",
       "      <td>13.07</td>\n",
       "      <td>12.44</td>\n",
       "      <td>12.27</td>\n",
       "      <td>12.33</td>\n",
       "      <td>11.56</td>\n",
       "    </tr>\n",
       "    <tr>\n",
       "      <th>2</th>\n",
       "      <td>AESB3.SA</td>\n",
       "      <td>12.01</td>\n",
       "      <td>10.61</td>\n",
       "      <td>10.66</td>\n",
       "      <td>9.72</td>\n",
       "      <td>9.59</td>\n",
       "      <td>11.20</td>\n",
       "    </tr>\n",
       "    <tr>\n",
       "      <th>3</th>\n",
       "      <td>AGRO3.SA</td>\n",
       "      <td>25.86</td>\n",
       "      <td>24.71</td>\n",
       "      <td>24.00</td>\n",
       "      <td>24.84</td>\n",
       "      <td>25.06</td>\n",
       "      <td>25.39</td>\n",
       "    </tr>\n",
       "    <tr>\n",
       "      <th>4</th>\n",
       "      <td>ALPA4.SA</td>\n",
       "      <td>9.59</td>\n",
       "      <td>8.29</td>\n",
       "      <td>10.28</td>\n",
       "      <td>9.35</td>\n",
       "      <td>9.76</td>\n",
       "      <td>9.67</td>\n",
       "    </tr>\n",
       "  </tbody>\n",
       "</table>\n",
       "</div>"
      ],
      "text/plain": [
       "Date      ação  03-01-2024  02-02-2024  01-03-2024  02-04-2024  02-05-2024  \\\n",
       "0     ABCB4.SA       23.34       24.30       23.97       25.08       22.49   \n",
       "1     ABEV3.SA       13.60       13.07       12.44       12.27       12.33   \n",
       "2     AESB3.SA       12.01       10.61       10.66        9.72        9.59   \n",
       "3     AGRO3.SA       25.86       24.71       24.00       24.84       25.06   \n",
       "4     ALPA4.SA        9.59        8.29       10.28        9.35        9.76   \n",
       "\n",
       "Date  31-05-2024  \n",
       "0          21.59  \n",
       "1          11.56  \n",
       "2          11.20  \n",
       "3          25.39  \n",
       "4           9.67  "
      ]
     },
     "execution_count": 23,
     "metadata": {},
     "output_type": "execute_result"
    }
   ],
   "source": [
    "#check para debug\n",
    "df_pivot.head()"
   ]
  },
  {
   "cell_type": "code",
   "execution_count": 24,
   "id": "b540f438-3d9b-417f-ae97-cce8c792f284",
   "metadata": {},
   "outputs": [
    {
     "name": "stdout",
     "output_type": "stream",
     "text": [
      "calculando o fator de ponderação...\n",
      "ponderação calculada!\n"
     ]
    }
   ],
   "source": [
    "print(\"calculando o fator de ponderação...\")\n",
    "df_pivot['Ponderado'] = df_pivot.apply(lambda row: calcular_resultado(row), axis=1)\n",
    "print(\"ponderação calculada!\")"
   ]
  },
  {
   "cell_type": "code",
   "execution_count": 25,
   "id": "d69dd610-d308-438a-9f5a-9e4935b6a96e",
   "metadata": {},
   "outputs": [
    {
     "data": {
      "text/html": [
       "<div>\n",
       "<style scoped>\n",
       "    .dataframe tbody tr th:only-of-type {\n",
       "        vertical-align: middle;\n",
       "    }\n",
       "\n",
       "    .dataframe tbody tr th {\n",
       "        vertical-align: top;\n",
       "    }\n",
       "\n",
       "    .dataframe thead th {\n",
       "        text-align: right;\n",
       "    }\n",
       "</style>\n",
       "<table border=\"1\" class=\"dataframe\">\n",
       "  <thead>\n",
       "    <tr style=\"text-align: right;\">\n",
       "      <th>Date</th>\n",
       "      <th>ação</th>\n",
       "      <th>03-01-2024</th>\n",
       "      <th>02-02-2024</th>\n",
       "      <th>01-03-2024</th>\n",
       "      <th>02-04-2024</th>\n",
       "      <th>02-05-2024</th>\n",
       "      <th>31-05-2024</th>\n",
       "      <th>Ponderado</th>\n",
       "    </tr>\n",
       "  </thead>\n",
       "  <tbody>\n",
       "    <tr>\n",
       "      <th>0</th>\n",
       "      <td>ABCB4.SA</td>\n",
       "      <td>23.34</td>\n",
       "      <td>24.30</td>\n",
       "      <td>23.97</td>\n",
       "      <td>25.08</td>\n",
       "      <td>22.49</td>\n",
       "      <td>21.59</td>\n",
       "      <td>0.106599</td>\n",
       "    </tr>\n",
       "    <tr>\n",
       "      <th>1</th>\n",
       "      <td>ABEV3.SA</td>\n",
       "      <td>13.60</td>\n",
       "      <td>13.07</td>\n",
       "      <td>12.44</td>\n",
       "      <td>12.27</td>\n",
       "      <td>12.33</td>\n",
       "      <td>11.56</td>\n",
       "      <td>0.112284</td>\n",
       "    </tr>\n",
       "    <tr>\n",
       "      <th>2</th>\n",
       "      <td>AESB3.SA</td>\n",
       "      <td>12.01</td>\n",
       "      <td>10.61</td>\n",
       "      <td>10.66</td>\n",
       "      <td>9.72</td>\n",
       "      <td>9.59</td>\n",
       "      <td>11.20</td>\n",
       "      <td>-0.042684</td>\n",
       "    </tr>\n",
       "    <tr>\n",
       "      <th>3</th>\n",
       "      <td>AGRO3.SA</td>\n",
       "      <td>25.86</td>\n",
       "      <td>24.71</td>\n",
       "      <td>24.00</td>\n",
       "      <td>24.84</td>\n",
       "      <td>25.06</td>\n",
       "      <td>25.39</td>\n",
       "      <td>-0.017970</td>\n",
       "    </tr>\n",
       "    <tr>\n",
       "      <th>4</th>\n",
       "      <td>ALPA4.SA</td>\n",
       "      <td>9.59</td>\n",
       "      <td>8.29</td>\n",
       "      <td>10.28</td>\n",
       "      <td>9.35</td>\n",
       "      <td>9.76</td>\n",
       "      <td>9.67</td>\n",
       "      <td>-0.027696</td>\n",
       "    </tr>\n",
       "  </tbody>\n",
       "</table>\n",
       "</div>"
      ],
      "text/plain": [
       "Date      ação  03-01-2024  02-02-2024  01-03-2024  02-04-2024  02-05-2024  \\\n",
       "0     ABCB4.SA       23.34       24.30       23.97       25.08       22.49   \n",
       "1     ABEV3.SA       13.60       13.07       12.44       12.27       12.33   \n",
       "2     AESB3.SA       12.01       10.61       10.66        9.72        9.59   \n",
       "3     AGRO3.SA       25.86       24.71       24.00       24.84       25.06   \n",
       "4     ALPA4.SA        9.59        8.29       10.28        9.35        9.76   \n",
       "\n",
       "Date  31-05-2024  Ponderado  \n",
       "0          21.59   0.106599  \n",
       "1          11.56   0.112284  \n",
       "2          11.20  -0.042684  \n",
       "3          25.39  -0.017970  \n",
       "4           9.67  -0.027696  "
      ]
     },
     "execution_count": 25,
     "metadata": {},
     "output_type": "execute_result"
    }
   ],
   "source": [
    "#check para debug\n",
    "df_pivot.head()"
   ]
  },
  {
   "cell_type": "code",
   "execution_count": 26,
   "id": "c337aab8-6d12-4b1d-bf7b-0ad8b91256e3",
   "metadata": {},
   "outputs": [
    {
     "name": "stdout",
     "output_type": "stream",
     "text": [
      "calculando o FR...\n",
      "FR calculado!\n"
     ]
    }
   ],
   "source": [
    "print(\"calculando o FR...\")\n",
    "df_pivot = df_pivot.sort_values(by='Ponderado', ignore_index=False) #tem que colocar em ordem crescente de ponderado primeiro\n",
    "df_pivot['C'] = np.arange(df_pivot.shape[0]) #cria uma coluna com o numero da linha\n",
    "df_pivot['FR'] = ( ( df_pivot.shape[0] - df_pivot['C']   ) /df_pivot.shape[0] ) * 100 #total de linhas - num da linha / total de linhas\n",
    "df_pivot = df_pivot.sort_values(by='FR', ascending=False, ignore_index=False) #classifica por FR em ordem decrescente, sem descartar o índice\n",
    "\n",
    "df_final = df_pivot[(df_pivot['FR'] >= 90)]\n",
    "print(\"FR calculado!\")"
   ]
  },
  {
   "cell_type": "code",
   "execution_count": null,
   "id": "fe95a98a-edb7-41f5-ade5-69c660dc1a50",
   "metadata": {},
   "outputs": [],
   "source": [
    "df_pivot"
   ]
  },
  {
   "cell_type": "code",
   "execution_count": 27,
   "id": "9f5e4316-ac2d-4eee-afce-888bf5b0b2d2",
   "metadata": {},
   "outputs": [
    {
     "name": "stdout",
     "output_type": "stream",
     "text": [
      "obtendo somente ações com FR > 90...\n"
     ]
    },
    {
     "data": {
      "text/html": [
       "<div>\n",
       "<style scoped>\n",
       "    .dataframe tbody tr th:only-of-type {\n",
       "        vertical-align: middle;\n",
       "    }\n",
       "\n",
       "    .dataframe tbody tr th {\n",
       "        vertical-align: top;\n",
       "    }\n",
       "\n",
       "    .dataframe thead th {\n",
       "        text-align: right;\n",
       "    }\n",
       "</style>\n",
       "<table border=\"1\" class=\"dataframe\">\n",
       "  <thead>\n",
       "    <tr style=\"text-align: right;\">\n",
       "      <th>Date</th>\n",
       "      <th>ação</th>\n",
       "      <th>FR</th>\n",
       "      <th>preço mais recente</th>\n",
       "    </tr>\n",
       "  </thead>\n",
       "  <tbody>\n",
       "    <tr>\n",
       "      <th>0</th>\n",
       "      <td>BIOM3.SA</td>\n",
       "      <td>100.000</td>\n",
       "      <td>17.50</td>\n",
       "    </tr>\n",
       "    <tr>\n",
       "      <th>1</th>\n",
       "      <td>CLSA3.SA</td>\n",
       "      <td>99.476</td>\n",
       "      <td>7.37</td>\n",
       "    </tr>\n",
       "    <tr>\n",
       "      <th>2</th>\n",
       "      <td>NVDC34.SA</td>\n",
       "      <td>98.953</td>\n",
       "      <td>120.20</td>\n",
       "    </tr>\n",
       "    <tr>\n",
       "      <th>3</th>\n",
       "      <td>CBAV3.SA</td>\n",
       "      <td>98.429</td>\n",
       "      <td>7.12</td>\n",
       "    </tr>\n",
       "    <tr>\n",
       "      <th>4</th>\n",
       "      <td>SYNE3.SA</td>\n",
       "      <td>97.906</td>\n",
       "      <td>9.39</td>\n",
       "    </tr>\n",
       "    <tr>\n",
       "      <th>5</th>\n",
       "      <td>EMBR3.SA</td>\n",
       "      <td>97.382</td>\n",
       "      <td>36.23</td>\n",
       "    </tr>\n",
       "    <tr>\n",
       "      <th>6</th>\n",
       "      <td>BRFS3.SA</td>\n",
       "      <td>96.859</td>\n",
       "      <td>18.58</td>\n",
       "    </tr>\n",
       "    <tr>\n",
       "      <th>7</th>\n",
       "      <td>JBSS3.SA</td>\n",
       "      <td>96.335</td>\n",
       "      <td>28.84</td>\n",
       "    </tr>\n",
       "    <tr>\n",
       "      <th>8</th>\n",
       "      <td>GOGL34.SA</td>\n",
       "      <td>95.812</td>\n",
       "      <td>75.60</td>\n",
       "    </tr>\n",
       "    <tr>\n",
       "      <th>9</th>\n",
       "      <td>GUAR3.SA</td>\n",
       "      <td>95.288</td>\n",
       "      <td>7.56</td>\n",
       "    </tr>\n",
       "    <tr>\n",
       "      <th>10</th>\n",
       "      <td>MRFG3.SA</td>\n",
       "      <td>94.764</td>\n",
       "      <td>11.28</td>\n",
       "    </tr>\n",
       "    <tr>\n",
       "      <th>11</th>\n",
       "      <td>INBR32.SA</td>\n",
       "      <td>94.241</td>\n",
       "      <td>31.45</td>\n",
       "    </tr>\n",
       "    <tr>\n",
       "      <th>12</th>\n",
       "      <td>POSI3.SA</td>\n",
       "      <td>93.717</td>\n",
       "      <td>9.05</td>\n",
       "    </tr>\n",
       "    <tr>\n",
       "      <th>13</th>\n",
       "      <td>CAML3.SA</td>\n",
       "      <td>93.194</td>\n",
       "      <td>9.57</td>\n",
       "    </tr>\n",
       "    <tr>\n",
       "      <th>14</th>\n",
       "      <td>ORVR3.SA</td>\n",
       "      <td>92.670</td>\n",
       "      <td>40.69</td>\n",
       "    </tr>\n",
       "    <tr>\n",
       "      <th>15</th>\n",
       "      <td>CMIG4.SA</td>\n",
       "      <td>92.147</td>\n",
       "      <td>9.95</td>\n",
       "    </tr>\n",
       "    <tr>\n",
       "      <th>16</th>\n",
       "      <td>MELI34.SA</td>\n",
       "      <td>91.623</td>\n",
       "      <td>74.73</td>\n",
       "    </tr>\n",
       "    <tr>\n",
       "      <th>17</th>\n",
       "      <td>BRIT3.SA</td>\n",
       "      <td>91.099</td>\n",
       "      <td>4.00</td>\n",
       "    </tr>\n",
       "    <tr>\n",
       "      <th>18</th>\n",
       "      <td>INTB3.SA</td>\n",
       "      <td>90.576</td>\n",
       "      <td>23.34</td>\n",
       "    </tr>\n",
       "    <tr>\n",
       "      <th>19</th>\n",
       "      <td>CIEL3.SA</td>\n",
       "      <td>90.052</td>\n",
       "      <td>5.60</td>\n",
       "    </tr>\n",
       "  </tbody>\n",
       "</table>\n",
       "</div>"
      ],
      "text/plain": [
       "Date       ação       FR  preço mais recente\n",
       "0      BIOM3.SA  100.000               17.50\n",
       "1      CLSA3.SA   99.476                7.37\n",
       "2     NVDC34.SA   98.953              120.20\n",
       "3      CBAV3.SA   98.429                7.12\n",
       "4      SYNE3.SA   97.906                9.39\n",
       "5      EMBR3.SA   97.382               36.23\n",
       "6      BRFS3.SA   96.859               18.58\n",
       "7      JBSS3.SA   96.335               28.84\n",
       "8     GOGL34.SA   95.812               75.60\n",
       "9      GUAR3.SA   95.288                7.56\n",
       "10     MRFG3.SA   94.764               11.28\n",
       "11    INBR32.SA   94.241               31.45\n",
       "12     POSI3.SA   93.717                9.05\n",
       "13     CAML3.SA   93.194                9.57\n",
       "14     ORVR3.SA   92.670               40.69\n",
       "15     CMIG4.SA   92.147                9.95\n",
       "16    MELI34.SA   91.623               74.73\n",
       "17     BRIT3.SA   91.099                4.00\n",
       "18     INTB3.SA   90.576               23.34\n",
       "19     CIEL3.SA   90.052                5.60"
      ]
     },
     "execution_count": 27,
     "metadata": {},
     "output_type": "execute_result"
    }
   ],
   "source": [
    "print(\"obtendo somente ações com FR > 90...\")\n",
    "new_df = df_pivot[['ação','FR']]\n",
    "new_df = new_df.query('FR >= 90')\n",
    "new_df.reset_index(inplace=True, drop=True) #drop joga fora a coluna com o index anterior    \n",
    "# Adicionando uma nova coluna com o preço mais recente para cada ação em new_df\n",
    "new_df['preço mais recente'] = new_df['ação'].apply(lambda x: dfxx[x].iloc[-1])\n",
    "new_df.round(decimals = 3)"
   ]
  },
  {
   "cell_type": "code",
   "execution_count": 28,
   "id": "50715428-c16a-4746-b3b7-3ace46844845",
   "metadata": {},
   "outputs": [
    {
     "name": "stdout",
     "output_type": "stream",
     "text": [
      "data de hoje: 01-06-2024\n"
     ]
    }
   ],
   "source": [
    "print(\"data de hoje:\", reference_date.strftime(\"%d-%m-%Y\"))\n",
    "##análise do MACD das ações selecionadas\n",
    "# Lista de símbolos de ações\n",
    "lista = new_df['ação'].tolist()    \n",
    "new_df2 = new_df.set_index('ação') #depois de gerar a lista\n",
    "new_df2 = new_df2.round(decimals = 3)\n",
    "\n",
    "#filtrar o data_yf só com as ações da lista\n",
    "todos_dados = data_yf[lista]"
   ]
  },
  {
   "cell_type": "code",
   "execution_count": null,
   "id": "7c6f7e21-48e3-44aa-8563-2bd4bade9041",
   "metadata": {},
   "outputs": [],
   "source": [
    "todos_dados"
   ]
  },
  {
   "cell_type": "code",
   "execution_count": 29,
   "id": "d43ae330-d472-437e-8fd0-98f6ff338972",
   "metadata": {},
   "outputs": [
    {
     "name": "stdout",
     "output_type": "stream",
     "text": [
      "BIOM3.SA: MACD positivo ascendente, R$17.5\n",
      "CLSA3.SA: MACD positivo ascendente, R$7.369999885559082\n",
      "NVDC34.SA: MACD positivo ascendente, R$120.19999694824219\n",
      "CBAV3.SA: MACD positivo ascendente, R$7.119999885559082\n",
      "SYNE3.SA: MACD positivo ascendente, R$9.390000343322754\n",
      "GUAR3.SA: MACD positivo ascendente, R$7.559999942779541\n",
      "None\n"
     ]
    }
   ],
   "source": [
    "print(calcula_macd())"
   ]
  },
  {
   "cell_type": "markdown",
   "id": "8f4589d6-b261-4d88-b2be-94b780bf9c55",
   "metadata": {},
   "source": [
    "# Gráfico"
   ]
  },
  {
   "cell_type": "code",
   "execution_count": 30,
   "id": "b675eadf-f69f-4f2d-9f77-48bf4e0a847b",
   "metadata": {},
   "outputs": [
    {
     "data": {
      "text/html": [
       "        <script type=\"text/javascript\">\n",
       "        window.PlotlyConfig = {MathJaxConfig: 'local'};\n",
       "        if (window.MathJax && window.MathJax.Hub && window.MathJax.Hub.Config) {window.MathJax.Hub.Config({SVG: {font: \"STIX-Web\"}});}\n",
       "        if (typeof require !== 'undefined') {\n",
       "        require.undef(\"plotly\");\n",
       "        requirejs.config({\n",
       "            paths: {\n",
       "                'plotly': ['https://cdn.plot.ly/plotly-2.32.0.min']\n",
       "            }\n",
       "        });\n",
       "        require(['plotly'], function(Plotly) {\n",
       "            window._Plotly = Plotly;\n",
       "        });\n",
       "        }\n",
       "        </script>\n",
       "        "
      ]
     },
     "metadata": {},
     "output_type": "display_data"
    }
   ],
   "source": [
    "##configuração do cufflinks    \n",
    "cf.go_offline()\n",
    "cf.set_config_file(world_readable=True, theme='white') "
   ]
  },
  {
   "cell_type": "code",
   "execution_count": null,
   "id": "b26a85d6-0b12-44e9-8360-76e9aa0152c6",
   "metadata": {},
   "outputs": [],
   "source": [
    "# choice = st.selectbox(\"escolha a ação\", lista)    "
   ]
  },
  {
   "cell_type": "code",
   "execution_count": 31,
   "id": "ddcb79b3-6d40-497a-89dc-8c9d37d63e60",
   "metadata": {},
   "outputs": [
    {
     "data": {
      "application/vnd.jupyter.widget-view+json": {
       "model_id": "1795578a806a454facd7dc2156cf2fb4",
       "version_major": 2,
       "version_minor": 0
      },
      "text/plain": [
       "RadioButtons(description='Selecione uma opção:', options=('BIOM3.SA', 'CLSA3.SA', 'NVDC34.SA', 'CBAV3.SA', 'SY…"
      ]
     },
     "metadata": {},
     "output_type": "display_data"
    }
   ],
   "source": [
    "# Variável global para armazenar a ação selecionada\n",
    "choice = None\n",
    "\n",
    "# Cria um grupo de radio buttons\n",
    "radio_buttons = widgets.RadioButtons(\n",
    "    options=lista,\n",
    "    value=lista[0],\n",
    "    description='Selecione uma opção:',\n",
    "    disabled=False\n",
    ")\n",
    "\n",
    "# Função para obter o valor selecionado\n",
    "def get_selected_value(change):\n",
    "    global choice\n",
    "    #print(f'Você selecionou: {change.new}')\n",
    "    choice = change['new']\n",
    "\n",
    "# Conecta a função ao evento de mudança de valor\n",
    "radio_buttons.observe(get_selected_value, names='value')\n",
    "\n",
    "# Exibe o widget\n",
    "display(radio_buttons)"
   ]
  },
  {
   "cell_type": "code",
   "execution_count": 32,
   "id": "8d8599bc-05bb-467f-b5d2-789adc1d5cd3",
   "metadata": {},
   "outputs": [
    {
     "name": "stdout",
     "output_type": "stream",
     "text": [
      "CAML3.SA\n"
     ]
    }
   ],
   "source": [
    "print(choice)"
   ]
  },
  {
   "cell_type": "code",
   "execution_count": 33,
   "id": "081962d4-8f01-4ad5-841f-b0d9ad084bee",
   "metadata": {},
   "outputs": [
    {
     "name": "stderr",
     "output_type": "stream",
     "text": [
      "[*********************100%%**********************]  20 of 20 completed\n"
     ]
    }
   ],
   "source": [
    "bleh = baixa_lista()\n",
    "dadosx = bleh.loc[:, (['Open', 'High', 'Low', 'Close', 'Volume'], choice)]\n",
    "dadosx.columns = dadosx.columns.droplevel(1)"
   ]
  },
  {
   "cell_type": "code",
   "execution_count": 34,
   "id": "767c82d4-05ad-4340-a21f-65bd2b800963",
   "metadata": {},
   "outputs": [],
   "source": [
    "#ajustes para novas versões do pandas, cufflinks e plotly\n",
    "dadosx.index = dadosx.index.astype(str) #passar para string, pois não irá mais suportar datetime no índice"
   ]
  },
  {
   "cell_type": "code",
   "execution_count": null,
   "id": "7339c1eb-5fcf-461a-bfc8-9c03071ff957",
   "metadata": {},
   "outputs": [],
   "source": [
    "type(dadosx)"
   ]
  },
  {
   "cell_type": "code",
   "execution_count": 35,
   "id": "8c47056d-c95a-4328-82de-c81f327a1e00",
   "metadata": {},
   "outputs": [
    {
     "name": "stderr",
     "output_type": "stream",
     "text": [
      "C:\\Users\\bruno\\miniconda3\\envs\\py311\\Lib\\site-packages\\cufflinks\\quant_figure.py:1061: FutureWarning:\n",
      "\n",
      "Series.__getitem__ treating keys as positions is deprecated. In a future version, integer keys will always be treated as labels (consistent with DataFrame behavior). To access a value by position, use `ser.iloc[pos]`\n",
      "\n"
     ]
    },
    {
     "data": {
      "application/vnd.plotly.v1+json": {
       "config": {
        "plotlyServerURL": "https://plot.ly"
       },
       "data": [
        {
         "legendgroup": "BOLL(Close,20)",
         "line": {
          "color": "rgba(55, 128, 191, 1.0)",
          "dash": "solid",
          "shape": "linear",
          "width": 1.3
         },
         "mode": "lines",
         "name": "BOLL(Close,20)",
         "showlegend": true,
         "text": "",
         "type": "scatter",
         "x": [
          "2024-01-03",
          "2024-01-04",
          "2024-01-05",
          "2024-01-08",
          "2024-01-09",
          "2024-01-10",
          "2024-01-11",
          "2024-01-12",
          "2024-01-15",
          "2024-01-16",
          "2024-01-17",
          "2024-01-18",
          "2024-01-19",
          "2024-01-22",
          "2024-01-23",
          "2024-01-24",
          "2024-01-25",
          "2024-01-26",
          "2024-01-29",
          "2024-01-30",
          "2024-01-31",
          "2024-02-01",
          "2024-02-02",
          "2024-02-05",
          "2024-02-06",
          "2024-02-07",
          "2024-02-08",
          "2024-02-09",
          "2024-02-14",
          "2024-02-15",
          "2024-02-16",
          "2024-02-19",
          "2024-02-20",
          "2024-02-21",
          "2024-02-22",
          "2024-02-23",
          "2024-02-26",
          "2024-02-27",
          "2024-02-28",
          "2024-02-29",
          "2024-03-01",
          "2024-03-04",
          "2024-03-05",
          "2024-03-06",
          "2024-03-07",
          "2024-03-08",
          "2024-03-11",
          "2024-03-12",
          "2024-03-13",
          "2024-03-14",
          "2024-03-15",
          "2024-03-18",
          "2024-03-19",
          "2024-03-20",
          "2024-03-21",
          "2024-03-22",
          "2024-03-25",
          "2024-03-26",
          "2024-03-27",
          "2024-03-28",
          "2024-04-01",
          "2024-04-02",
          "2024-04-03",
          "2024-04-04",
          "2024-04-05",
          "2024-04-08",
          "2024-04-09",
          "2024-04-10",
          "2024-04-11",
          "2024-04-12",
          "2024-04-15",
          "2024-04-16",
          "2024-04-17",
          "2024-04-18",
          "2024-04-19",
          "2024-04-22",
          "2024-04-23",
          "2024-04-24",
          "2024-04-25",
          "2024-04-26",
          "2024-04-29",
          "2024-04-30",
          "2024-05-02",
          "2024-05-03",
          "2024-05-06",
          "2024-05-07",
          "2024-05-08",
          "2024-05-09",
          "2024-05-10",
          "2024-05-13",
          "2024-05-14",
          "2024-05-15",
          "2024-05-16",
          "2024-05-17",
          "2024-05-20",
          "2024-05-21",
          "2024-05-22",
          "2024-05-23",
          "2024-05-24",
          "2024-05-27",
          "2024-05-28",
          "2024-05-29",
          "2024-05-31"
         ],
         "y": [
          "",
          "",
          "",
          "",
          "",
          "",
          "",
          "",
          "",
          "",
          "",
          "",
          "",
          "",
          "",
          "",
          "",
          "",
          "",
          8.414999890327454,
          8.467499899864197,
          8.516999888420106,
          8.565999865531921,
          8.608499836921691,
          8.649499821662904,
          8.6829998254776,
          8.71499981880188,
          8.71499981880188,
          8.709499835968018,
          8.732499837875366,
          8.74749984741211,
          8.751999855041504,
          8.755999851226807,
          8.76949987411499,
          8.765499877929688,
          8.754499912261963,
          8.733499908447266,
          8.719999933242798,
          8.701499891281127,
          8.687499904632569,
          8.677999877929688,
          8.668499898910522,
          8.659999895095826,
          8.651999902725219,
          8.643999910354614,
          8.646999883651734,
          8.646999883651734,
          8.643999910354614,
          8.651499938964843,
          8.656999921798706,
          8.646499919891358,
          8.654999923706054,
          8.667499923706055,
          8.67549991607666,
          8.676499938964843,
          8.681499910354614,
          8.687499904632569,
          8.686999893188476,
          8.69149990081787,
          8.712999868392945,
          8.720499897003174,
          8.73199987411499,
          8.729999876022339,
          8.732499885559083,
          8.72549991607666,
          8.721499919891357,
          8.728999948501587,
          8.726499938964844,
          8.721499919891357,
          8.695999908447266,
          8.673499917984008,
          8.640499925613403,
          8.592499947547912,
          8.544499945640563,
          8.501999926567077,
          8.471999955177306,
          8.454499983787537,
          8.439499974250793,
          8.413499999046326,
          8.381500029563904,
          8.371500039100647,
          8.351500058174134,
          8.348500084877013,
          8.362000107765198,
          8.374000096321106,
          8.38950011730194,
          8.408500123023988,
          8.432000136375427,
          8.460500121116638,
          8.530000138282777,
          8.606500124931335,
          8.70950014591217,
          8.820500135421753,
          8.920000123977662,
          9.020000123977661,
          9.111500120162964,
          9.186000108718872,
          9.256500148773194,
          9.343500137329102,
          9.42900013923645,
          9.476500129699707,
          9.53400011062622,
          9.58500008583069
         ],
         "yaxis": "y2"
        },
        {
         "legendgroup": "BOLL(Close,20)",
         "line": {
          "color": "rgba(55, 128, 191, 0.8999999999999999)",
          "dash": "solid",
          "shape": "linear",
          "width": 1.3
         },
         "mode": "lines",
         "name": "UPPER(Close,20)",
         "showlegend": false,
         "text": "",
         "type": "scatter",
         "x": [
          "2024-01-03",
          "2024-01-04",
          "2024-01-05",
          "2024-01-08",
          "2024-01-09",
          "2024-01-10",
          "2024-01-11",
          "2024-01-12",
          "2024-01-15",
          "2024-01-16",
          "2024-01-17",
          "2024-01-18",
          "2024-01-19",
          "2024-01-22",
          "2024-01-23",
          "2024-01-24",
          "2024-01-25",
          "2024-01-26",
          "2024-01-29",
          "2024-01-30",
          "2024-01-31",
          "2024-02-01",
          "2024-02-02",
          "2024-02-05",
          "2024-02-06",
          "2024-02-07",
          "2024-02-08",
          "2024-02-09",
          "2024-02-14",
          "2024-02-15",
          "2024-02-16",
          "2024-02-19",
          "2024-02-20",
          "2024-02-21",
          "2024-02-22",
          "2024-02-23",
          "2024-02-26",
          "2024-02-27",
          "2024-02-28",
          "2024-02-29",
          "2024-03-01",
          "2024-03-04",
          "2024-03-05",
          "2024-03-06",
          "2024-03-07",
          "2024-03-08",
          "2024-03-11",
          "2024-03-12",
          "2024-03-13",
          "2024-03-14",
          "2024-03-15",
          "2024-03-18",
          "2024-03-19",
          "2024-03-20",
          "2024-03-21",
          "2024-03-22",
          "2024-03-25",
          "2024-03-26",
          "2024-03-27",
          "2024-03-28",
          "2024-04-01",
          "2024-04-02",
          "2024-04-03",
          "2024-04-04",
          "2024-04-05",
          "2024-04-08",
          "2024-04-09",
          "2024-04-10",
          "2024-04-11",
          "2024-04-12",
          "2024-04-15",
          "2024-04-16",
          "2024-04-17",
          "2024-04-18",
          "2024-04-19",
          "2024-04-22",
          "2024-04-23",
          "2024-04-24",
          "2024-04-25",
          "2024-04-26",
          "2024-04-29",
          "2024-04-30",
          "2024-05-02",
          "2024-05-03",
          "2024-05-06",
          "2024-05-07",
          "2024-05-08",
          "2024-05-09",
          "2024-05-10",
          "2024-05-13",
          "2024-05-14",
          "2024-05-15",
          "2024-05-16",
          "2024-05-17",
          "2024-05-20",
          "2024-05-21",
          "2024-05-22",
          "2024-05-23",
          "2024-05-24",
          "2024-05-27",
          "2024-05-28",
          "2024-05-29",
          "2024-05-31"
         ],
         "y": [
          "",
          "",
          "",
          "",
          "",
          "",
          "",
          "",
          "",
          "",
          "",
          "",
          "",
          "",
          "",
          "",
          "",
          "",
          "",
          9.345432536440782,
          9.377210501039418,
          9.370626096494089,
          9.366878248440798,
          9.333809900524518,
          9.297101833590123,
          9.212909481102166,
          9.101045972772939,
          9.101045972772939,
          9.097774089589384,
          9.092024530100073,
          9.096325090657665,
          9.086135148544633,
          9.082796219102839,
          9.071387030381782,
          9.061613414451326,
          9.052173440967955,
          9.032359278159335,
          9.003586181580866,
          8.93566365339115,
          8.922793709308841,
          8.895216716678394,
          8.889051766054182,
          8.868755566884085,
          8.868050570939088,
          8.859738580798245,
          8.856470492875534,
          8.856470492875534,
          8.851987866111633,
          8.866542323741248,
          8.89656978865395,
          8.872147608239294,
          8.874904266442531,
          8.913124784095068,
          8.943237018173408,
          8.946803919653021,
          8.952659278258203,
          8.949707186766782,
          8.949385763413936,
          8.957168910935195,
          8.999253348989514,
          9.012027655845351,
          9.014887335329995,
          9.01587812059755,
          9.011813023715565,
          9.028013902229372,
          9.034601511345155,
          9.029728806641021,
          9.031149792039747,
          9.026426042843863,
          9.005729823799967,
          9.061871627001688,
          9.120696099557712,
          9.149290516338066,
          9.146128358760246,
          9.13217437068338,
          9.111525930811581,
          9.092670734411,
          9.071405058757524,
          9.028993685166773,
          8.936563762825239,
          8.898268710216728,
          8.840377385872046,
          8.83139818041569,
          8.885534768649775,
          8.914814400419882,
          8.961200383376124,
          9.042693512836646,
          9.12647780115487,
          9.237931219218636,
          9.519354012794782,
          9.70880912727991,
          9.963470253354116,
          10.176538788677133,
          10.301974156766118,
          10.411084334510614,
          10.499603957897108,
          10.550457061764432,
          10.58653004454733,
          10.625854281337018,
          10.656490331301152,
          10.647667173350795,
          10.587583334565904,
          10.531316915460511
         ],
         "yaxis": "y2"
        },
        {
         "fill": "tonexty",
         "fillcolor": "rgba(55, 128, 191, 0.1)",
         "legendgroup": "BOLL(Close,20)",
         "line": {
          "color": "rgba(55, 128, 191, 0.7999999999999998)",
          "dash": "solid",
          "shape": "linear",
          "width": 1.3
         },
         "mode": "lines",
         "name": "LOWER(Close,20)",
         "showlegend": false,
         "text": "",
         "type": "scatter",
         "x": [
          "2024-01-03",
          "2024-01-04",
          "2024-01-05",
          "2024-01-08",
          "2024-01-09",
          "2024-01-10",
          "2024-01-11",
          "2024-01-12",
          "2024-01-15",
          "2024-01-16",
          "2024-01-17",
          "2024-01-18",
          "2024-01-19",
          "2024-01-22",
          "2024-01-23",
          "2024-01-24",
          "2024-01-25",
          "2024-01-26",
          "2024-01-29",
          "2024-01-30",
          "2024-01-31",
          "2024-02-01",
          "2024-02-02",
          "2024-02-05",
          "2024-02-06",
          "2024-02-07",
          "2024-02-08",
          "2024-02-09",
          "2024-02-14",
          "2024-02-15",
          "2024-02-16",
          "2024-02-19",
          "2024-02-20",
          "2024-02-21",
          "2024-02-22",
          "2024-02-23",
          "2024-02-26",
          "2024-02-27",
          "2024-02-28",
          "2024-02-29",
          "2024-03-01",
          "2024-03-04",
          "2024-03-05",
          "2024-03-06",
          "2024-03-07",
          "2024-03-08",
          "2024-03-11",
          "2024-03-12",
          "2024-03-13",
          "2024-03-14",
          "2024-03-15",
          "2024-03-18",
          "2024-03-19",
          "2024-03-20",
          "2024-03-21",
          "2024-03-22",
          "2024-03-25",
          "2024-03-26",
          "2024-03-27",
          "2024-03-28",
          "2024-04-01",
          "2024-04-02",
          "2024-04-03",
          "2024-04-04",
          "2024-04-05",
          "2024-04-08",
          "2024-04-09",
          "2024-04-10",
          "2024-04-11",
          "2024-04-12",
          "2024-04-15",
          "2024-04-16",
          "2024-04-17",
          "2024-04-18",
          "2024-04-19",
          "2024-04-22",
          "2024-04-23",
          "2024-04-24",
          "2024-04-25",
          "2024-04-26",
          "2024-04-29",
          "2024-04-30",
          "2024-05-02",
          "2024-05-03",
          "2024-05-06",
          "2024-05-07",
          "2024-05-08",
          "2024-05-09",
          "2024-05-10",
          "2024-05-13",
          "2024-05-14",
          "2024-05-15",
          "2024-05-16",
          "2024-05-17",
          "2024-05-20",
          "2024-05-21",
          "2024-05-22",
          "2024-05-23",
          "2024-05-24",
          "2024-05-27",
          "2024-05-28",
          "2024-05-29",
          "2024-05-31"
         ],
         "y": [
          "",
          "",
          "",
          "",
          "",
          "",
          "",
          "",
          "",
          "",
          "",
          "",
          "",
          "",
          "",
          "",
          "",
          "",
          "",
          7.4845672442141264,
          7.557789298688978,
          7.6633736803461225,
          7.7651214826230435,
          7.883189773318866,
          8.001897809735684,
          8.153090169853034,
          8.328953664830822,
          8.328953664830822,
          8.321225582346651,
          8.37297514565066,
          8.398674604166555,
          8.417864561538375,
          8.429203483350776,
          8.467612717848198,
          8.46938634140805,
          8.45682638355597,
          8.434640538735197,
          8.43641368490473,
          8.467336129171104,
          8.452206099956296,
          8.460783039180981,
          8.447948031766861,
          8.451244223307567,
          8.43594923451135,
          8.428261239910983,
          8.437529274427934,
          8.437529274427934,
          8.436011954597594,
          8.436457554188438,
          8.41743005494346,
          8.420852231543423,
          8.435095580969577,
          8.421875063317042,
          8.407762813979913,
          8.406195958276665,
          8.410340542451024,
          8.425292622498356,
          8.424614022963016,
          8.425830890700546,
          8.426746387796376,
          8.428972138160997,
          8.449112412899986,
          8.444121631447127,
          8.4531867474026,
          8.42298592992395,
          8.40839832843756,
          8.428271090362152,
          8.421850085889941,
          8.416573796938852,
          8.386269993094565,
          8.285128208966329,
          8.160303751669094,
          8.035709378757758,
          7.94287153252088,
          7.871825482450773,
          7.832473979543031,
          7.8163292331640735,
          7.807594889744063,
          7.798006312925881,
          7.826436296302569,
          7.844731367984568,
          7.862622730476222,
          7.865601989338337,
          7.838465446880621,
          7.833185792222331,
          7.817799851227757,
          7.77430673321133,
          7.737522471595983,
          7.683069023014641,
          7.540646263770772,
          7.5041911225827596,
          7.455530038470224,
          7.464461482166373,
          7.538026091189206,
          7.628915913444708,
          7.723396282428819,
          7.821543155673313,
          7.926470252999058,
          8.061145993321185,
          8.201509947171749,
          8.305333086048618,
          8.480416886686536,
          8.638683256200867
         ],
         "yaxis": "y2"
        },
        {
         "line": {
          "color": "rgba(219, 64, 82, 1.0)",
          "dash": "solid",
          "shape": "linear",
          "width": 1.3
         },
         "mode": "lines",
         "name": " SMA(20)",
         "text": "",
         "type": "scatter",
         "x": [
          "2024-01-03",
          "2024-01-04",
          "2024-01-05",
          "2024-01-08",
          "2024-01-09",
          "2024-01-10",
          "2024-01-11",
          "2024-01-12",
          "2024-01-15",
          "2024-01-16",
          "2024-01-17",
          "2024-01-18",
          "2024-01-19",
          "2024-01-22",
          "2024-01-23",
          "2024-01-24",
          "2024-01-25",
          "2024-01-26",
          "2024-01-29",
          "2024-01-30",
          "2024-01-31",
          "2024-02-01",
          "2024-02-02",
          "2024-02-05",
          "2024-02-06",
          "2024-02-07",
          "2024-02-08",
          "2024-02-09",
          "2024-02-14",
          "2024-02-15",
          "2024-02-16",
          "2024-02-19",
          "2024-02-20",
          "2024-02-21",
          "2024-02-22",
          "2024-02-23",
          "2024-02-26",
          "2024-02-27",
          "2024-02-28",
          "2024-02-29",
          "2024-03-01",
          "2024-03-04",
          "2024-03-05",
          "2024-03-06",
          "2024-03-07",
          "2024-03-08",
          "2024-03-11",
          "2024-03-12",
          "2024-03-13",
          "2024-03-14",
          "2024-03-15",
          "2024-03-18",
          "2024-03-19",
          "2024-03-20",
          "2024-03-21",
          "2024-03-22",
          "2024-03-25",
          "2024-03-26",
          "2024-03-27",
          "2024-03-28",
          "2024-04-01",
          "2024-04-02",
          "2024-04-03",
          "2024-04-04",
          "2024-04-05",
          "2024-04-08",
          "2024-04-09",
          "2024-04-10",
          "2024-04-11",
          "2024-04-12",
          "2024-04-15",
          "2024-04-16",
          "2024-04-17",
          "2024-04-18",
          "2024-04-19",
          "2024-04-22",
          "2024-04-23",
          "2024-04-24",
          "2024-04-25",
          "2024-04-26",
          "2024-04-29",
          "2024-04-30",
          "2024-05-02",
          "2024-05-03",
          "2024-05-06",
          "2024-05-07",
          "2024-05-08",
          "2024-05-09",
          "2024-05-10",
          "2024-05-13",
          "2024-05-14",
          "2024-05-15",
          "2024-05-16",
          "2024-05-17",
          "2024-05-20",
          "2024-05-21",
          "2024-05-22",
          "2024-05-23",
          "2024-05-24",
          "2024-05-27",
          "2024-05-28",
          "2024-05-29",
          "2024-05-31"
         ],
         "y": [
          "",
          "",
          "",
          "",
          "",
          "",
          "",
          "",
          "",
          "",
          "",
          "",
          "",
          "",
          "",
          "",
          "",
          "",
          "",
          8.414999890327454,
          8.467499899864197,
          8.516999888420106,
          8.565999865531921,
          8.608499836921691,
          8.649499821662904,
          8.6829998254776,
          8.71499981880188,
          8.71499981880188,
          8.709499835968018,
          8.732499837875366,
          8.74749984741211,
          8.751999855041504,
          8.755999851226807,
          8.76949987411499,
          8.765499877929688,
          8.754499912261963,
          8.733499908447266,
          8.719999933242798,
          8.701499891281127,
          8.687499904632569,
          8.677999877929688,
          8.668499898910522,
          8.659999895095826,
          8.651999902725219,
          8.643999910354614,
          8.646999883651734,
          8.646999883651734,
          8.643999910354614,
          8.651499938964843,
          8.656999921798706,
          8.646499919891358,
          8.654999923706054,
          8.667499923706055,
          8.67549991607666,
          8.676499938964843,
          8.681499910354614,
          8.687499904632569,
          8.686999893188476,
          8.69149990081787,
          8.712999868392945,
          8.720499897003174,
          8.73199987411499,
          8.729999876022339,
          8.732499885559083,
          8.72549991607666,
          8.721499919891357,
          8.728999948501587,
          8.726499938964844,
          8.721499919891357,
          8.695999908447266,
          8.673499917984008,
          8.640499925613403,
          8.592499947547912,
          8.544499945640563,
          8.501999926567077,
          8.471999955177306,
          8.454499983787537,
          8.439499974250793,
          8.413499999046326,
          8.381500029563904,
          8.371500039100647,
          8.351500058174134,
          8.348500084877013,
          8.362000107765198,
          8.374000096321106,
          8.38950011730194,
          8.408500123023988,
          8.432000136375427,
          8.460500121116638,
          8.530000138282777,
          8.606500124931335,
          8.70950014591217,
          8.820500135421753,
          8.920000123977662,
          9.020000123977661,
          9.111500120162964,
          9.186000108718872,
          9.256500148773194,
          9.343500137329102,
          9.42900013923645,
          9.476500129699707,
          9.53400011062622,
          9.58500008583069
         ],
         "yaxis": "y2"
        },
        {
         "marker": {
          "color": [
           "#db4052",
           "#db4052",
           "#008000",
           "#db4052",
           "#008000",
           "#db4052",
           "#008000",
           "#008000",
           "#008000",
           "#db4052",
           "#008000",
           "#db4052",
           "#008000",
           "#db4052",
           "#008000",
           "#db4052",
           "#008000",
           "#db4052",
           "#008000",
           "#db4052",
           "#008000",
           "#db4052",
           "#008000",
           "#db4052",
           "#008000",
           "#db4052",
           "#008000",
           "#008000",
           "#db4052",
           "#008000",
           "#db4052",
           "#db4052",
           "#008000",
           "#008000",
           "#008000",
           "#db4052",
           "#db4052",
           "#008000",
           "#008000",
           "#db4052",
           "#008000",
           "#db4052",
           "#008000",
           "#db4052",
           "#008000",
           "#db4052",
           "#db4052",
           "#008000",
           "#008000",
           "#008000",
           "#db4052",
           "#008000",
           "#008000",
           "#008000",
           "#db4052",
           "#db4052",
           "#db4052",
           "#008000",
           "#008000",
           "#008000",
           "#db4052",
           "#db4052",
           "#db4052",
           "#db4052",
           "#db4052",
           "#008000",
           "#008000",
           "#db4052",
           "#008000",
           "#db4052",
           "#db4052",
           "#db4052",
           "#db4052",
           "#008000",
           "#008000",
           "#008000",
           "#008000",
           "#008000",
           "#db4052",
           "#008000",
           "#008000",
           "#db4052",
           "#008000",
           "#008000",
           "#db4052",
           "#008000",
           "#008000",
           "#db4052",
           "#008000",
           "#008000",
           "#db4052",
           "#008000",
           "#008000",
           "#db4052",
           "#008000",
           "#db4052",
           "#db4052",
           "#db4052",
           "#008000",
           "#008000",
           "#db4052",
           "#db4052",
           "#008000"
          ],
          "line": {
           "color": [
            "#db4052",
            "#db4052",
            "#008000",
            "#db4052",
            "#008000",
            "#db4052",
            "#008000",
            "#008000",
            "#008000",
            "#db4052",
            "#008000",
            "#db4052",
            "#008000",
            "#db4052",
            "#008000",
            "#db4052",
            "#008000",
            "#db4052",
            "#008000",
            "#db4052",
            "#008000",
            "#db4052",
            "#008000",
            "#db4052",
            "#008000",
            "#db4052",
            "#008000",
            "#008000",
            "#db4052",
            "#008000",
            "#db4052",
            "#db4052",
            "#008000",
            "#008000",
            "#008000",
            "#db4052",
            "#db4052",
            "#008000",
            "#008000",
            "#db4052",
            "#008000",
            "#db4052",
            "#008000",
            "#db4052",
            "#008000",
            "#db4052",
            "#db4052",
            "#008000",
            "#008000",
            "#008000",
            "#db4052",
            "#008000",
            "#008000",
            "#008000",
            "#db4052",
            "#db4052",
            "#db4052",
            "#008000",
            "#008000",
            "#008000",
            "#db4052",
            "#db4052",
            "#db4052",
            "#db4052",
            "#db4052",
            "#008000",
            "#008000",
            "#db4052",
            "#008000",
            "#db4052",
            "#db4052",
            "#db4052",
            "#db4052",
            "#008000",
            "#008000",
            "#008000",
            "#008000",
            "#008000",
            "#db4052",
            "#008000",
            "#008000",
            "#db4052",
            "#008000",
            "#008000",
            "#db4052",
            "#008000",
            "#008000",
            "#db4052",
            "#008000",
            "#008000",
            "#db4052",
            "#008000",
            "#008000",
            "#db4052",
            "#008000",
            "#db4052",
            "#db4052",
            "#db4052",
            "#008000",
            "#008000",
            "#db4052",
            "#db4052",
            "#008000"
           ],
           "width": 1
          }
         },
         "name": "Volume",
         "opacity": 0.8,
         "orientation": "v",
         "text": "",
         "type": "bar",
         "x": [
          "2024-01-03",
          "2024-01-04",
          "2024-01-05",
          "2024-01-08",
          "2024-01-09",
          "2024-01-10",
          "2024-01-11",
          "2024-01-12",
          "2024-01-15",
          "2024-01-16",
          "2024-01-17",
          "2024-01-18",
          "2024-01-19",
          "2024-01-22",
          "2024-01-23",
          "2024-01-24",
          "2024-01-25",
          "2024-01-26",
          "2024-01-29",
          "2024-01-30",
          "2024-01-31",
          "2024-02-01",
          "2024-02-02",
          "2024-02-05",
          "2024-02-06",
          "2024-02-07",
          "2024-02-08",
          "2024-02-09",
          "2024-02-14",
          "2024-02-15",
          "2024-02-16",
          "2024-02-19",
          "2024-02-20",
          "2024-02-21",
          "2024-02-22",
          "2024-02-23",
          "2024-02-26",
          "2024-02-27",
          "2024-02-28",
          "2024-02-29",
          "2024-03-01",
          "2024-03-04",
          "2024-03-05",
          "2024-03-06",
          "2024-03-07",
          "2024-03-08",
          "2024-03-11",
          "2024-03-12",
          "2024-03-13",
          "2024-03-14",
          "2024-03-15",
          "2024-03-18",
          "2024-03-19",
          "2024-03-20",
          "2024-03-21",
          "2024-03-22",
          "2024-03-25",
          "2024-03-26",
          "2024-03-27",
          "2024-03-28",
          "2024-04-01",
          "2024-04-02",
          "2024-04-03",
          "2024-04-04",
          "2024-04-05",
          "2024-04-08",
          "2024-04-09",
          "2024-04-10",
          "2024-04-11",
          "2024-04-12",
          "2024-04-15",
          "2024-04-16",
          "2024-04-17",
          "2024-04-18",
          "2024-04-19",
          "2024-04-22",
          "2024-04-23",
          "2024-04-24",
          "2024-04-25",
          "2024-04-26",
          "2024-04-29",
          "2024-04-30",
          "2024-05-02",
          "2024-05-03",
          "2024-05-06",
          "2024-05-07",
          "2024-05-08",
          "2024-05-09",
          "2024-05-10",
          "2024-05-13",
          "2024-05-14",
          "2024-05-15",
          "2024-05-16",
          "2024-05-17",
          "2024-05-20",
          "2024-05-21",
          "2024-05-22",
          "2024-05-23",
          "2024-05-24",
          "2024-05-27",
          "2024-05-28",
          "2024-05-29",
          "2024-05-31"
         ],
         "y": [
          1132800,
          604600,
          564800,
          415800,
          655800,
          440400,
          601100,
          2876700,
          1424500,
          871800,
          847700,
          598000,
          861600,
          890800,
          1541300,
          923300,
          467800,
          637700,
          694500,
          616600,
          550200,
          615400,
          568300,
          887400,
          474100,
          629200,
          716700,
          381200,
          580200,
          500500,
          697800,
          568400,
          556800,
          503800,
          476200,
          307300,
          555000,
          750300,
          364200,
          571700,
          393800,
          468300,
          396900,
          334200,
          220000,
          436800,
          224400,
          350300,
          841800,
          435500,
          511000,
          1521900,
          357600,
          305400,
          144700,
          316200,
          259100,
          359600,
          440500,
          905600,
          501900,
          467800,
          485900,
          392700,
          619500,
          640300,
          459200,
          773800,
          398200,
          476000,
          978900,
          516400,
          553500,
          403600,
          754400,
          322800,
          454700,
          352900,
          256100,
          177100,
          388000,
          260300,
          230300,
          745200,
          614100,
          458100,
          1247800,
          663400,
          1973500,
          1780000,
          1226000,
          1413100,
          1230400,
          668900,
          427400,
          839000,
          559000,
          789400,
          966400,
          562400,
          455500,
          886300,
          590100
         ],
         "yaxis": "y3"
        },
        {
         "close": [
          7.829999923706055,
          7.760000228881836,
          7.840000152587891,
          7.840000152587891,
          7.909999847412109,
          7.840000152587891,
          7.889999866485596,
          8.699999809265137,
          8.729999542236328,
          8.380000114440918,
          8.529999732971191,
          8.4399995803833,
          8.569999694824219,
          8.489999771118164,
          8.90999984741211,
          8.859999656677246,
          8.949999809265137,
          8.9399995803833,
          9.0600004196167,
          8.829999923706055,
          8.880000114440918,
          8.75,
          8.819999694824219,
          8.6899995803833,
          8.729999542236328,
          8.510000228881836,
          8.529999732971191,
          8.699999809265137,
          8.619999885559082,
          8.84000015258789,
          8.829999923706055,
          8.529999732971191,
          8.649999618530273,
          8.760000228881836,
          8.829999923706055,
          8.640000343322754,
          8.529999732971191,
          8.670000076293945,
          8.6899995803833,
          8.550000190734863,
          8.6899995803833,
          8.5600004196167,
          8.649999618530273,
          8.529999732971191,
          8.569999694824219,
          8.569999694824219,
          8.529999732971191,
          8.640000343322754,
          8.770000457763672,
          8.949999809265137,
          8.619999885559082,
          8.699999809265137,
          8.899999618530273,
          8.920000076293945,
          8.850000381469727,
          8.739999771118164,
          8.649999618530273,
          8.65999984741211,
          8.779999732971191,
          8.979999542236328,
          8.84000015258789,
          8.789999961853027,
          8.609999656677246,
          8.579999923706055,
          8.430000305175781,
          8.489999771118164,
          8.680000305175781,
          8.59000015258789,
          8.670000076293945,
          8.4399995803833,
          8.170000076293945,
          8.039999961853027,
          7.940000057220459,
          7.960000038146973,
          8,
          8.140000343322754,
          8.300000190734863,
          8.359999656677246,
          8.260000228881836,
          8.34000015258789,
          8.640000343322754,
          8.390000343322754,
          8.550000190734863,
          8.850000381469727,
          8.670000076293945,
          8.800000190734863,
          9.0600004196167,
          9.0600004196167,
          9.239999771118164,
          9.829999923706055,
          9.699999809265137,
          10.100000381469727,
          10.15999984741211,
          9.949999809265137,
          10,
          9.970000267028809,
          9.789999961853027,
          9.770000457763672,
          10,
          10.050000190734863,
          9.59000015258789,
          9.539999961853027,
          9.569999694824219
         ],
         "decreasing": {
          "line": {
           "color": "#db4052"
          }
         },
         "high": [
          7.920000076293945,
          7.849999904632568,
          7.900000095367432,
          7.900000095367432,
          8.010000228881836,
          7.960000038146973,
          7.889999866485596,
          8.699999809265137,
          8.850000381469727,
          8.699999809265137,
          8.539999961853027,
          8.649999618530273,
          8.609999656677246,
          8.619999885559082,
          9.029999732971191,
          8.9399995803833,
          9,
          9.100000381469727,
          9.0600004196167,
          9.0600004196167,
          9.029999732971191,
          8.869999885559082,
          8.869999885559082,
          8.829999923706055,
          8.8100004196167,
          8.729999542236328,
          8.550000190734863,
          8.789999961853027,
          8.739999771118164,
          8.899999618530273,
          8.90999984741211,
          8.829999923706055,
          8.720000267028809,
          8.8100004196167,
          8.829999923706055,
          8.829999923706055,
          8.640000343322754,
          8.670000076293945,
          8.6899995803833,
          8.739999771118164,
          8.6899995803833,
          8.729999542236328,
          8.739999771118164,
          8.720000267028809,
          8.569999694824219,
          8.680000305175781,
          8.579999923706055,
          8.6899995803833,
          8.930000305175781,
          8.970000267028809,
          8.949999809265137,
          8.760000228881836,
          8.899999618530273,
          8.930000305175781,
          8.960000038146973,
          8.869999885559082,
          8.739999771118164,
          8.739999771118164,
          8.779999732971191,
          9.1899995803833,
          9.1899995803833,
          8.869999885559082,
          8.779999732971191,
          8.699999809265137,
          8.59000015258789,
          8.510000228881836,
          8.699999809265137,
          8.699999809265137,
          8.720000267028809,
          8.65999984741211,
          8.5,
          8.15999984741211,
          8.140000343322754,
          8.039999961853027,
          8.100000381469727,
          8.170000076293945,
          8.399999618530273,
          8.520000457763672,
          8.390000343322754,
          8.390000343322754,
          8.640000343322754,
          8.630000114440918,
          8.569999694824219,
          8.9399995803833,
          8.84000015258789,
          8.800000190734863,
          9.130000114440918,
          9.140000343322754,
          9.369999885559082,
          9.829999923706055,
          9.880000114440918,
          10.140000343322754,
          10.220000267028809,
          10.220000267028809,
          10.050000190734863,
          10.130000114440918,
          9.960000038146973,
          9.869999885559082,
          10.039999961853027,
          10.119999885559082,
          10.010000228881836,
          9.899999618530273,
          9.649999618530273
         ],
         "increasing": {
          "line": {
           "color": "#008000"
          }
         },
         "low": [
          7.670000076293945,
          7.690000057220459,
          7.710000038146973,
          7.769999980926514,
          7.820000171661377,
          7.800000190734863,
          7.739999771118164,
          7.889999866485596,
          8.510000228881836,
          8.350000381469727,
          8.34000015258789,
          8.40999984741211,
          8.260000228881836,
          8.369999885559082,
          8.489999771118164,
          8.75,
          8.819999694824219,
          8.859999656677246,
          8.90999984741211,
          8.729999542236328,
          8.789999961853027,
          8.579999923706055,
          8.609999656677246,
          8.640000343322754,
          8.65999984741211,
          8.510000228881836,
          8.430000305175781,
          8.460000038146973,
          8.579999923706055,
          8.619999885559082,
          8.619999885559082,
          8.449999809265137,
          8.460000038146973,
          8.640000343322754,
          8.630000114440918,
          8.640000343322754,
          8.479999542236328,
          8.520000457763672,
          8.5600004196167,
          8.479999542236328,
          8.529999732971191,
          8.430000305175781,
          8.550000190734863,
          8.489999771118164,
          8.470000267028809,
          8.489999771118164,
          8.489999771118164,
          8.529999732971191,
          8.59000015258789,
          8.789999961853027,
          8.619999885559082,
          8.630000114440918,
          8.649999618530273,
          8.770000457763672,
          8.829999923706055,
          8.640000343322754,
          8.600000381469727,
          8.59000015258789,
          8.600000381469727,
          8.739999771118164,
          8.8100004196167,
          8.640000343322754,
          8.529999732971191,
          8.510000228881836,
          8.329999923706055,
          8.369999885559082,
          8.470000267028809,
          8.5,
          8.489999771118164,
          8.40999984741211,
          8.100000381469727,
          7.980000019073486,
          7.869999885559082,
          7.880000114440918,
          7.929999828338623,
          7.920000076293945,
          8.069999694824219,
          8.300000190734863,
          8.199999809265137,
          8.239999771118164,
          8.319999694824219,
          8.380000114440918,
          8.430000305175781,
          8.5600004196167,
          8.59000015258789,
          8.600000381469727,
          8.729999542236328,
          8.899999618530273,
          8.84000015258789,
          9.270000457763672,
          9.619999885559082,
          9.720000267028809,
          9.8100004196167,
          9.920000076293945,
          9.869999885559082,
          9.890000343322754,
          9.789999961853027,
          9.6899995803833,
          9.75,
          9.890000343322754,
          9.579999923706055,
          9.420000076293945,
          9.460000038146973
         ],
         "name": "CAML3.SA",
         "open": [
          7.869999885559082,
          7.829999923706055,
          7.739999771118164,
          7.820000171661377,
          7.840000152587891,
          7.940000057220459,
          7.840000152587891,
          7.929999828338623,
          8.710000038146973,
          8.630000114440918,
          8.34000015258789,
          8.539999961853027,
          8.420000076293945,
          8.600000381469727,
          8.489999771118164,
          8.9399995803833,
          8.899999618530273,
          8.9399995803833,
          8.960000038146973,
          9.0600004196167,
          8.800000190734863,
          8.850000381469727,
          8.770000457763672,
          8.8100004196167,
          8.65999984741211,
          8.699999809265137,
          8.539999961853027,
          8.479999542236328,
          8.649999618530273,
          8.619999885559082,
          8.84000015258789,
          8.829999923706055,
          8.520000457763672,
          8.649999618530273,
          8.65999984741211,
          8.819999694824219,
          8.609999656677246,
          8.520000457763672,
          8.649999618530273,
          8.680000305175781,
          8.569999694824219,
          8.619999885559082,
          8.569999694824219,
          8.680000305175781,
          8.529999732971191,
          8.5600004196167,
          8.510000228881836,
          8.529999732971191,
          8.600000381469727,
          8.8100004196167,
          8.949999809265137,
          8.640000343322754,
          8.720000267028809,
          8.890000343322754,
          8.949999809265137,
          8.859999656677246,
          8.739999771118164,
          8.699999809265137,
          8.6899995803833,
          8.739999771118164,
          9,
          8.84000015258789,
          8.779999732971191,
          8.630000114440918,
          8.579999923706055,
          8.430000305175781,
          8.520000457763672,
          8.65999984741211,
          8.5600004196167,
          8.65999984741211,
          8.460000038146973,
          8.15999984741211,
          8.050000190734863,
          7.889999866485596,
          7.949999809265137,
          8,
          8.09000015258789,
          8.300000190734863,
          8.369999885559082,
          8.260000228881836,
          8.329999923706055,
          8.630000114440918,
          8.539999961853027,
          8.5600004196167,
          8.800000190734863,
          8.670000076293945,
          8.8100004196167,
          9.100000381469727,
          9.25,
          9.329999923706055,
          9.739999771118164,
          9.789999961853027,
          10.079999923706055,
          10.199999809265137,
          9.9399995803833,
          9.949999809265137,
          9.859999656677246,
          9.800000190734863,
          9.75,
          10,
          9.979999542236328,
          9.5600004196167,
          9.510000228881836
         ],
         "showlegend": true,
         "type": "candlestick",
         "x": [
          "2024-01-03",
          "2024-01-04",
          "2024-01-05",
          "2024-01-08",
          "2024-01-09",
          "2024-01-10",
          "2024-01-11",
          "2024-01-12",
          "2024-01-15",
          "2024-01-16",
          "2024-01-17",
          "2024-01-18",
          "2024-01-19",
          "2024-01-22",
          "2024-01-23",
          "2024-01-24",
          "2024-01-25",
          "2024-01-26",
          "2024-01-29",
          "2024-01-30",
          "2024-01-31",
          "2024-02-01",
          "2024-02-02",
          "2024-02-05",
          "2024-02-06",
          "2024-02-07",
          "2024-02-08",
          "2024-02-09",
          "2024-02-14",
          "2024-02-15",
          "2024-02-16",
          "2024-02-19",
          "2024-02-20",
          "2024-02-21",
          "2024-02-22",
          "2024-02-23",
          "2024-02-26",
          "2024-02-27",
          "2024-02-28",
          "2024-02-29",
          "2024-03-01",
          "2024-03-04",
          "2024-03-05",
          "2024-03-06",
          "2024-03-07",
          "2024-03-08",
          "2024-03-11",
          "2024-03-12",
          "2024-03-13",
          "2024-03-14",
          "2024-03-15",
          "2024-03-18",
          "2024-03-19",
          "2024-03-20",
          "2024-03-21",
          "2024-03-22",
          "2024-03-25",
          "2024-03-26",
          "2024-03-27",
          "2024-03-28",
          "2024-04-01",
          "2024-04-02",
          "2024-04-03",
          "2024-04-04",
          "2024-04-05",
          "2024-04-08",
          "2024-04-09",
          "2024-04-10",
          "2024-04-11",
          "2024-04-12",
          "2024-04-15",
          "2024-04-16",
          "2024-04-17",
          "2024-04-18",
          "2024-04-19",
          "2024-04-22",
          "2024-04-23",
          "2024-04-24",
          "2024-04-25",
          "2024-04-26",
          "2024-04-29",
          "2024-04-30",
          "2024-05-02",
          "2024-05-03",
          "2024-05-06",
          "2024-05-07",
          "2024-05-08",
          "2024-05-09",
          "2024-05-10",
          "2024-05-13",
          "2024-05-14",
          "2024-05-15",
          "2024-05-16",
          "2024-05-17",
          "2024-05-20",
          "2024-05-21",
          "2024-05-22",
          "2024-05-23",
          "2024-05-24",
          "2024-05-27",
          "2024-05-28",
          "2024-05-29",
          "2024-05-31"
         ],
         "yaxis": "y2"
        }
       ],
       "layout": {
        "height": 400,
        "legend": {
         "bgcolor": "#FFFFFF",
         "font": {
          "color": "#4D5663"
         }
        },
        "margin": {
         "b": 30,
         "l": 30,
         "r": 30,
         "t": 30
        },
        "paper_bgcolor": "#FFFFFF",
        "plot_bgcolor": "#FFFFFF",
        "showlegend": true,
        "template": {
         "data": {
          "bar": [
           {
            "error_x": {
             "color": "#2a3f5f"
            },
            "error_y": {
             "color": "#2a3f5f"
            },
            "marker": {
             "line": {
              "color": "#E5ECF6",
              "width": 0.5
             },
             "pattern": {
              "fillmode": "overlay",
              "size": 10,
              "solidity": 0.2
             }
            },
            "type": "bar"
           }
          ],
          "barpolar": [
           {
            "marker": {
             "line": {
              "color": "#E5ECF6",
              "width": 0.5
             },
             "pattern": {
              "fillmode": "overlay",
              "size": 10,
              "solidity": 0.2
             }
            },
            "type": "barpolar"
           }
          ],
          "carpet": [
           {
            "aaxis": {
             "endlinecolor": "#2a3f5f",
             "gridcolor": "white",
             "linecolor": "white",
             "minorgridcolor": "white",
             "startlinecolor": "#2a3f5f"
            },
            "baxis": {
             "endlinecolor": "#2a3f5f",
             "gridcolor": "white",
             "linecolor": "white",
             "minorgridcolor": "white",
             "startlinecolor": "#2a3f5f"
            },
            "type": "carpet"
           }
          ],
          "choropleth": [
           {
            "colorbar": {
             "outlinewidth": 0,
             "ticks": ""
            },
            "type": "choropleth"
           }
          ],
          "contour": [
           {
            "colorbar": {
             "outlinewidth": 0,
             "ticks": ""
            },
            "colorscale": [
             [
              0,
              "#0d0887"
             ],
             [
              0.1111111111111111,
              "#46039f"
             ],
             [
              0.2222222222222222,
              "#7201a8"
             ],
             [
              0.3333333333333333,
              "#9c179e"
             ],
             [
              0.4444444444444444,
              "#bd3786"
             ],
             [
              0.5555555555555556,
              "#d8576b"
             ],
             [
              0.6666666666666666,
              "#ed7953"
             ],
             [
              0.7777777777777778,
              "#fb9f3a"
             ],
             [
              0.8888888888888888,
              "#fdca26"
             ],
             [
              1,
              "#f0f921"
             ]
            ],
            "type": "contour"
           }
          ],
          "contourcarpet": [
           {
            "colorbar": {
             "outlinewidth": 0,
             "ticks": ""
            },
            "type": "contourcarpet"
           }
          ],
          "heatmap": [
           {
            "colorbar": {
             "outlinewidth": 0,
             "ticks": ""
            },
            "colorscale": [
             [
              0,
              "#0d0887"
             ],
             [
              0.1111111111111111,
              "#46039f"
             ],
             [
              0.2222222222222222,
              "#7201a8"
             ],
             [
              0.3333333333333333,
              "#9c179e"
             ],
             [
              0.4444444444444444,
              "#bd3786"
             ],
             [
              0.5555555555555556,
              "#d8576b"
             ],
             [
              0.6666666666666666,
              "#ed7953"
             ],
             [
              0.7777777777777778,
              "#fb9f3a"
             ],
             [
              0.8888888888888888,
              "#fdca26"
             ],
             [
              1,
              "#f0f921"
             ]
            ],
            "type": "heatmap"
           }
          ],
          "heatmapgl": [
           {
            "colorbar": {
             "outlinewidth": 0,
             "ticks": ""
            },
            "colorscale": [
             [
              0,
              "#0d0887"
             ],
             [
              0.1111111111111111,
              "#46039f"
             ],
             [
              0.2222222222222222,
              "#7201a8"
             ],
             [
              0.3333333333333333,
              "#9c179e"
             ],
             [
              0.4444444444444444,
              "#bd3786"
             ],
             [
              0.5555555555555556,
              "#d8576b"
             ],
             [
              0.6666666666666666,
              "#ed7953"
             ],
             [
              0.7777777777777778,
              "#fb9f3a"
             ],
             [
              0.8888888888888888,
              "#fdca26"
             ],
             [
              1,
              "#f0f921"
             ]
            ],
            "type": "heatmapgl"
           }
          ],
          "histogram": [
           {
            "marker": {
             "pattern": {
              "fillmode": "overlay",
              "size": 10,
              "solidity": 0.2
             }
            },
            "type": "histogram"
           }
          ],
          "histogram2d": [
           {
            "colorbar": {
             "outlinewidth": 0,
             "ticks": ""
            },
            "colorscale": [
             [
              0,
              "#0d0887"
             ],
             [
              0.1111111111111111,
              "#46039f"
             ],
             [
              0.2222222222222222,
              "#7201a8"
             ],
             [
              0.3333333333333333,
              "#9c179e"
             ],
             [
              0.4444444444444444,
              "#bd3786"
             ],
             [
              0.5555555555555556,
              "#d8576b"
             ],
             [
              0.6666666666666666,
              "#ed7953"
             ],
             [
              0.7777777777777778,
              "#fb9f3a"
             ],
             [
              0.8888888888888888,
              "#fdca26"
             ],
             [
              1,
              "#f0f921"
             ]
            ],
            "type": "histogram2d"
           }
          ],
          "histogram2dcontour": [
           {
            "colorbar": {
             "outlinewidth": 0,
             "ticks": ""
            },
            "colorscale": [
             [
              0,
              "#0d0887"
             ],
             [
              0.1111111111111111,
              "#46039f"
             ],
             [
              0.2222222222222222,
              "#7201a8"
             ],
             [
              0.3333333333333333,
              "#9c179e"
             ],
             [
              0.4444444444444444,
              "#bd3786"
             ],
             [
              0.5555555555555556,
              "#d8576b"
             ],
             [
              0.6666666666666666,
              "#ed7953"
             ],
             [
              0.7777777777777778,
              "#fb9f3a"
             ],
             [
              0.8888888888888888,
              "#fdca26"
             ],
             [
              1,
              "#f0f921"
             ]
            ],
            "type": "histogram2dcontour"
           }
          ],
          "mesh3d": [
           {
            "colorbar": {
             "outlinewidth": 0,
             "ticks": ""
            },
            "type": "mesh3d"
           }
          ],
          "parcoords": [
           {
            "line": {
             "colorbar": {
              "outlinewidth": 0,
              "ticks": ""
             }
            },
            "type": "parcoords"
           }
          ],
          "pie": [
           {
            "automargin": true,
            "type": "pie"
           }
          ],
          "scatter": [
           {
            "fillpattern": {
             "fillmode": "overlay",
             "size": 10,
             "solidity": 0.2
            },
            "type": "scatter"
           }
          ],
          "scatter3d": [
           {
            "line": {
             "colorbar": {
              "outlinewidth": 0,
              "ticks": ""
             }
            },
            "marker": {
             "colorbar": {
              "outlinewidth": 0,
              "ticks": ""
             }
            },
            "type": "scatter3d"
           }
          ],
          "scattercarpet": [
           {
            "marker": {
             "colorbar": {
              "outlinewidth": 0,
              "ticks": ""
             }
            },
            "type": "scattercarpet"
           }
          ],
          "scattergeo": [
           {
            "marker": {
             "colorbar": {
              "outlinewidth": 0,
              "ticks": ""
             }
            },
            "type": "scattergeo"
           }
          ],
          "scattergl": [
           {
            "marker": {
             "colorbar": {
              "outlinewidth": 0,
              "ticks": ""
             }
            },
            "type": "scattergl"
           }
          ],
          "scattermapbox": [
           {
            "marker": {
             "colorbar": {
              "outlinewidth": 0,
              "ticks": ""
             }
            },
            "type": "scattermapbox"
           }
          ],
          "scatterpolar": [
           {
            "marker": {
             "colorbar": {
              "outlinewidth": 0,
              "ticks": ""
             }
            },
            "type": "scatterpolar"
           }
          ],
          "scatterpolargl": [
           {
            "marker": {
             "colorbar": {
              "outlinewidth": 0,
              "ticks": ""
             }
            },
            "type": "scatterpolargl"
           }
          ],
          "scatterternary": [
           {
            "marker": {
             "colorbar": {
              "outlinewidth": 0,
              "ticks": ""
             }
            },
            "type": "scatterternary"
           }
          ],
          "surface": [
           {
            "colorbar": {
             "outlinewidth": 0,
             "ticks": ""
            },
            "colorscale": [
             [
              0,
              "#0d0887"
             ],
             [
              0.1111111111111111,
              "#46039f"
             ],
             [
              0.2222222222222222,
              "#7201a8"
             ],
             [
              0.3333333333333333,
              "#9c179e"
             ],
             [
              0.4444444444444444,
              "#bd3786"
             ],
             [
              0.5555555555555556,
              "#d8576b"
             ],
             [
              0.6666666666666666,
              "#ed7953"
             ],
             [
              0.7777777777777778,
              "#fb9f3a"
             ],
             [
              0.8888888888888888,
              "#fdca26"
             ],
             [
              1,
              "#f0f921"
             ]
            ],
            "type": "surface"
           }
          ],
          "table": [
           {
            "cells": {
             "fill": {
              "color": "#EBF0F8"
             },
             "line": {
              "color": "white"
             }
            },
            "header": {
             "fill": {
              "color": "#C8D4E3"
             },
             "line": {
              "color": "white"
             }
            },
            "type": "table"
           }
          ]
         },
         "layout": {
          "annotationdefaults": {
           "arrowcolor": "#2a3f5f",
           "arrowhead": 0,
           "arrowwidth": 1
          },
          "autotypenumbers": "strict",
          "coloraxis": {
           "colorbar": {
            "outlinewidth": 0,
            "ticks": ""
           }
          },
          "colorscale": {
           "diverging": [
            [
             0,
             "#8e0152"
            ],
            [
             0.1,
             "#c51b7d"
            ],
            [
             0.2,
             "#de77ae"
            ],
            [
             0.3,
             "#f1b6da"
            ],
            [
             0.4,
             "#fde0ef"
            ],
            [
             0.5,
             "#f7f7f7"
            ],
            [
             0.6,
             "#e6f5d0"
            ],
            [
             0.7,
             "#b8e186"
            ],
            [
             0.8,
             "#7fbc41"
            ],
            [
             0.9,
             "#4d9221"
            ],
            [
             1,
             "#276419"
            ]
           ],
           "sequential": [
            [
             0,
             "#0d0887"
            ],
            [
             0.1111111111111111,
             "#46039f"
            ],
            [
             0.2222222222222222,
             "#7201a8"
            ],
            [
             0.3333333333333333,
             "#9c179e"
            ],
            [
             0.4444444444444444,
             "#bd3786"
            ],
            [
             0.5555555555555556,
             "#d8576b"
            ],
            [
             0.6666666666666666,
             "#ed7953"
            ],
            [
             0.7777777777777778,
             "#fb9f3a"
            ],
            [
             0.8888888888888888,
             "#fdca26"
            ],
            [
             1,
             "#f0f921"
            ]
           ],
           "sequentialminus": [
            [
             0,
             "#0d0887"
            ],
            [
             0.1111111111111111,
             "#46039f"
            ],
            [
             0.2222222222222222,
             "#7201a8"
            ],
            [
             0.3333333333333333,
             "#9c179e"
            ],
            [
             0.4444444444444444,
             "#bd3786"
            ],
            [
             0.5555555555555556,
             "#d8576b"
            ],
            [
             0.6666666666666666,
             "#ed7953"
            ],
            [
             0.7777777777777778,
             "#fb9f3a"
            ],
            [
             0.8888888888888888,
             "#fdca26"
            ],
            [
             1,
             "#f0f921"
            ]
           ]
          },
          "colorway": [
           "#636efa",
           "#EF553B",
           "#00cc96",
           "#ab63fa",
           "#FFA15A",
           "#19d3f3",
           "#FF6692",
           "#B6E880",
           "#FF97FF",
           "#FECB52"
          ],
          "font": {
           "color": "#2a3f5f"
          },
          "geo": {
           "bgcolor": "white",
           "lakecolor": "white",
           "landcolor": "#E5ECF6",
           "showlakes": true,
           "showland": true,
           "subunitcolor": "white"
          },
          "hoverlabel": {
           "align": "left"
          },
          "hovermode": "closest",
          "mapbox": {
           "style": "light"
          },
          "paper_bgcolor": "white",
          "plot_bgcolor": "#E5ECF6",
          "polar": {
           "angularaxis": {
            "gridcolor": "white",
            "linecolor": "white",
            "ticks": ""
           },
           "bgcolor": "#E5ECF6",
           "radialaxis": {
            "gridcolor": "white",
            "linecolor": "white",
            "ticks": ""
           }
          },
          "scene": {
           "xaxis": {
            "backgroundcolor": "#E5ECF6",
            "gridcolor": "white",
            "gridwidth": 2,
            "linecolor": "white",
            "showbackground": true,
            "ticks": "",
            "zerolinecolor": "white"
           },
           "yaxis": {
            "backgroundcolor": "#E5ECF6",
            "gridcolor": "white",
            "gridwidth": 2,
            "linecolor": "white",
            "showbackground": true,
            "ticks": "",
            "zerolinecolor": "white"
           },
           "zaxis": {
            "backgroundcolor": "#E5ECF6",
            "gridcolor": "white",
            "gridwidth": 2,
            "linecolor": "white",
            "showbackground": true,
            "ticks": "",
            "zerolinecolor": "white"
           }
          },
          "shapedefaults": {
           "line": {
            "color": "#2a3f5f"
           }
          },
          "ternary": {
           "aaxis": {
            "gridcolor": "white",
            "linecolor": "white",
            "ticks": ""
           },
           "baxis": {
            "gridcolor": "white",
            "linecolor": "white",
            "ticks": ""
           },
           "bgcolor": "#E5ECF6",
           "caxis": {
            "gridcolor": "white",
            "linecolor": "white",
            "ticks": ""
           }
          },
          "title": {
           "x": 0.05
          },
          "xaxis": {
           "automargin": true,
           "gridcolor": "white",
           "linecolor": "white",
           "ticks": "",
           "title": {
            "standoff": 15
           },
           "zerolinecolor": "white",
           "zerolinewidth": 2
          },
          "yaxis": {
           "automargin": true,
           "gridcolor": "white",
           "linecolor": "white",
           "ticks": "",
           "title": {
            "standoff": 15
           },
           "zerolinecolor": "white",
           "zerolinewidth": 2
          }
         }
        },
        "title": {
         "font": {
          "color": "#4D5663"
         },
         "text": "CAML3.SA"
        },
        "width": 1000,
        "xaxis": {
         "anchor": "y2",
         "autorange": true,
         "gridcolor": "#E1E5ED",
         "range": [
          "2024-01-02 12:00",
          "2024-05-31 12:00"
         ],
         "rangebreaks": [
          {
           "bounds": [
            "sat",
            "mon"
           ]
          }
         ],
         "rangeselector": {
          "bgcolor": "rgba(150, 200, 250, 1)",
          "buttons": [
           {
            "count": 1,
            "label": "1m",
            "step": "month",
            "stepmode": "backward"
           },
           {
            "count": 1,
            "label": "1y",
            "step": "year",
            "stepmode": "backward"
           }
          ],
          "font": {
           "size": 13
          },
          "visible": false,
          "x": 0,
          "y": 0.9
         },
         "rangeslider": {
          "visible": false,
          "yaxis2": {},
          "yaxis3": {}
         },
         "showgrid": true,
         "tickfont": {
          "color": "#4D5663"
         },
         "title": {
          "font": {
           "color": "#4D5663"
          },
          "text": ""
         },
         "type": "date",
         "zerolinecolor": "#E1E5ED"
        },
        "yaxis": {
         "gridcolor": "#E1E5ED",
         "showgrid": true,
         "showticklabels": false,
         "tickfont": {
          "color": "#4D5663"
         },
         "title": {
          "font": {
           "color": "#4D5663"
          },
          "text": ""
         },
         "zerolinecolor": "#E1E5ED"
        },
        "yaxis2": {
         "autorange": true,
         "domain": [
          0.23,
          0.9
         ],
         "gridcolor": "#E1E5ED",
         "range": [
          7.277698911090728,
          10.834321458680648
         ],
         "showgrid": true,
         "tickfont": {
          "color": "#4D5663"
         },
         "title": {
          "font": {
           "color": "#4D5663"
          },
          "text": ""
         },
         "type": "linear",
         "zerolinecolor": "#E1E5ED"
        },
        "yaxis3": {
         "autorange": true,
         "domain": [
          0,
          0.15
         ],
         "gridcolor": "#E1E5ED",
         "range": [
          0,
          3028105.263157895
         ],
         "showgrid": true,
         "tickfont": {
          "color": "#4D5663"
         },
         "title": {
          "font": {
           "color": "#4D5663"
          },
          "text": ""
         },
         "type": "linear",
         "zerolinecolor": "#E1E5ED"
        }
       }
      },
      "image/png": "[encoded data removed]",
      "text/html": [
       "<div>                            <div id=\"6451c8db-6b05-407b-888b-8a80bb695a80\" class=\"plotly-graph-div\" style=\"height:400px; width:1000px;\"></div>            <script type=\"text/javascript\">                require([\"plotly\"], function(Plotly) {                    window.PLOTLYENV=window.PLOTLYENV || {};                                    if (document.getElementById(\"6451c8db-6b05-407b-888b-8a80bb695a80\")) {                    Plotly.newPlot(                        \"6451c8db-6b05-407b-888b-8a80bb695a80\",                        [{\"legendgroup\":\"BOLL(Close,20)\",\"line\":{\"color\":\"rgba(55, 128, 191, 1.0)\",\"dash\":\"solid\",\"shape\":\"linear\",\"width\":1.3},\"mode\":\"lines\",\"name\":\"BOLL(Close,20)\",\"showlegend\":true,\"text\":\"\",\"x\":[\"2024-01-03\",\"2024-01-04\",\"2024-01-05\",\"2024-01-08\",\"2024-01-09\",\"2024-01-10\",\"2024-01-11\",\"2024-01-12\",\"2024-01-15\",\"2024-01-16\",\"2024-01-17\",\"2024-01-18\",\"2024-01-19\",\"2024-01-22\",\"2024-01-23\",\"2024-01-24\",\"2024-01-25\",\"2024-01-26\",\"2024-01-29\",\"2024-01-30\",\"2024-01-31\",\"2024-02-01\",\"2024-02-02\",\"2024-02-05\",\"2024-02-06\",\"2024-02-07\",\"2024-02-08\",\"2024-02-09\",\"2024-02-14\",\"2024-02-15\",\"2024-02-16\",\"2024-02-19\",\"2024-02-20\",\"2024-02-21\",\"2024-02-22\",\"2024-02-23\",\"2024-02-26\",\"2024-02-27\",\"2024-02-28\",\"2024-02-29\",\"2024-03-01\",\"2024-03-04\",\"2024-03-05\",\"2024-03-06\",\"2024-03-07\",\"2024-03-08\",\"2024-03-11\",\"2024-03-12\",\"2024-03-13\",\"2024-03-14\",\"2024-03-15\",\"2024-03-18\",\"2024-03-19\",\"2024-03-20\",\"2024-03-21\",\"2024-03-22\",\"2024-03-25\",\"2024-03-26\",\"2024-03-27\",\"2024-03-28\",\"2024-04-01\",\"2024-04-02\",\"2024-04-03\",\"2024-04-04\",\"2024-04-05\",\"2024-04-08\",\"2024-04-09\",\"2024-04-10\",\"2024-04-11\",\"2024-04-12\",\"2024-04-15\",\"2024-04-16\",\"2024-04-17\",\"2024-04-18\",\"2024-04-19\",\"2024-04-22\",\"2024-04-23\",\"2024-04-24\",\"2024-04-25\",\"2024-04-26\",\"2024-04-29\",\"2024-04-30\",\"2024-05-02\",\"2024-05-03\",\"2024-05-06\",\"2024-05-07\",\"2024-05-08\",\"2024-05-09\",\"2024-05-10\",\"2024-05-13\",\"2024-05-14\",\"2024-05-15\",\"2024-05-16\",\"2024-05-17\",\"2024-05-20\",\"2024-05-21\",\"2024-05-22\",\"2024-05-23\",\"2024-05-24\",\"2024-05-27\",\"2024-05-28\",\"2024-05-29\",\"2024-05-31\"],\"y\":[\"\",\"\",\"\",\"\",\"\",\"\",\"\",\"\",\"\",\"\",\"\",\"\",\"\",\"\",\"\",\"\",\"\",\"\",\"\",8.414999890327454,8.467499899864197,8.516999888420106,8.565999865531921,8.608499836921691,8.649499821662904,8.6829998254776,8.71499981880188,8.71499981880188,8.709499835968018,8.732499837875366,8.74749984741211,8.751999855041504,8.755999851226807,8.76949987411499,8.765499877929688,8.754499912261963,8.733499908447266,8.719999933242798,8.701499891281127,8.687499904632569,8.677999877929688,8.668499898910522,8.659999895095826,8.651999902725219,8.643999910354614,8.646999883651734,8.646999883651734,8.643999910354614,8.651499938964843,8.656999921798706,8.646499919891358,8.654999923706054,8.667499923706055,8.67549991607666,8.676499938964843,8.681499910354614,8.687499904632569,8.686999893188476,8.69149990081787,8.712999868392945,8.720499897003174,8.73199987411499,8.729999876022339,8.732499885559083,8.72549991607666,8.721499919891357,8.728999948501587,8.726499938964844,8.721499919891357,8.695999908447266,8.673499917984008,8.640499925613403,8.592499947547912,8.544499945640563,8.501999926567077,8.471999955177306,8.454499983787537,8.439499974250793,8.413499999046326,8.381500029563904,8.371500039100647,8.351500058174134,8.348500084877013,8.362000107765198,8.374000096321106,8.38950011730194,8.408500123023988,8.432000136375427,8.460500121116638,8.530000138282777,8.606500124931335,8.70950014591217,8.820500135421753,8.920000123977662,9.020000123977661,9.111500120162964,9.186000108718872,9.256500148773194,9.343500137329102,9.42900013923645,9.476500129699707,9.53400011062622,9.58500008583069],\"yaxis\":\"y2\",\"type\":\"scatter\"},{\"legendgroup\":\"BOLL(Close,20)\",\"line\":{\"color\":\"rgba(55, 128, 191, 0.8999999999999999)\",\"dash\":\"solid\",\"shape\":\"linear\",\"width\":1.3},\"mode\":\"lines\",\"name\":\"UPPER(Close,20)\",\"showlegend\":false,\"text\":\"\",\"x\":[\"2024-01-03\",\"2024-01-04\",\"2024-01-05\",\"2024-01-08\",\"2024-01-09\",\"2024-01-10\",\"2024-01-11\",\"2024-01-12\",\"2024-01-15\",\"2024-01-16\",\"2024-01-17\",\"2024-01-18\",\"2024-01-19\",\"2024-01-22\",\"2024-01-23\",\"2024-01-24\",\"2024-01-25\",\"2024-01-26\",\"2024-01-29\",\"2024-01-30\",\"2024-01-31\",\"2024-02-01\",\"2024-02-02\",\"2024-02-05\",\"2024-02-06\",\"2024-02-07\",\"2024-02-08\",\"2024-02-09\",\"2024-02-14\",\"2024-02-15\",\"2024-02-16\",\"2024-02-19\",\"2024-02-20\",\"2024-02-21\",\"2024-02-22\",\"2024-02-23\",\"2024-02-26\",\"2024-02-27\",\"2024-02-28\",\"2024-02-29\",\"2024-03-01\",\"2024-03-04\",\"2024-03-05\",\"2024-03-06\",\"2024-03-07\",\"2024-03-08\",\"2024-03-11\",\"2024-03-12\",\"2024-03-13\",\"2024-03-14\",\"2024-03-15\",\"2024-03-18\",\"2024-03-19\",\"2024-03-20\",\"2024-03-21\",\"2024-03-22\",\"2024-03-25\",\"2024-03-26\",\"2024-03-27\",\"2024-03-28\",\"2024-04-01\",\"2024-04-02\",\"2024-04-03\",\"2024-04-04\",\"2024-04-05\",\"2024-04-08\",\"2024-04-09\",\"2024-04-10\",\"2024-04-11\",\"2024-04-12\",\"2024-04-15\",\"2024-04-16\",\"2024-04-17\",\"2024-04-18\",\"2024-04-19\",\"2024-04-22\",\"2024-04-23\",\"2024-04-24\",\"2024-04-25\",\"2024-04-26\",\"2024-04-29\",\"2024-04-30\",\"2024-05-02\",\"2024-05-03\",\"2024-05-06\",\"2024-05-07\",\"2024-05-08\",\"2024-05-09\",\"2024-05-10\",\"2024-05-13\",\"2024-05-14\",\"2024-05-15\",\"2024-05-16\",\"2024-05-17\",\"2024-05-20\",\"2024-05-21\",\"2024-05-22\",\"2024-05-23\",\"2024-05-24\",\"2024-05-27\",\"2024-05-28\",\"2024-05-29\",\"2024-05-31\"],\"y\":[\"\",\"\",\"\",\"\",\"\",\"\",\"\",\"\",\"\",\"\",\"\",\"\",\"\",\"\",\"\",\"\",\"\",\"\",\"\",9.345432536440782,9.377210501039418,9.370626096494089,9.366878248440798,9.333809900524518,9.297101833590123,9.212909481102166,9.101045972772939,9.101045972772939,9.097774089589384,9.092024530100073,9.096325090657665,9.086135148544633,9.082796219102839,9.071387030381782,9.061613414451326,9.052173440967955,9.032359278159335,9.003586181580866,8.93566365339115,8.922793709308841,8.895216716678394,8.889051766054182,8.868755566884085,8.868050570939088,8.859738580798245,8.856470492875534,8.856470492875534,8.851987866111633,8.866542323741248,8.89656978865395,8.872147608239294,8.874904266442531,8.913124784095068,8.943237018173408,8.946803919653021,8.952659278258203,8.949707186766782,8.949385763413936,8.957168910935195,8.999253348989514,9.012027655845351,9.014887335329995,9.01587812059755,9.011813023715565,9.028013902229372,9.034601511345155,9.029728806641021,9.031149792039747,9.026426042843863,9.005729823799967,9.061871627001688,9.120696099557712,9.149290516338066,9.146128358760246,9.13217437068338,9.111525930811581,9.092670734411,9.071405058757524,9.028993685166773,8.936563762825239,8.898268710216728,8.840377385872046,8.83139818041569,8.885534768649775,8.914814400419882,8.961200383376124,9.042693512836646,9.12647780115487,9.237931219218636,9.519354012794782,9.70880912727991,9.963470253354116,10.176538788677133,10.301974156766118,10.411084334510614,10.499603957897108,10.550457061764432,10.58653004454733,10.625854281337018,10.656490331301152,10.647667173350795,10.587583334565904,10.531316915460511],\"yaxis\":\"y2\",\"type\":\"scatter\"},{\"fill\":\"tonexty\",\"fillcolor\":\"rgba(55, 128, 191, 0.1)\",\"legendgroup\":\"BOLL(Close,20)\",\"line\":{\"color\":\"rgba(55, 128, 191, 0.7999999999999998)\",\"dash\":\"solid\",\"shape\":\"linear\",\"width\":1.3},\"mode\":\"lines\",\"name\":\"LOWER(Close,20)\",\"showlegend\":false,\"text\":\"\",\"x\":[\"2024-01-03\",\"2024-01-04\",\"2024-01-05\",\"2024-01-08\",\"2024-01-09\",\"2024-01-10\",\"2024-01-11\",\"2024-01-12\",\"2024-01-15\",\"2024-01-16\",\"2024-01-17\",\"2024-01-18\",\"2024-01-19\",\"2024-01-22\",\"2024-01-23\",\"2024-01-24\",\"2024-01-25\",\"2024-01-26\",\"2024-01-29\",\"2024-01-30\",\"2024-01-31\",\"2024-02-01\",\"2024-02-02\",\"2024-02-05\",\"2024-02-06\",\"2024-02-07\",\"2024-02-08\",\"2024-02-09\",\"2024-02-14\",\"2024-02-15\",\"2024-02-16\",\"2024-02-19\",\"2024-02-20\",\"2024-02-21\",\"2024-02-22\",\"2024-02-23\",\"2024-02-26\",\"2024-02-27\",\"2024-02-28\",\"2024-02-29\",\"2024-03-01\",\"2024-03-04\",\"2024-03-05\",\"2024-03-06\",\"2024-03-07\",\"2024-03-08\",\"2024-03-11\",\"2024-03-12\",\"2024-03-13\",\"2024-03-14\",\"2024-03-15\",\"2024-03-18\",\"2024-03-19\",\"2024-03-20\",\"2024-03-21\",\"2024-03-22\",\"2024-03-25\",\"2024-03-26\",\"2024-03-27\",\"2024-03-28\",\"2024-04-01\",\"2024-04-02\",\"2024-04-03\",\"2024-04-04\",\"2024-04-05\",\"2024-04-08\",\"2024-04-09\",\"2024-04-10\",\"2024-04-11\",\"2024-04-12\",\"2024-04-15\",\"2024-04-16\",\"2024-04-17\",\"2024-04-18\",\"2024-04-19\",\"2024-04-22\",\"2024-04-23\",\"2024-04-24\",\"2024-04-25\",\"2024-04-26\",\"2024-04-29\",\"2024-04-30\",\"2024-05-02\",\"2024-05-03\",\"2024-05-06\",\"2024-05-07\",\"2024-05-08\",\"2024-05-09\",\"2024-05-10\",\"2024-05-13\",\"2024-05-14\",\"2024-05-15\",\"2024-05-16\",\"2024-05-17\",\"2024-05-20\",\"2024-05-21\",\"2024-05-22\",\"2024-05-23\",\"2024-05-24\",\"2024-05-27\",\"2024-05-28\",\"2024-05-29\",\"2024-05-31\"],\"y\":[\"\",\"\",\"\",\"\",\"\",\"\",\"\",\"\",\"\",\"\",\"\",\"\",\"\",\"\",\"\",\"\",\"\",\"\",\"\",7.4845672442141264,7.557789298688978,7.6633736803461225,7.7651214826230435,7.883189773318866,8.001897809735684,8.153090169853034,8.328953664830822,8.328953664830822,8.321225582346651,8.37297514565066,8.398674604166555,8.417864561538375,8.429203483350776,8.467612717848198,8.46938634140805,8.45682638355597,8.434640538735197,8.43641368490473,8.467336129171104,8.452206099956296,8.460783039180981,8.447948031766861,8.451244223307567,8.43594923451135,8.428261239910983,8.437529274427934,8.437529274427934,8.436011954597594,8.436457554188438,8.41743005494346,8.420852231543423,8.435095580969577,8.421875063317042,8.407762813979913,8.406195958276665,8.410340542451024,8.425292622498356,8.424614022963016,8.425830890700546,8.426746387796376,8.428972138160997,8.449112412899986,8.444121631447127,8.4531867474026,8.42298592992395,8.40839832843756,8.428271090362152,8.421850085889941,8.416573796938852,8.386269993094565,8.285128208966329,8.160303751669094,8.035709378757758,7.94287153252088,7.871825482450773,7.832473979543031,7.8163292331640735,7.807594889744063,7.798006312925881,7.826436296302569,7.844731367984568,7.862622730476222,7.865601989338337,7.838465446880621,7.833185792222331,7.817799851227757,7.77430673321133,7.737522471595983,7.683069023014641,7.540646263770772,7.5041911225827596,7.455530038470224,7.464461482166373,7.538026091189206,7.628915913444708,7.723396282428819,7.821543155673313,7.926470252999058,8.061145993321185,8.201509947171749,8.305333086048618,8.480416886686536,8.638683256200867],\"yaxis\":\"y2\",\"type\":\"scatter\"},{\"line\":{\"color\":\"rgba(219, 64, 82, 1.0)\",\"dash\":\"solid\",\"shape\":\"linear\",\"width\":1.3},\"mode\":\"lines\",\"name\":\" SMA(20)\",\"text\":\"\",\"x\":[\"2024-01-03\",\"2024-01-04\",\"2024-01-05\",\"2024-01-08\",\"2024-01-09\",\"2024-01-10\",\"2024-01-11\",\"2024-01-12\",\"2024-01-15\",\"2024-01-16\",\"2024-01-17\",\"2024-01-18\",\"2024-01-19\",\"2024-01-22\",\"2024-01-23\",\"2024-01-24\",\"2024-01-25\",\"2024-01-26\",\"2024-01-29\",\"2024-01-30\",\"2024-01-31\",\"2024-02-01\",\"2024-02-02\",\"2024-02-05\",\"2024-02-06\",\"2024-02-07\",\"2024-02-08\",\"2024-02-09\",\"2024-02-14\",\"2024-02-15\",\"2024-02-16\",\"2024-02-19\",\"2024-02-20\",\"2024-02-21\",\"2024-02-22\",\"2024-02-23\",\"2024-02-26\",\"2024-02-27\",\"2024-02-28\",\"2024-02-29\",\"2024-03-01\",\"2024-03-04\",\"2024-03-05\",\"2024-03-06\",\"2024-03-07\",\"2024-03-08\",\"2024-03-11\",\"2024-03-12\",\"2024-03-13\",\"2024-03-14\",\"2024-03-15\",\"2024-03-18\",\"2024-03-19\",\"2024-03-20\",\"2024-03-21\",\"2024-03-22\",\"2024-03-25\",\"2024-03-26\",\"2024-03-27\",\"2024-03-28\",\"2024-04-01\",\"2024-04-02\",\"2024-04-03\",\"2024-04-04\",\"2024-04-05\",\"2024-04-08\",\"2024-04-09\",\"2024-04-10\",\"2024-04-11\",\"2024-04-12\",\"2024-04-15\",\"2024-04-16\",\"2024-04-17\",\"2024-04-18\",\"2024-04-19\",\"2024-04-22\",\"2024-04-23\",\"2024-04-24\",\"2024-04-25\",\"2024-04-26\",\"2024-04-29\",\"2024-04-30\",\"2024-05-02\",\"2024-05-03\",\"2024-05-06\",\"2024-05-07\",\"2024-05-08\",\"2024-05-09\",\"2024-05-10\",\"2024-05-13\",\"2024-05-14\",\"2024-05-15\",\"2024-05-16\",\"2024-05-17\",\"2024-05-20\",\"2024-05-21\",\"2024-05-22\",\"2024-05-23\",\"2024-05-24\",\"2024-05-27\",\"2024-05-28\",\"2024-05-29\",\"2024-05-31\"],\"y\":[\"\",\"\",\"\",\"\",\"\",\"\",\"\",\"\",\"\",\"\",\"\",\"\",\"\",\"\",\"\",\"\",\"\",\"\",\"\",8.414999890327454,8.467499899864197,8.516999888420106,8.565999865531921,8.608499836921691,8.649499821662904,8.6829998254776,8.71499981880188,8.71499981880188,8.709499835968018,8.732499837875366,8.74749984741211,8.751999855041504,8.755999851226807,8.76949987411499,8.765499877929688,8.754499912261963,8.733499908447266,8.719999933242798,8.701499891281127,8.687499904632569,8.677999877929688,8.668499898910522,8.659999895095826,8.651999902725219,8.643999910354614,8.646999883651734,8.646999883651734,8.643999910354614,8.651499938964843,8.656999921798706,8.646499919891358,8.654999923706054,8.667499923706055,8.67549991607666,8.676499938964843,8.681499910354614,8.687499904632569,8.686999893188476,8.69149990081787,8.712999868392945,8.720499897003174,8.73199987411499,8.729999876022339,8.732499885559083,8.72549991607666,8.721499919891357,8.728999948501587,8.726499938964844,8.721499919891357,8.695999908447266,8.673499917984008,8.640499925613403,8.592499947547912,8.544499945640563,8.501999926567077,8.471999955177306,8.454499983787537,8.439499974250793,8.413499999046326,8.381500029563904,8.371500039100647,8.351500058174134,8.348500084877013,8.362000107765198,8.374000096321106,8.38950011730194,8.408500123023988,8.432000136375427,8.460500121116638,8.530000138282777,8.606500124931335,8.70950014591217,8.820500135421753,8.920000123977662,9.020000123977661,9.111500120162964,9.186000108718872,9.256500148773194,9.343500137329102,9.42900013923645,9.476500129699707,9.53400011062622,9.58500008583069],\"yaxis\":\"y2\",\"type\":\"scatter\"},{\"marker\":{\"color\":[\"#db4052\",\"#db4052\",\"#008000\",\"#db4052\",\"#008000\",\"#db4052\",\"#008000\",\"#008000\",\"#008000\",\"#db4052\",\"#008000\",\"#db4052\",\"#008000\",\"#db4052\",\"#008000\",\"#db4052\",\"#008000\",\"#db4052\",\"#008000\",\"#db4052\",\"#008000\",\"#db4052\",\"#008000\",\"#db4052\",\"#008000\",\"#db4052\",\"#008000\",\"#008000\",\"#db4052\",\"#008000\",\"#db4052\",\"#db4052\",\"#008000\",\"#008000\",\"#008000\",\"#db4052\",\"#db4052\",\"#008000\",\"#008000\",\"#db4052\",\"#008000\",\"#db4052\",\"#008000\",\"#db4052\",\"#008000\",\"#db4052\",\"#db4052\",\"#008000\",\"#008000\",\"#008000\",\"#db4052\",\"#008000\",\"#008000\",\"#008000\",\"#db4052\",\"#db4052\",\"#db4052\",\"#008000\",\"#008000\",\"#008000\",\"#db4052\",\"#db4052\",\"#db4052\",\"#db4052\",\"#db4052\",\"#008000\",\"#008000\",\"#db4052\",\"#008000\",\"#db4052\",\"#db4052\",\"#db4052\",\"#db4052\",\"#008000\",\"#008000\",\"#008000\",\"#008000\",\"#008000\",\"#db4052\",\"#008000\",\"#008000\",\"#db4052\",\"#008000\",\"#008000\",\"#db4052\",\"#008000\",\"#008000\",\"#db4052\",\"#008000\",\"#008000\",\"#db4052\",\"#008000\",\"#008000\",\"#db4052\",\"#008000\",\"#db4052\",\"#db4052\",\"#db4052\",\"#008000\",\"#008000\",\"#db4052\",\"#db4052\",\"#008000\"],\"line\":{\"color\":[\"#db4052\",\"#db4052\",\"#008000\",\"#db4052\",\"#008000\",\"#db4052\",\"#008000\",\"#008000\",\"#008000\",\"#db4052\",\"#008000\",\"#db4052\",\"#008000\",\"#db4052\",\"#008000\",\"#db4052\",\"#008000\",\"#db4052\",\"#008000\",\"#db4052\",\"#008000\",\"#db4052\",\"#008000\",\"#db4052\",\"#008000\",\"#db4052\",\"#008000\",\"#008000\",\"#db4052\",\"#008000\",\"#db4052\",\"#db4052\",\"#008000\",\"#008000\",\"#008000\",\"#db4052\",\"#db4052\",\"#008000\",\"#008000\",\"#db4052\",\"#008000\",\"#db4052\",\"#008000\",\"#db4052\",\"#008000\",\"#db4052\",\"#db4052\",\"#008000\",\"#008000\",\"#008000\",\"#db4052\",\"#008000\",\"#008000\",\"#008000\",\"#db4052\",\"#db4052\",\"#db4052\",\"#008000\",\"#008000\",\"#008000\",\"#db4052\",\"#db4052\",\"#db4052\",\"#db4052\",\"#db4052\",\"#008000\",\"#008000\",\"#db4052\",\"#008000\",\"#db4052\",\"#db4052\",\"#db4052\",\"#db4052\",\"#008000\",\"#008000\",\"#008000\",\"#008000\",\"#008000\",\"#db4052\",\"#008000\",\"#008000\",\"#db4052\",\"#008000\",\"#008000\",\"#db4052\",\"#008000\",\"#008000\",\"#db4052\",\"#008000\",\"#008000\",\"#db4052\",\"#008000\",\"#008000\",\"#db4052\",\"#008000\",\"#db4052\",\"#db4052\",\"#db4052\",\"#008000\",\"#008000\",\"#db4052\",\"#db4052\",\"#008000\"],\"width\":1}},\"name\":\"Volume\",\"opacity\":0.8,\"orientation\":\"v\",\"text\":\"\",\"x\":[\"2024-01-03\",\"2024-01-04\",\"2024-01-05\",\"2024-01-08\",\"2024-01-09\",\"2024-01-10\",\"2024-01-11\",\"2024-01-12\",\"2024-01-15\",\"2024-01-16\",\"2024-01-17\",\"2024-01-18\",\"2024-01-19\",\"2024-01-22\",\"2024-01-23\",\"2024-01-24\",\"2024-01-25\",\"2024-01-26\",\"2024-01-29\",\"2024-01-30\",\"2024-01-31\",\"2024-02-01\",\"2024-02-02\",\"2024-02-05\",\"2024-02-06\",\"2024-02-07\",\"2024-02-08\",\"2024-02-09\",\"2024-02-14\",\"2024-02-15\",\"2024-02-16\",\"2024-02-19\",\"2024-02-20\",\"2024-02-21\",\"2024-02-22\",\"2024-02-23\",\"2024-02-26\",\"2024-02-27\",\"2024-02-28\",\"2024-02-29\",\"2024-03-01\",\"2024-03-04\",\"2024-03-05\",\"2024-03-06\",\"2024-03-07\",\"2024-03-08\",\"2024-03-11\",\"2024-03-12\",\"2024-03-13\",\"2024-03-14\",\"2024-03-15\",\"2024-03-18\",\"2024-03-19\",\"2024-03-20\",\"2024-03-21\",\"2024-03-22\",\"2024-03-25\",\"2024-03-26\",\"2024-03-27\",\"2024-03-28\",\"2024-04-01\",\"2024-04-02\",\"2024-04-03\",\"2024-04-04\",\"2024-04-05\",\"2024-04-08\",\"2024-04-09\",\"2024-04-10\",\"2024-04-11\",\"2024-04-12\",\"2024-04-15\",\"2024-04-16\",\"2024-04-17\",\"2024-04-18\",\"2024-04-19\",\"2024-04-22\",\"2024-04-23\",\"2024-04-24\",\"2024-04-25\",\"2024-04-26\",\"2024-04-29\",\"2024-04-30\",\"2024-05-02\",\"2024-05-03\",\"2024-05-06\",\"2024-05-07\",\"2024-05-08\",\"2024-05-09\",\"2024-05-10\",\"2024-05-13\",\"2024-05-14\",\"2024-05-15\",\"2024-05-16\",\"2024-05-17\",\"2024-05-20\",\"2024-05-21\",\"2024-05-22\",\"2024-05-23\",\"2024-05-24\",\"2024-05-27\",\"2024-05-28\",\"2024-05-29\",\"2024-05-31\"],\"y\":[1132800,604600,564800,415800,655800,440400,601100,2876700,1424500,871800,847700,598000,861600,890800,1541300,923300,467800,637700,694500,616600,550200,615400,568300,887400,474100,629200,716700,381200,580200,500500,697800,568400,556800,503800,476200,307300,555000,750300,364200,571700,393800,468300,396900,334200,220000,436800,224400,350300,841800,435500,511000,1521900,357600,305400,144700,316200,259100,359600,440500,905600,501900,467800,485900,392700,619500,640300,459200,773800,398200,476000,978900,516400,553500,403600,754400,322800,454700,352900,256100,177100,388000,260300,230300,745200,614100,458100,1247800,663400,1973500,1780000,1226000,1413100,1230400,668900,427400,839000,559000,789400,966400,562400,455500,886300,590100],\"yaxis\":\"y3\",\"type\":\"bar\"},{\"close\":[7.829999923706055,7.760000228881836,7.840000152587891,7.840000152587891,7.909999847412109,7.840000152587891,7.889999866485596,8.699999809265137,8.729999542236328,8.380000114440918,8.529999732971191,8.4399995803833,8.569999694824219,8.489999771118164,8.90999984741211,8.859999656677246,8.949999809265137,8.9399995803833,9.0600004196167,8.829999923706055,8.880000114440918,8.75,8.819999694824219,8.6899995803833,8.729999542236328,8.510000228881836,8.529999732971191,8.699999809265137,8.619999885559082,8.84000015258789,8.829999923706055,8.529999732971191,8.649999618530273,8.760000228881836,8.829999923706055,8.640000343322754,8.529999732971191,8.670000076293945,8.6899995803833,8.550000190734863,8.6899995803833,8.5600004196167,8.649999618530273,8.529999732971191,8.569999694824219,8.569999694824219,8.529999732971191,8.640000343322754,8.770000457763672,8.949999809265137,8.619999885559082,8.699999809265137,8.899999618530273,8.920000076293945,8.850000381469727,8.739999771118164,8.649999618530273,8.65999984741211,8.779999732971191,8.979999542236328,8.84000015258789,8.789999961853027,8.609999656677246,8.579999923706055,8.430000305175781,8.489999771118164,8.680000305175781,8.59000015258789,8.670000076293945,8.4399995803833,8.170000076293945,8.039999961853027,7.940000057220459,7.960000038146973,8.0,8.140000343322754,8.300000190734863,8.359999656677246,8.260000228881836,8.34000015258789,8.640000343322754,8.390000343322754,8.550000190734863,8.850000381469727,8.670000076293945,8.800000190734863,9.0600004196167,9.0600004196167,9.239999771118164,9.829999923706055,9.699999809265137,10.100000381469727,10.15999984741211,9.949999809265137,10.0,9.970000267028809,9.789999961853027,9.770000457763672,10.0,10.050000190734863,9.59000015258789,9.539999961853027,9.569999694824219],\"decreasing\":{\"line\":{\"color\":\"#db4052\"}},\"high\":[7.920000076293945,7.849999904632568,7.900000095367432,7.900000095367432,8.010000228881836,7.960000038146973,7.889999866485596,8.699999809265137,8.850000381469727,8.699999809265137,8.539999961853027,8.649999618530273,8.609999656677246,8.619999885559082,9.029999732971191,8.9399995803833,9.0,9.100000381469727,9.0600004196167,9.0600004196167,9.029999732971191,8.869999885559082,8.869999885559082,8.829999923706055,8.8100004196167,8.729999542236328,8.550000190734863,8.789999961853027,8.739999771118164,8.899999618530273,8.90999984741211,8.829999923706055,8.720000267028809,8.8100004196167,8.829999923706055,8.829999923706055,8.640000343322754,8.670000076293945,8.6899995803833,8.739999771118164,8.6899995803833,8.729999542236328,8.739999771118164,8.720000267028809,8.569999694824219,8.680000305175781,8.579999923706055,8.6899995803833,8.930000305175781,8.970000267028809,8.949999809265137,8.760000228881836,8.899999618530273,8.930000305175781,8.960000038146973,8.869999885559082,8.739999771118164,8.739999771118164,8.779999732971191,9.1899995803833,9.1899995803833,8.869999885559082,8.779999732971191,8.699999809265137,8.59000015258789,8.510000228881836,8.699999809265137,8.699999809265137,8.720000267028809,8.65999984741211,8.5,8.15999984741211,8.140000343322754,8.039999961853027,8.100000381469727,8.170000076293945,8.399999618530273,8.520000457763672,8.390000343322754,8.390000343322754,8.640000343322754,8.630000114440918,8.569999694824219,8.9399995803833,8.84000015258789,8.800000190734863,9.130000114440918,9.140000343322754,9.369999885559082,9.829999923706055,9.880000114440918,10.140000343322754,10.220000267028809,10.220000267028809,10.050000190734863,10.130000114440918,9.960000038146973,9.869999885559082,10.039999961853027,10.119999885559082,10.010000228881836,9.899999618530273,9.649999618530273],\"increasing\":{\"line\":{\"color\":\"#008000\"}},\"low\":[7.670000076293945,7.690000057220459,7.710000038146973,7.769999980926514,7.820000171661377,7.800000190734863,7.739999771118164,7.889999866485596,8.510000228881836,8.350000381469727,8.34000015258789,8.40999984741211,8.260000228881836,8.369999885559082,8.489999771118164,8.75,8.819999694824219,8.859999656677246,8.90999984741211,8.729999542236328,8.789999961853027,8.579999923706055,8.609999656677246,8.640000343322754,8.65999984741211,8.510000228881836,8.430000305175781,8.460000038146973,8.579999923706055,8.619999885559082,8.619999885559082,8.449999809265137,8.460000038146973,8.640000343322754,8.630000114440918,8.640000343322754,8.479999542236328,8.520000457763672,8.5600004196167,8.479999542236328,8.529999732971191,8.430000305175781,8.550000190734863,8.489999771118164,8.470000267028809,8.489999771118164,8.489999771118164,8.529999732971191,8.59000015258789,8.789999961853027,8.619999885559082,8.630000114440918,8.649999618530273,8.770000457763672,8.829999923706055,8.640000343322754,8.600000381469727,8.59000015258789,8.600000381469727,8.739999771118164,8.8100004196167,8.640000343322754,8.529999732971191,8.510000228881836,8.329999923706055,8.369999885559082,8.470000267028809,8.5,8.489999771118164,8.40999984741211,8.100000381469727,7.980000019073486,7.869999885559082,7.880000114440918,7.929999828338623,7.920000076293945,8.069999694824219,8.300000190734863,8.199999809265137,8.239999771118164,8.319999694824219,8.380000114440918,8.430000305175781,8.5600004196167,8.59000015258789,8.600000381469727,8.729999542236328,8.899999618530273,8.84000015258789,9.270000457763672,9.619999885559082,9.720000267028809,9.8100004196167,9.920000076293945,9.869999885559082,9.890000343322754,9.789999961853027,9.6899995803833,9.75,9.890000343322754,9.579999923706055,9.420000076293945,9.460000038146973],\"name\":\"CAML3.SA\",\"open\":[7.869999885559082,7.829999923706055,7.739999771118164,7.820000171661377,7.840000152587891,7.940000057220459,7.840000152587891,7.929999828338623,8.710000038146973,8.630000114440918,8.34000015258789,8.539999961853027,8.420000076293945,8.600000381469727,8.489999771118164,8.9399995803833,8.899999618530273,8.9399995803833,8.960000038146973,9.0600004196167,8.800000190734863,8.850000381469727,8.770000457763672,8.8100004196167,8.65999984741211,8.699999809265137,8.539999961853027,8.479999542236328,8.649999618530273,8.619999885559082,8.84000015258789,8.829999923706055,8.520000457763672,8.649999618530273,8.65999984741211,8.819999694824219,8.609999656677246,8.520000457763672,8.649999618530273,8.680000305175781,8.569999694824219,8.619999885559082,8.569999694824219,8.680000305175781,8.529999732971191,8.5600004196167,8.510000228881836,8.529999732971191,8.600000381469727,8.8100004196167,8.949999809265137,8.640000343322754,8.720000267028809,8.890000343322754,8.949999809265137,8.859999656677246,8.739999771118164,8.699999809265137,8.6899995803833,8.739999771118164,9.0,8.84000015258789,8.779999732971191,8.630000114440918,8.579999923706055,8.430000305175781,8.520000457763672,8.65999984741211,8.5600004196167,8.65999984741211,8.460000038146973,8.15999984741211,8.050000190734863,7.889999866485596,7.949999809265137,8.0,8.09000015258789,8.300000190734863,8.369999885559082,8.260000228881836,8.329999923706055,8.630000114440918,8.539999961853027,8.5600004196167,8.800000190734863,8.670000076293945,8.8100004196167,9.100000381469727,9.25,9.329999923706055,9.739999771118164,9.789999961853027,10.079999923706055,10.199999809265137,9.9399995803833,9.949999809265137,9.859999656677246,9.800000190734863,9.75,10.0,9.979999542236328,9.5600004196167,9.510000228881836],\"showlegend\":true,\"x\":[\"2024-01-03\",\"2024-01-04\",\"2024-01-05\",\"2024-01-08\",\"2024-01-09\",\"2024-01-10\",\"2024-01-11\",\"2024-01-12\",\"2024-01-15\",\"2024-01-16\",\"2024-01-17\",\"2024-01-18\",\"2024-01-19\",\"2024-01-22\",\"2024-01-23\",\"2024-01-24\",\"2024-01-25\",\"2024-01-26\",\"2024-01-29\",\"2024-01-30\",\"2024-01-31\",\"2024-02-01\",\"2024-02-02\",\"2024-02-05\",\"2024-02-06\",\"2024-02-07\",\"2024-02-08\",\"2024-02-09\",\"2024-02-14\",\"2024-02-15\",\"2024-02-16\",\"2024-02-19\",\"2024-02-20\",\"2024-02-21\",\"2024-02-22\",\"2024-02-23\",\"2024-02-26\",\"2024-02-27\",\"2024-02-28\",\"2024-02-29\",\"2024-03-01\",\"2024-03-04\",\"2024-03-05\",\"2024-03-06\",\"2024-03-07\",\"2024-03-08\",\"2024-03-11\",\"2024-03-12\",\"2024-03-13\",\"2024-03-14\",\"2024-03-15\",\"2024-03-18\",\"2024-03-19\",\"2024-03-20\",\"2024-03-21\",\"2024-03-22\",\"2024-03-25\",\"2024-03-26\",\"2024-03-27\",\"2024-03-28\",\"2024-04-01\",\"2024-04-02\",\"2024-04-03\",\"2024-04-04\",\"2024-04-05\",\"2024-04-08\",\"2024-04-09\",\"2024-04-10\",\"2024-04-11\",\"2024-04-12\",\"2024-04-15\",\"2024-04-16\",\"2024-04-17\",\"2024-04-18\",\"2024-04-19\",\"2024-04-22\",\"2024-04-23\",\"2024-04-24\",\"2024-04-25\",\"2024-04-26\",\"2024-04-29\",\"2024-04-30\",\"2024-05-02\",\"2024-05-03\",\"2024-05-06\",\"2024-05-07\",\"2024-05-08\",\"2024-05-09\",\"2024-05-10\",\"2024-05-13\",\"2024-05-14\",\"2024-05-15\",\"2024-05-16\",\"2024-05-17\",\"2024-05-20\",\"2024-05-21\",\"2024-05-22\",\"2024-05-23\",\"2024-05-24\",\"2024-05-27\",\"2024-05-28\",\"2024-05-29\",\"2024-05-31\"],\"yaxis\":\"y2\",\"type\":\"candlestick\"}],                        {\"height\":400,\"legend\":{\"bgcolor\":\"#FFFFFF\",\"font\":{\"color\":\"#4D5663\"}},\"margin\":{\"b\":30,\"l\":30,\"r\":30,\"t\":30},\"paper_bgcolor\":\"#FFFFFF\",\"plot_bgcolor\":\"#FFFFFF\",\"showlegend\":true,\"template\":{\"data\":{\"barpolar\":[{\"marker\":{\"line\":{\"color\":\"#E5ECF6\",\"width\":0.5},\"pattern\":{\"fillmode\":\"overlay\",\"size\":10,\"solidity\":0.2}},\"type\":\"barpolar\"}],\"bar\":[{\"error_x\":{\"color\":\"#2a3f5f\"},\"error_y\":{\"color\":\"#2a3f5f\"},\"marker\":{\"line\":{\"color\":\"#E5ECF6\",\"width\":0.5},\"pattern\":{\"fillmode\":\"overlay\",\"size\":10,\"solidity\":0.2}},\"type\":\"bar\"}],\"carpet\":[{\"aaxis\":{\"endlinecolor\":\"#2a3f5f\",\"gridcolor\":\"white\",\"linecolor\":\"white\",\"minorgridcolor\":\"white\",\"startlinecolor\":\"#2a3f5f\"},\"baxis\":{\"endlinecolor\":\"#2a3f5f\",\"gridcolor\":\"white\",\"linecolor\":\"white\",\"minorgridcolor\":\"white\",\"startlinecolor\":\"#2a3f5f\"},\"type\":\"carpet\"}],\"choropleth\":[{\"colorbar\":{\"outlinewidth\":0,\"ticks\":\"\"},\"type\":\"choropleth\"}],\"contourcarpet\":[{\"colorbar\":{\"outlinewidth\":0,\"ticks\":\"\"},\"type\":\"contourcarpet\"}],\"contour\":[{\"colorbar\":{\"outlinewidth\":0,\"ticks\":\"\"},\"colorscale\":[[0.0,\"#0d0887\"],[0.1111111111111111,\"#46039f\"],[0.2222222222222222,\"#7201a8\"],[0.3333333333333333,\"#9c179e\"],[0.4444444444444444,\"#bd3786\"],[0.5555555555555556,\"#d8576b\"],[0.6666666666666666,\"#ed7953\"],[0.7777777777777778,\"#fb9f3a\"],[0.8888888888888888,\"#fdca26\"],[1.0,\"#f0f921\"]],\"type\":\"contour\"}],\"heatmapgl\":[{\"colorbar\":{\"outlinewidth\":0,\"ticks\":\"\"},\"colorscale\":[[0.0,\"#0d0887\"],[0.1111111111111111,\"#46039f\"],[0.2222222222222222,\"#7201a8\"],[0.3333333333333333,\"#9c179e\"],[0.4444444444444444,\"#bd3786\"],[0.5555555555555556,\"#d8576b\"],[0.6666666666666666,\"#ed7953\"],[0.7777777777777778,\"#fb9f3a\"],[0.8888888888888888,\"#fdca26\"],[1.0,\"#f0f921\"]],\"type\":\"heatmapgl\"}],\"heatmap\":[{\"colorbar\":{\"outlinewidth\":0,\"ticks\":\"\"},\"colorscale\":[[0.0,\"#0d0887\"],[0.1111111111111111,\"#46039f\"],[0.2222222222222222,\"#7201a8\"],[0.3333333333333333,\"#9c179e\"],[0.4444444444444444,\"#bd3786\"],[0.5555555555555556,\"#d8576b\"],[0.6666666666666666,\"#ed7953\"],[0.7777777777777778,\"#fb9f3a\"],[0.8888888888888888,\"#fdca26\"],[1.0,\"#f0f921\"]],\"type\":\"heatmap\"}],\"histogram2dcontour\":[{\"colorbar\":{\"outlinewidth\":0,\"ticks\":\"\"},\"colorscale\":[[0.0,\"#0d0887\"],[0.1111111111111111,\"#46039f\"],[0.2222222222222222,\"#7201a8\"],[0.3333333333333333,\"#9c179e\"],[0.4444444444444444,\"#bd3786\"],[0.5555555555555556,\"#d8576b\"],[0.6666666666666666,\"#ed7953\"],[0.7777777777777778,\"#fb9f3a\"],[0.8888888888888888,\"#fdca26\"],[1.0,\"#f0f921\"]],\"type\":\"histogram2dcontour\"}],\"histogram2d\":[{\"colorbar\":{\"outlinewidth\":0,\"ticks\":\"\"},\"colorscale\":[[0.0,\"#0d0887\"],[0.1111111111111111,\"#46039f\"],[0.2222222222222222,\"#7201a8\"],[0.3333333333333333,\"#9c179e\"],[0.4444444444444444,\"#bd3786\"],[0.5555555555555556,\"#d8576b\"],[0.6666666666666666,\"#ed7953\"],[0.7777777777777778,\"#fb9f3a\"],[0.8888888888888888,\"#fdca26\"],[1.0,\"#f0f921\"]],\"type\":\"histogram2d\"}],\"histogram\":[{\"marker\":{\"pattern\":{\"fillmode\":\"overlay\",\"size\":10,\"solidity\":0.2}},\"type\":\"histogram\"}],\"mesh3d\":[{\"colorbar\":{\"outlinewidth\":0,\"ticks\":\"\"},\"type\":\"mesh3d\"}],\"parcoords\":[{\"line\":{\"colorbar\":{\"outlinewidth\":0,\"ticks\":\"\"}},\"type\":\"parcoords\"}],\"pie\":[{\"automargin\":true,\"type\":\"pie\"}],\"scatter3d\":[{\"line\":{\"colorbar\":{\"outlinewidth\":0,\"ticks\":\"\"}},\"marker\":{\"colorbar\":{\"outlinewidth\":0,\"ticks\":\"\"}},\"type\":\"scatter3d\"}],\"scattercarpet\":[{\"marker\":{\"colorbar\":{\"outlinewidth\":0,\"ticks\":\"\"}},\"type\":\"scattercarpet\"}],\"scattergeo\":[{\"marker\":{\"colorbar\":{\"outlinewidth\":0,\"ticks\":\"\"}},\"type\":\"scattergeo\"}],\"scattergl\":[{\"marker\":{\"colorbar\":{\"outlinewidth\":0,\"ticks\":\"\"}},\"type\":\"scattergl\"}],\"scattermapbox\":[{\"marker\":{\"colorbar\":{\"outlinewidth\":0,\"ticks\":\"\"}},\"type\":\"scattermapbox\"}],\"scatterpolargl\":[{\"marker\":{\"colorbar\":{\"outlinewidth\":0,\"ticks\":\"\"}},\"type\":\"scatterpolargl\"}],\"scatterpolar\":[{\"marker\":{\"colorbar\":{\"outlinewidth\":0,\"ticks\":\"\"}},\"type\":\"scatterpolar\"}],\"scatter\":[{\"fillpattern\":{\"fillmode\":\"overlay\",\"size\":10,\"solidity\":0.2},\"type\":\"scatter\"}],\"scatterternary\":[{\"marker\":{\"colorbar\":{\"outlinewidth\":0,\"ticks\":\"\"}},\"type\":\"scatterternary\"}],\"surface\":[{\"colorbar\":{\"outlinewidth\":0,\"ticks\":\"\"},\"colorscale\":[[0.0,\"#0d0887\"],[0.1111111111111111,\"#46039f\"],[0.2222222222222222,\"#7201a8\"],[0.3333333333333333,\"#9c179e\"],[0.4444444444444444,\"#bd3786\"],[0.5555555555555556,\"#d8576b\"],[0.6666666666666666,\"#ed7953\"],[0.7777777777777778,\"#fb9f3a\"],[0.8888888888888888,\"#fdca26\"],[1.0,\"#f0f921\"]],\"type\":\"surface\"}],\"table\":[{\"cells\":{\"fill\":{\"color\":\"#EBF0F8\"},\"line\":{\"color\":\"white\"}},\"header\":{\"fill\":{\"color\":\"#C8D4E3\"},\"line\":{\"color\":\"white\"}},\"type\":\"table\"}]},\"layout\":{\"annotationdefaults\":{\"arrowcolor\":\"#2a3f5f\",\"arrowhead\":0,\"arrowwidth\":1},\"autotypenumbers\":\"strict\",\"coloraxis\":{\"colorbar\":{\"outlinewidth\":0,\"ticks\":\"\"}},\"colorscale\":{\"diverging\":[[0,\"#8e0152\"],[0.1,\"#c51b7d\"],[0.2,\"#de77ae\"],[0.3,\"#f1b6da\"],[0.4,\"#fde0ef\"],[0.5,\"#f7f7f7\"],[0.6,\"#e6f5d0\"],[0.7,\"#b8e186\"],[0.8,\"#7fbc41\"],[0.9,\"#4d9221\"],[1,\"#276419\"]],\"sequential\":[[0.0,\"#0d0887\"],[0.1111111111111111,\"#46039f\"],[0.2222222222222222,\"#7201a8\"],[0.3333333333333333,\"#9c179e\"],[0.4444444444444444,\"#bd3786\"],[0.5555555555555556,\"#d8576b\"],[0.6666666666666666,\"#ed7953\"],[0.7777777777777778,\"#fb9f3a\"],[0.8888888888888888,\"#fdca26\"],[1.0,\"#f0f921\"]],\"sequentialminus\":[[0.0,\"#0d0887\"],[0.1111111111111111,\"#46039f\"],[0.2222222222222222,\"#7201a8\"],[0.3333333333333333,\"#9c179e\"],[0.4444444444444444,\"#bd3786\"],[0.5555555555555556,\"#d8576b\"],[0.6666666666666666,\"#ed7953\"],[0.7777777777777778,\"#fb9f3a\"],[0.8888888888888888,\"#fdca26\"],[1.0,\"#f0f921\"]]},\"colorway\":[\"#636efa\",\"#EF553B\",\"#00cc96\",\"#ab63fa\",\"#FFA15A\",\"#19d3f3\",\"#FF6692\",\"#B6E880\",\"#FF97FF\",\"#FECB52\"],\"font\":{\"color\":\"#2a3f5f\"},\"geo\":{\"bgcolor\":\"white\",\"lakecolor\":\"white\",\"landcolor\":\"#E5ECF6\",\"showlakes\":true,\"showland\":true,\"subunitcolor\":\"white\"},\"hoverlabel\":{\"align\":\"left\"},\"hovermode\":\"closest\",\"mapbox\":{\"style\":\"light\"},\"paper_bgcolor\":\"white\",\"plot_bgcolor\":\"#E5ECF6\",\"polar\":{\"angularaxis\":{\"gridcolor\":\"white\",\"linecolor\":\"white\",\"ticks\":\"\"},\"bgcolor\":\"#E5ECF6\",\"radialaxis\":{\"gridcolor\":\"white\",\"linecolor\":\"white\",\"ticks\":\"\"}},\"scene\":{\"xaxis\":{\"backgroundcolor\":\"#E5ECF6\",\"gridcolor\":\"white\",\"gridwidth\":2,\"linecolor\":\"white\",\"showbackground\":true,\"ticks\":\"\",\"zerolinecolor\":\"white\"},\"yaxis\":{\"backgroundcolor\":\"#E5ECF6\",\"gridcolor\":\"white\",\"gridwidth\":2,\"linecolor\":\"white\",\"showbackground\":true,\"ticks\":\"\",\"zerolinecolor\":\"white\"},\"zaxis\":{\"backgroundcolor\":\"#E5ECF6\",\"gridcolor\":\"white\",\"gridwidth\":2,\"linecolor\":\"white\",\"showbackground\":true,\"ticks\":\"\",\"zerolinecolor\":\"white\"}},\"shapedefaults\":{\"line\":{\"color\":\"#2a3f5f\"}},\"ternary\":{\"aaxis\":{\"gridcolor\":\"white\",\"linecolor\":\"white\",\"ticks\":\"\"},\"baxis\":{\"gridcolor\":\"white\",\"linecolor\":\"white\",\"ticks\":\"\"},\"bgcolor\":\"#E5ECF6\",\"caxis\":{\"gridcolor\":\"white\",\"linecolor\":\"white\",\"ticks\":\"\"}},\"title\":{\"x\":0.05},\"xaxis\":{\"automargin\":true,\"gridcolor\":\"white\",\"linecolor\":\"white\",\"ticks\":\"\",\"title\":{\"standoff\":15},\"zerolinecolor\":\"white\",\"zerolinewidth\":2},\"yaxis\":{\"automargin\":true,\"gridcolor\":\"white\",\"linecolor\":\"white\",\"ticks\":\"\",\"title\":{\"standoff\":15},\"zerolinecolor\":\"white\",\"zerolinewidth\":2}}},\"title\":{\"font\":{\"color\":\"#4D5663\"},\"text\":\"CAML3.SA\"},\"width\":1000,\"xaxis\":{\"anchor\":\"y2\",\"gridcolor\":\"#E1E5ED\",\"rangeselector\":{\"bgcolor\":\"rgba(150, 200, 250, 1)\",\"buttons\":[{\"count\":1,\"label\":\"1m\",\"step\":\"month\",\"stepmode\":\"backward\"},{\"count\":1,\"label\":\"1y\",\"step\":\"year\",\"stepmode\":\"backward\"}],\"font\":{\"size\":13},\"visible\":false,\"x\":0,\"y\":0.9},\"rangeslider\":{\"visible\":false},\"showgrid\":true,\"tickfont\":{\"color\":\"#4D5663\"},\"title\":{\"font\":{\"color\":\"#4D5663\"},\"text\":\"\"},\"zerolinecolor\":\"#E1E5ED\",\"rangebreaks\":[{\"bounds\":[\"sat\",\"mon\"]}]},\"yaxis\":{\"gridcolor\":\"#E1E5ED\",\"showgrid\":true,\"showticklabels\":false,\"tickfont\":{\"color\":\"#4D5663\"},\"title\":{\"font\":{\"color\":\"#4D5663\"},\"text\":\"\"},\"zerolinecolor\":\"#E1E5ED\"},\"yaxis2\":{\"domain\":[0.23,0.9],\"gridcolor\":\"#E1E5ED\",\"showgrid\":true,\"tickfont\":{\"color\":\"#4D5663\"},\"title\":{\"font\":{\"color\":\"#4D5663\"},\"text\":\"\"},\"zerolinecolor\":\"#E1E5ED\"},\"yaxis3\":{\"domain\":[0.0,0.15],\"gridcolor\":\"#E1E5ED\",\"showgrid\":true,\"tickfont\":{\"color\":\"#4D5663\"},\"title\":{\"font\":{\"color\":\"#4D5663\"},\"text\":\"\"},\"zerolinecolor\":\"#E1E5ED\"}},                        {\"responsive\": true}                    ).then(function(){\n",
       "                            \n",
       "var gd = document.getElementById('6451c8db-6b05-407b-888b-8a80bb695a80');\n",
       "var x = new MutationObserver(function (mutations, observer) {{\n",
       "        var display = window.getComputedStyle(gd).display;\n",
       "        if (!display || display === 'none') {{\n",
       "            console.log([gd, 'removed!']);\n",
       "            Plotly.purge(gd);\n",
       "            observer.disconnect();\n",
       "        }}\n",
       "}});\n",
       "\n",
       "// Listen for the removal of the full notebook cells\n",
       "var notebookContainer = gd.closest('#notebook-container');\n",
       "if (notebookContainer) {{\n",
       "    x.observe(notebookContainer, {childList: true});\n",
       "}}\n",
       "\n",
       "// Listen for the clearing of the current output cell\n",
       "var outputEl = gd.closest('.output');\n",
       "if (outputEl) {{\n",
       "    x.observe(outputEl, {childList: true});\n",
       "}}\n",
       "\n",
       "                        })                };                });            </script>        </div>"
      ]
     },
     "metadata": {},
     "output_type": "display_data"
    }
   ],
   "source": [
    "## grafico com o cufflinks\n",
    "qf = cf.QuantFig(dadosx, kind='candlestick', name=choice, title=choice)\n",
    "qf.add_bollinger_bands()\n",
    "qf.add_sma(name='sma20', color='red')\n",
    "qf.add_volume()    \n",
    "fig = qf.iplot(asFigure=True, dimensions=(1000, 400), up_color='green', down_color='red')\n",
    "\n",
    "##ajuste final do grafico\n",
    "#update_xaxes ou update_yaxes é do plotly, que gera a fig\n",
    "fig.update_xaxes(\n",
    "    rangebreaks=[\n",
    "        dict(bounds=[\"sat\", \"mon\"]), #hide weekends\n",
    "    ]\n",
    ")    \n",
    "#st.plotly_chart(fig)"
   ]
  },
  {
   "cell_type": "code",
   "execution_count": null,
   "id": "5fcbfef0-0ccc-4ae8-aedf-058e6be65f0a",
   "metadata": {},
   "outputs": [],
   "source": []
  }
 ],
 "metadata": {
  "kernelspec": {
   "display_name": "Python 3 (ipykernel)",
   "language": "python",
   "name": "python3"
  },
  "language_info": {
   "codemirror_mode": {
    "name": "ipython",
    "version": 3
   },
   "file_extension": ".py",
   "mimetype": "text/x-python",
   "name": "python",
   "nbconvert_exporter": "python",
   "pygments_lexer": "ipython3",
   "version": "3.11.9"
  }
 },
 "nbformat": 4,
 "nbformat_minor": 5
}
